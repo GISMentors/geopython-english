{
 "cells": [
  {
   "cell_type": "markdown",
   "metadata": {},
   "source": [
    "## Windowed reading and writing\n",
    "\n",
    "Sometimes, the input data you need to process are too big, to fit into computer's memory. You need to process the data *per-partes* - split into smaller chunks.\n",
    "\n",
    "This allowes you also to implement parallel processing of the data.\n",
    "\n",
    "Windows (`rasterio.Window`) are regular matrices of input raster file. They can be also defined with help of two coordinate pairs:\n",
    "\n",
    "```\n",
    "((first_row, last_row), (first_column, last_column))\n",
    "```\n",
    "\n",
    "or using `rasterio.Window` object\n",
    "\n",
    "```\n",
    "Window(first_column, first_row, width, height)\n",
    "```\n"
   ]
  },
  {
   "cell_type": "markdown",
   "metadata": {},
   "source": [
    "Example of data reading"
   ]
  },
  {
   "cell_type": "code",
   "execution_count": null,
   "metadata": {},
   "outputs": [],
   "source": [
    "import rasterio\n",
    "from rasterio.windows import Window\n",
    "\n",
    "with rasterio.open('data/B02-2018-05-06.tiff') as src:\n",
    "    w = src.read(1, window=Window(0, 0, 512, 256))\n",
    "\n",
    "print(w.shape)\n"
   ]
  },
  {
   "cell_type": "markdown",
   "metadata": {},
   "source": [
    "### Blocks\n",
    "\n",
    "Raster files are able to store data into block-chunks, for more efficient reading and writing in the future. They can be reached using the `block_windows()` function."
   ]
  },
  {
   "cell_type": "code",
   "execution_count": null,
   "metadata": {},
   "outputs": [],
   "source": [
    "\n",
    "with rasterio.open('data/B02-2018-05-06.tiff') as src:\n",
    "    for ji, window in src.block_windows(1):\n",
    "        r = src.read(1, window=window)\n",
    "        print(r.shape)"
   ]
  },
  {
   "cell_type": "markdown",
   "metadata": {},
   "source": [
    "You can check the command-line program `gdalinfo` for raster data source details\n",
    "\n",
    "```\n",
    "$ gdalinfo data/lsat7_2002_nir.tiff\n",
    "\n",
    "Driver: GTiff/GeoTIFF\n",
    "Files: ../../data/lsat7_2002_nir.tiff\n",
    "Size is 1287, 831\n",
    "...\n",
    "Band 1 Block=1287x1 Type=Float32, ColorInterp=Gray\n",
    "Band 2 Block=1287x1 Type=Float32, ColorInterp=Undefined\n",
    "Band 3 Block=1287x1 Type=Float32, ColorInterp=Undefined\n",
    "\n",
    "Vidíme, že náš rastr používá bloky o velikosti 1287x1 pixel - tedy celý řádek. Někdy může být efektivnější celý rastr převzorkovat a změnit nastavení bloků, než se pustíte samotného výpočtu. Toho docílíme nástrojem knihovny GDAL gdalwarp (viz školení Úvod Open Source GIS).\n",
    "\n",
    "gdalwarp -r mode -co TILED=YES -co BLOCKXSIZE=256 -co BLOCKYSIZE=256 data/lsat7_2002_nir.tiff outputs/lsat7-256-block.tiff\n",
    "\n",
    "gdalinfo outputs/lsat7-256-block.tiff\n",
    "...\n",
    "Band 1 Block=256x256 Type=Float32, ColorInterp=Gray\n",
    "Band 2 Block=256x256 Type=Float32, ColorInterp=Undefined\n",
    "Band 3 Block=256x256 Type=Float32, ColorInterp=Undefined\n",
    "```\n"
   ]
  },
  {
   "cell_type": "markdown",
   "metadata": {},
   "source": [
    "### Calculating NDVI using block windows\n",
    "\n",
    "This example shows, how to calculate NDVI raster data using window-based reading and writing. On large data files, this approach will perform faster."
   ]
  },
  {
   "cell_type": "code",
   "execution_count": null,
   "metadata": {},
   "outputs": [],
   "source": [
    "import rasterio\n",
    "from rasterio.windows import Window\n",
    "\n",
    "with rasterio.open('data/B04-2018-05-06.tiff') as red_file:\n",
    "    with rasterio.open('data/B08-2018-05-06.tiff') as nir_file:\n",
    "        \n",
    "        step = 256\n",
    "        kwargs = red_file.meta\n",
    "        kwargs.update(dtype=rasterio.float64, count=1, compress='lzw')\n",
    "\n",
    "        with rasterio.open('../outputs/ndvi-windows.tif', 'w', **kwargs) as dst:\n",
    "            slices = [(col_start, row_start, step, step) \\\n",
    "                    for col_start in list(range(0, src.width, 256)) \\\n",
    "                    for row_start in list(range(0, src.height, 256))\n",
    "        ]\n",
    "\n",
    "            # we are not going to use block_windows, since the blocks are 8x3117 pixels.\n",
    "            for slc in slices:\n",
    "                win = Window(*slc)\n",
    "                \n",
    "                nir = red_file.read(1, window=win) # band index starts with 1, not 0\n",
    "                vis = nir_file.read(1, window=win) \n",
    "\n",
    "                ndvi = (1.0*nir - 1.0*vis) / (1.0*nir + 1.0*vis)\n",
    "\n",
    "                write_win = Window(slc[0], slc[1], ndvi.shape[1], ndvi.shape[0])\n",
    "\n",
    "                dst.write_band(1, ndvi.astype(rasterio.float64), window=write_win)\n",
    "                \n"
   ]
  },
  {
   "cell_type": "markdown",
   "metadata": {},
   "source": [
    "You can now download data and display in QGIS [ndvi-windows.tif](../outputs/ndvi-windows.tif)"
   ]
  },
  {
   "cell_type": "markdown",
   "metadata": {},
   "source": [
    "---\n",
    "[<- NDVI interpretation](03_ndvi-interpretation.ipynb) | [Introduction to OWS ->](../03_ows/00_intro.ipynb)"
   ]
  }
 ],
 "metadata": {
  "kernelspec": {
   "display_name": "Python 3",
   "language": "python",
   "name": "python3"
  },
  "language_info": {
   "codemirror_mode": {
    "name": "ipython",
    "version": 3
   },
   "file_extension": ".py",
   "mimetype": "text/x-python",
   "name": "python",
   "nbconvert_exporter": "python",
   "pygments_lexer": "ipython3",
   "version": "3.6.3"
  }
 },
 "nbformat": 4,
 "nbformat_minor": 2
}
