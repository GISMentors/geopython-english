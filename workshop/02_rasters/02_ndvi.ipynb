{
 "cells": [
  {
   "cell_type": "markdown",
   "metadata": {},
   "source": [
    "## NDVI\n",
    "\n",
    "[Normalized difference vegetation index](https://en.wikipedia.org/wiki/Normalized_difference_vegetation_index)  is a simple graphical indicator that can be used to analyze remote sensing measurements - typically, but not necessarily, from a space platform and on its bases we can assess whether the target being observed contains live green vegetation or not.\n",
    "\n",
    "![photosyntesis](https://upload.wikimedia.org/wikipedia/commons/7/72/Par_action_spectrum.gif)\n",
    "Source: [Wipedia](https://en.wikipedia.org/wiki/Normalized_difference_vegetation_index#/media/File:Par_action_spectrum.gif)\n",
    "\n",
    "The pigment in plant leaves, chlorophyll, strongly absorbs visible light (from 0.4 to 0.7 µm) for use in photosynthesis. The cell structure of the leaves, on the other hand, strongly reflects near-infrared light (from 0.7 to 1.1 µm)\n",
    "\n",
    "    NDVI=(NIR−RED)/(NIR+RED)\n",
    "    \n",
    "    NIR - near-infrared (Band 8)\n",
    "    RED - red (Band 4)\n",
    "    \n",
    "By design, the NDVI itself thus varies between -1.0 and +1.0. In general, if there is much more reflected radiation in near-infrared wavelengths than in visible wavelengths, then the vegetation in that pixel is likely to be dense and may contain some type of forest.\n",
    "\n",
    "* A dense vegetation canopy will tend to positive values (say 0.3 to 0.8) while clouds and snow fields will be characterized by negative values of this index.\n",
    "* Free standing water (e.g., oceans, seas, lakes and rivers) which have a rather low reflectance in both spectral bands (at least away from shores) and thus result in very low positive or even slightly negative NDVI values,\n",
    "* Soils which generally exhibit a near-infrared spectral reflectance somewhat larger than the red, and thus tend to also generate rather small positive NDVI values (say 0.1 to 0.2).\n",
    "\n",
    "![ndvi](https://upload.wikimedia.org/wikipedia/commons/7/76/NDVI_102003.png)\n",
    "Examaple of NDVI map:NDVI in October over the British Isles (NOAA AVHRR), source: [Wikipedia](https://en.wikipedia.org/wiki/Normalized_difference_vegetation_index#/media/File:NDVI_102003.png)"
   ]
  },
  {
   "cell_type": "markdown",
   "metadata": {},
   "source": [
    "### Calculating NDVI using NumPy"
   ]
  },
  {
   "cell_type": "code",
   "execution_count": null,
   "metadata": {},
   "outputs": [],
   "source": [
    "import rasterio\n",
    "import PIL.Image\n",
    "\n",
    "with rasterio.open('data/B04-2018-05-06.tiff') as red_file:\n",
    "    with rasterio.open('data/B08-2018-05-06.tiff') as nir_file:\n",
    "        red = red_file.read()[0]\n",
    "        nir = nir_file.read()[0]\n",
    "        \n",
    "\n",
    "        ndvi = (nir*1.0-red*1.0)/(nir*1.0+red*1.0) # convert to float\n",
    "        print(nir)\n",
    "print(ndvi.max())\n",
    "print(ndvi.min())"
   ]
  },
  {
   "cell_type": "code",
   "execution_count": null,
   "metadata": {},
   "outputs": [],
   "source": [
    "bit8_green = ((ndvi+1)*128).astype('uint8') # convert to 0-256 values\n",
    "PIL.Image.fromarray(bit8_green, \"L\")"
   ]
  },
  {
   "cell_type": "markdown",
   "metadata": {},
   "source": [
    "### Writing data to output file\n",
    "\n",
    "Let's now create a new raster file, with LWZ compression, encoded in float64 type. The file shall have one band and will use the GeoTIFF format.\n",
    "\n"
   ]
  },
  {
   "cell_type": "code",
   "execution_count": null,
   "metadata": {},
   "outputs": [],
   "source": [
    "# have a look at red_file.meta for inspiration\n",
    "\n",
    "kwargs = {\n",
    "    \"count\": 1,\n",
    "    \"driver\": \"GTiff\",\n",
    "    \"crs\": \"+init=epsg:4326\",\n",
    "    \"dtype\": \"float32\",\n",
    "    \"width\": ndvi.shape[1],\n",
    "    \"height\": ndvi.shape[0],\n",
    "    \"nodata\": -9999,\n",
    "    \"transform\": (0.00017964690780272554, 0.0, 14.513969421386719, 0.0, -0.00011842547881016553, 48.866521538507754),\n",
    "    \"compress\": \"lzw\"\n",
    "}\n",
    "\n",
    "with rasterio.open('../outputs/ndvi.tif', 'w', **kwargs) as dst:\n",
    "   dst.write_band(1, ndvi.astype(rasterio.float32))\n",
    "    "
   ]
  },
  {
   "cell_type": "markdown",
   "metadata": {},
   "source": [
    "Download the [ndvi.tif](../outputs/ndvi.tif) and display in QGIS.\n",
    "\n",
    "![images/ndvi.png](images/ndvi.png)"
   ]
  },
  {
   "cell_type": "markdown",
   "metadata": {},
   "source": [
    "Can you now spot difference between Czech Republic and Austria?"
   ]
  },
  {
   "cell_type": "markdown",
   "metadata": {},
   "source": [
    "---\n",
    "[<- RasterIO](01_rasterio.ipynb) | [NDVI interpretation ->](03_ndvi-interpretation.ipynb)"
   ]
  }
 ],
 "metadata": {
  "kernelspec": {
   "display_name": "Python 3",
   "language": "python",
   "name": "python3"
  },
  "language_info": {
   "codemirror_mode": {
    "name": "ipython",
    "version": 3
   },
   "file_extension": ".py",
   "mimetype": "text/x-python",
   "name": "python",
   "nbconvert_exporter": "python",
   "pygments_lexer": "ipython3",
   "version": "3.6.3"
  }
 },
 "nbformat": 4,
 "nbformat_minor": 2
}
