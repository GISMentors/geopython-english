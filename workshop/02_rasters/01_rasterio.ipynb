{
 "cells": [
  {
   "cell_type": "markdown",
   "metadata": {},
   "source": [
    "# RasterIO\n",
    "\n",
    "[RasterIO](http://rasterio.readthedocs.io/en/latest/) library is another work of [Sean Gillies](https://github.com/sgillies), this time as one of the results of his activities in [MapBox](http://mapbox.com). RasterIO deals with raster geographic datasets. \n",
    "\n",
    "RasterIO converts the data to [NumPy](http://numpy.org) structures (similar to Fiona, which converts vectors to GeoJSON structure)."
   ]
  },
  {
   "cell_type": "markdown",
   "metadata": {},
   "source": [
    "## Our task\n",
    "\n",
    "Out task is to identify healty vegetation from other land cover from satellite image from the [Sentinel satelite](http://copernicus.eu/main/sentinels) of the [Copernicus programm](http://copernicus.eu/).\n",
    "\n",
    "### Input data\n",
    "Data are downloaded from the [Earth Explorer](https://apps.sentinel-hub.com/eo-browser/) browser server, which is collecting data from Setinel satellites and enables to perform various analysis on client (web-browser) site.\n",
    "\n",
    "Data are stored in the [data](data/) directory in a form of [GeoTiff](http://www.gdal.org/frmt_gtiff.html) files.\n",
    "\n",
    "* [data/B01-2018-05-06.tiff](data/B01-2018-05-06.tiff)\n",
    "* [data/B02-2018-05-06.tiff](data/B02-2018-05-06.tiff)\n",
    "* [data/B03-2018-05-06.tiff](data/B03-2018-05-06.tiff)\n",
    "* [data/B04-2018-05-06.tiff](data/B04-2018-05-06.tiff)\n",
    "* [data/B05-2018-05-06.tiff](data/B05-2018-05-06.tiff)\n",
    "* [data/B06-2018-05-06.tiff](data/B06-2018-05-06.tiff)\n",
    "* [data/B07-2018-05-06.tiff](data/B07-2018-05-06.tiff)\n",
    "* [data/B08-2018-05-06.tiff](data/B08-2018-05-06.tiff)\n",
    "* [data/B09-2018-05-06.tiff](data/B09-2018-05-06.tiff)\n",
    "* [data/B10-2018-05-06.tiff](data/B10-2018-05-06.tiff)\n",
    "* [data/B11-2018-05-06.tiff](data/B11-2018-05-06.tiff)\n",
    "* [data/B12-2018-05-06.tiff](data/B12-2018-05-06.tiff)\n",
    "* [data/B8A-2018-05-06.tiff](data/B8A-2018-05-06.tiff)\n",
    "\n",
    "You can download and open it using e.g. [QGIS](https://qgis.org)."
   ]
  },
  {
   "cell_type": "markdown",
   "metadata": {},
   "source": [
    "## Opening raster data set\n",
    "\n",
    "In following example, we will open GeoTIFF file, display some metadata and display using Jupyter notebook capabilities\n"
   ]
  },
  {
   "cell_type": "code",
   "execution_count": null,
   "metadata": {},
   "outputs": [],
   "source": [
    "import rasterio\n",
    "\n",
    "green = rasterio.open('data/B03-2018-05-06.tiff')\n",
    "\n",
    "# print metadata\n",
    "print(\"Bounds:\", green.bounds)\n",
    "\n",
    "print(\"Bands:\", green.count)\n",
    "\n",
    "print(\"Coordinte system:\", green.crs)\n",
    "\n",
    "print(\"GeoTIFF tags:\", green.tags())\n",
    "\n",
    "print(\"Raster dimensions:\", (green.width, green.height))\n",
    "\n",
    "print(\"Spatial resolution:\", green.res)"
   ]
  },
  {
   "cell_type": "markdown",
   "metadata": {},
   "source": [
    "How do we know, that `B03` is supposed to represent Green color band?\n",
    "\n",
    "This is described in the documentation, https://earth.esa.int/web/sentinel/user-guides/sentinel-2-msi/resolutions/spatial\n",
    "\n",
    "![spatial resolution](https://earth.esa.int/image/image_gallery?uuid=c5fa6c3e-2978-4fb8-ac95-3be9c5171be2&groupId=247904&t=1345630320883) SENTINEL-2 10 m spatial resolution bands: B2 (490 nm), B3 (560 nm), B4 (665 nm) and B8 (842 nm)\n",
    "\n",
    "\n",
    "![spatial resolution](https://earth.esa.int/image/image_gallery?uuid=15dad96b-be6a-4b04-931d-d8c4db39e9e2&groupId=247904&t=1345630328076) SENTINEL-2 20 m spatial resolution bands: B5 (705 nm), B6 (740 nm), B7 (783 nm), B8a (865 nm), B11 (1610 nm) and B12 (2190 nm)\n",
    "\n",
    "\n",
    "![spatial resolution](https://earth.esa.int/image/image_gallery?uuid=f6117fbe-1513-4a84-acc4-845e14e5c876&groupId=247904&t=1345630315020) SENTINEL-2 60 m spatial resolution bands: B1 (443 nm), B9 (940 nm) and B10 (1375 nm)\n",
    "\n",
    "Let's display the data using Jupyter Notebook:"
   ]
  },
  {
   "cell_type": "code",
   "execution_count": null,
   "metadata": {},
   "outputs": [],
   "source": [
    "import PIL.Image\n",
    "\n",
    "# we have to convert the data from 16bit to 8bit, so that PIL can work with it\n",
    "bit8_green = (green.read()[0]/256).astype('uint8')\n",
    "PIL.Image.fromarray(bit8_green, \"L\")"
   ]
  },
  {
   "cell_type": "markdown",
   "metadata": {},
   "source": [
    "You can still download QGIS and display the [file](data/B03-2018-05-06.tiff) directly\n",
    "\n",
    "![green](images/green.png)"
   ]
  },
  {
   "cell_type": "markdown",
   "metadata": {},
   "source": [
    "Let's read some more raster bands"
   ]
  },
  {
   "cell_type": "code",
   "execution_count": null,
   "metadata": {},
   "outputs": [],
   "source": [
    "import numpy\n",
    "\n",
    "red = rasterio.open('data/B04-2018-05-06.tiff')\n",
    "blue = rasterio.open('data/B02-2018-05-06.tiff')\n",
    "\n",
    "#image_data = numpy.array([\n",
    "#    (red.read()[0]/256).astype('uint8'),\n",
    "#    (green.read()[0]/256).astype('uint8'),\n",
    "#    (blue.read()[0]/256).astype('uint8')\n",
    "#])\n",
    "#PIL.Image.fromarray(image_data, \"RGB\")"
   ]
  },
  {
   "cell_type": "markdown",
   "metadata": {},
   "source": [
    "Description how to convert single bands to RGB image: https://gis.stackexchange.com/questions/257836/raw-sentinel-2-jp2-to-rgb-geotiff"
   ]
  },
  {
   "cell_type": "markdown",
   "metadata": {},
   "source": [
    "Can you spot difference between Czech Republic and Austria?"
   ]
  },
  {
   "cell_type": "markdown",
   "metadata": {},
   "source": [
    "---\n",
    "[<- Introduction to rasters](00_introduction.ipynb) | [NDVI ->](02_ndvi.ipynb)"
   ]
  }
 ],
 "metadata": {
  "kernelspec": {
   "display_name": "Python 3",
   "language": "python",
   "name": "python3"
  },
  "language_info": {
   "codemirror_mode": {
    "name": "ipython",
    "version": 3
   },
   "file_extension": ".py",
   "mimetype": "text/x-python",
   "name": "python",
   "nbconvert_exporter": "python",
   "pygments_lexer": "ipython3",
   "version": "3.6.5"
  }
 },
 "nbformat": 4,
 "nbformat_minor": 1
}
