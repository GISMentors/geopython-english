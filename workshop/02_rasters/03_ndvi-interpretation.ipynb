{
 "cells": [
  {
   "cell_type": "markdown",
   "metadata": {},
   "source": [
    "## Reclassification\n",
    "\n",
    "*The reclassification tools reclassify or change cell values to alternative values using a variety of methods. You can reclass one value at a time or groups of values at once using alternative fields; based on a criteria, such as specified intervals (for example, group the values into 10 intervals); or by area (for example, group the values into 10 groups containing the same number of cells). The tools are designed to allow you to easily change many values on an input raster to desired, specified, or alternative values.* -- [ESRI: Understanding reclassification](http://pro.arcgis.com/en/pro-app/tool-reference/spatial-analyst/understanding-reclassification.htm)\n",
    "\n",
    "Assigning new raster data values based on input raster map.\n"
   ]
  },
  {
   "cell_type": "markdown",
   "metadata": {},
   "source": [
    "### Task: Identify water bodies on input NDVI map\n",
    "\n",
    "*Free standing water (e.g. oceans, seas, lakes and rivers) which have a rather low reflectance in both spectral bands (at least away from shores) and thus result in very low positive or even slightly negative NDVI values,*\n",
    "\n",
    "Water: NDVI between <-0.1, 0.1>"
   ]
  },
  {
   "cell_type": "code",
   "execution_count": null,
   "metadata": {},
   "outputs": [],
   "source": [
    "import copy\n",
    "import rasterio\n",
    "import PIL.Image\n",
    "\n",
    "with rasterio.open('../../outputs/ndvi.tif') as ndvi:\n",
    "    water = ndvi.read()\n",
    "\n",
    "limit = 0.1\n",
    "water[water<-1*limit] = -9999\n",
    "water[water>limit] = -9999\n",
    "water[(water>= -1*limit) & (water <= limit)] = 1\n",
    "    \n",
    "PIL.Image.fromarray(water[0].astype(\"uint8\"), \"L\")"
   ]
  },
  {
   "cell_type": "code",
   "execution_count": null,
   "metadata": {},
   "outputs": [],
   "source": [
    "kwargs = ndvi.meta\n",
    "\n",
    "water[water == -9999] = 0\n",
    "\n",
    "kwargs.update(dtype=\"uint8\")\n",
    "kwargs.update(nodata=0)\n",
    "\n",
    "with rasterio.open('../../outputs/water.tif', 'w', **kwargs) as dst:\n",
    "   dst.write_band(1, water[0].astype(\"uint8\"))"
   ]
  },
  {
   "cell_type": "markdown",
   "metadata": {},
   "source": [
    "Download and look at the file in QGIS: [water.tif](../../outputs/water.tif)"
   ]
  },
  {
   "cell_type": "markdown",
   "metadata": {},
   "source": [
    "---\n",
    "[<- RasterIO](02_ndvi.ipynb) | [Windowed reading and writing ->](04_windows.ipynb)"
   ]
  }
 ],
 "metadata": {
  "kernelspec": {
   "display_name": "Python 3",
   "language": "python",
   "name": "python3"
  },
  "language_info": {
   "codemirror_mode": {
    "name": "ipython",
    "version": 3
   },
   "file_extension": ".py",
   "mimetype": "text/x-python",
   "name": "python",
   "nbconvert_exporter": "python",
   "pygments_lexer": "ipython3",
   "version": "3.6.3"
  }
 },
 "nbformat": 4,
 "nbformat_minor": 2
}
