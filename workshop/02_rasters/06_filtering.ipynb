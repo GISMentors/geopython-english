{
 "cells": [
  {
   "cell_type": "markdown",
   "metadata": {},
   "source": [
    "# Analysing satelite data\n",
    "\n",
    "## THIS NOTEBOOK IS NOT USED IN CURRENT VERSION OF THE WORKSHOP\n",
    "\n",
    "Just like any other image data\n",
    "\n",
    "Most of the examples are based on http://www.scipy-lectures.org/advanced/image_processing/\n",
    "\n",
    "## Data source\n",
    "\n",
    "\n",
    "## Bands description\n",
    "\n",
    "https://earth.esa.int/web/sentinel/user-guides/sentinel-2-msi/resolutions/spatial\n",
    "\n",
    "![](https://earth.esa.int/image/image_gallery?uuid=c5fa6c3e-2978-4fb8-ac95-3be9c5171be2&groupId=247904&t=1345630320883)\n",
    "\n",
    "SENTINEL-2 10 m spatial resolution bands: B2 (490 nm), B3 (560 nm), B4 (665 nm) and B8 (842 nm)\n",
    "\n",
    "![](https://earth.esa.int/image/image_gallery?uuid=15dad96b-be6a-4b04-931d-d8c4db39e9e2&groupId=247904&t=1345630328076)\n",
    "\n",
    "SENTINEL-2 20 m spatial resolution bands: B5 (705 nm), B6 (740 nm), B7 (783 nm), B8a (865 nm), B11 (1610 nm) and B12 (2190 nm)\n",
    "\n",
    "![](https://earth.esa.int/image/image_gallery?uuid=f6117fbe-1513-4a84-acc4-845e14e5c876&groupId=247904&t=1345630315020)\n",
    "\n",
    "SENTINEL-2 60 m spatial resolution bands: B1 (443 nm), B9 (940 nm) and B10 (1375 nm)"
   ]
  },
  {
   "cell_type": "markdown",
   "metadata": {},
   "source": [
    "## Displaying color composition"
   ]
  },
  {
   "cell_type": "code",
   "execution_count": null,
   "metadata": {},
   "outputs": [],
   "source": [
    "import rasterio\n",
    "import rasterio.plot\n",
    "\n",
    "blue_source = rasterio.open(\"../../data/sentinel/S2A_OPER_MSI_L1C_TL_EPA__20160605T113933_B02.tiff\")\n",
    "blue = blue_source.read()\n",
    "rasterio.plot.show(blue, cmap=\"gray\")"
   ]
  },
  {
   "cell_type": "code",
   "execution_count": null,
   "metadata": {},
   "outputs": [],
   "source": [
    "green_source = rasterio.open(\"../../data/sentinel/S2A_OPER_MSI_L1C_TL_EPA__20160605T113933_B03.tiff\")\n",
    "green = green_source.read()\n",
    "rasterio.plot.show(green, cmap=\"gray\")\n",
    "\n",
    "red_source = rasterio.open(\"../../data/sentinel/S2A_OPER_MSI_L1C_TL_EPA__20160605T113933_B04.tiff\")\n",
    "red = red_source.read()\n",
    "rasterio.plot.show(blue, cmap=\"gray\")"
   ]
  },
  {
   "cell_type": "code",
   "execution_count": null,
   "metadata": {},
   "outputs": [],
   "source": [
    "import rasterio.plot\n",
    "import numpy as np\n",
    "\n",
    "imgdata = np.array([red, green, blue])\n",
    "rasterio.plot.show(imgdata)"
   ]
  },
  {
   "cell_type": "markdown",
   "metadata": {},
   "source": [
    "![](../../images/rgb-sentinel2.png)"
   ]
  },
  {
   "cell_type": "markdown",
   "metadata": {},
   "source": [
    "## Calculate NDVI\n",
    "```\n",
    "NDVI=(NIR−VIS)/(NIR+VIS)\n",
    "```"
   ]
  },
  {
   "cell_type": "code",
   "execution_count": null,
   "metadata": {},
   "outputs": [],
   "source": [
    "nir_source = rasterio.open(\"../../data/sentinel/S2A_OPER_MSI_L1C_TL_EPA__20160605T113933_B08.tiff\")\n",
    "nir = nir_source.read()"
   ]
  },
  {
   "cell_type": "markdown",
   "metadata": {},
   "source": [
    "![](../../images/nir-sentinel2.png)"
   ]
  },
  {
   "cell_type": "code",
   "execution_count": null,
   "metadata": {},
   "outputs": [],
   "source": [
    "ndvi = (nir.astype(float)-red.astype(float))/(nir.astype(float)+red.astype(float))\n",
    "\n",
    "rasterio.plot.show(ndvi)\n",
    "rasterio.plot.show_hist(ndvi)"
   ]
  },
  {
   "cell_type": "code",
   "execution_count": null,
   "metadata": {},
   "outputs": [],
   "source": [
    "# save file\n",
    "kwargs = red_source.meta\n",
    "kwargs.update(dtype=rasterio.float64, count=1, compress='lzw')\n",
    "with rasterio.open('../../outputs/ndvi.tif', 'w', **kwargs) as dst:\n",
    "    dst.write_band(1, ndvi[0].astype(rasterio.float64))"
   ]
  },
  {
   "cell_type": "markdown",
   "metadata": {},
   "source": [
    "![](../../images/ndvi-sentinel2.png)"
   ]
  },
  {
   "cell_type": "markdown",
   "metadata": {},
   "source": [
    "## Image filtering\n",
    "\n",
    "Local filters: replace the value of pixels by a function of the values of neighboring pixels.\n",
    "Neighbourhood: square (choose size), disk, or more complicated structuring element.\n",
    "\n",
    "### Ready to use filters\n",
    "\n",
    "* Gaussian\n",
    "* Median\n",
    "* Sobel\n",
    "* ..."
   ]
  },
  {
   "cell_type": "markdown",
   "metadata": {},
   "source": [
    "#### Gaussian filter\n"
   ]
  },
  {
   "cell_type": "code",
   "execution_count": null,
   "metadata": {},
   "outputs": [],
   "source": [
    "from scipy import ndimage\n",
    "\n",
    "blurred_red = ndimage.gaussian_filter(red, 3)\n",
    "rasterio.plot.show(red[0][300:400, 500:600])\n",
    "rasterio.plot.show(blurred_red[0][300:400, 500:600])"
   ]
  },
  {
   "cell_type": "markdown",
   "metadata": {},
   "source": [
    "#### Median filter"
   ]
  },
  {
   "cell_type": "code",
   "execution_count": null,
   "metadata": {},
   "outputs": [],
   "source": [
    "sharpen_red = ndimage.median_filter(red, 3)\n",
    "\n",
    "\n",
    "rasterio.plot.show(sharpen_red[0][300:400, 500:600])"
   ]
  },
  {
   "cell_type": "markdown",
   "metadata": {},
   "source": [
    "#### Sobel filter"
   ]
  },
  {
   "cell_type": "code",
   "execution_count": null,
   "metadata": {},
   "outputs": [],
   "source": [
    "sharpen_ndvi = ndimage.median_filter(ndvi, 3)\n",
    "sx = ndimage.sobel(ndvi[0], axis=0, mode='constant')\n",
    "sy = ndimage.sobel(ndvi[0], axis=1, mode='constant')\n",
    "sob = np.hypot(sx, sy)\n",
    "rasterio.plot.show(ndvi[0][300:400, 500:600])\n",
    "rasterio.plot.show(sob[300:400, 500:600])"
   ]
  },
  {
   "cell_type": "markdown",
   "metadata": {},
   "source": [
    "### Segmentation "
   ]
  },
  {
   "cell_type": "code",
   "execution_count": null,
   "metadata": {},
   "outputs": [],
   "source": [
    "rasterio.plot.show_hist(ndvi, bins=50)"
   ]
  },
  {
   "cell_type": "code",
   "execution_count": null,
   "metadata": {},
   "outputs": [],
   "source": [
    "water = ndvi[0] < 0.2\n",
    "rasterio.plot.show(water)\n",
    "print(water.sum())"
   ]
  },
  {
   "cell_type": "code",
   "execution_count": null,
   "metadata": {},
   "outputs": [],
   "source": [
    "# Remove small white regions\n",
    "open_img = ndimage.binary_opening(water)\n",
    "# Remove small black hole\n",
    "water_clear = ndimage.binary_closing(open_img)\n",
    "rasterio.plot.show(water_clear)\n",
    "print(water_clear.sum())"
   ]
  }
 ],
 "metadata": {
  "kernelspec": {
   "display_name": "Python 3",
   "language": "python",
   "name": "python3"
  },
  "language_info": {
   "codemirror_mode": {
    "name": "ipython",
    "version": 3
   },
   "file_extension": ".py",
   "mimetype": "text/x-python",
   "name": "python",
   "nbconvert_exporter": "python",
   "pygments_lexer": "ipython3",
   "version": "3.6.3"
  }
 },
 "nbformat": 4,
 "nbformat_minor": 2
}
