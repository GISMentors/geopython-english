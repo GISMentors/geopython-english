{
 "cells": [
  {
   "cell_type": "markdown",
   "metadata": {},
   "source": [
    "# Raster data introduction\n",
    "\n",
    "## Raster data\n",
    "\n",
    "Raster data are stored as a grid of values. There are many satellites orbiting the Earth and the photographs they take are raster data that can be viewed in a GIS. They are usually used as a representation of more continuously-changing phenomenons.\n",
    "\n",
    "<img src=\"https://upload.wikimedia.org/wikipedia/commons/7/78/Podgorica_1999_Kosovo_War.jpg\" width=\"400\" />\n",
    "Aerial image [Wikipedia](https://en.wikipedia.org/wiki/Aerial_photography#/media/File:Podgorica_1999_Kosovo_War.jpg)\n",
    "\n",
    "<img src=\"https://www.sentinel-hub.com/sites/default/files/styles/large/public/field/image/ndvi_agroit_blog.jpg?itok=GPKBbhTM\" width=\"400\" />\n",
    "Sattelite image ([Sentinel Hub](https://www.sentinel-hub.com/blog/building-added-value-services-top-sentinel-hub))\n",
    "\n",
    "<img src=\"https://gisgeography.com/wp-content/uploads/2016/04/SRTM.png\" width=\"400\" />\n",
    "Digital elevation model [GISGeography.com](https://gisgeography.com/free-global-dem-data-sources/)\n",
    "\n",
    "Raster data are stored in a form of matrix of cells with X and Y coordinates. Each cell contains number representing the occurence of some phenomenon (elevation, light reflection, temperatur, ...). The value can be represented by color.\n",
    "\n",
    "<img src=\"http://les-ejk.cz/skoleni/grass/uvod/_images/raster-detail-detail.png\" width=\"400\" />\n",
    "\n",
    "## Raster data tools\n",
    "\n",
    "Traditionally, we use [GDAL](http://gdal.org) library for interacting with raster data. Lately, [numpy](http://www.numpy.org/) became popular too, as well as [RasterIO](http://rasterio.readthedocs.io/en/latest/intro.html).\n",
    "\n",
    "This workshop will focus on RasterIO and GDAL. [RasterIO](http://rasterio.readthedocs.io/en/latest/intro.html) is maitained by [Sean Gillies](https://github.com/sgillies). It adds new layer on top of GDAL, which is more compliant to what is common in Python. Compared to RasterIO, with OGR more low-level data access can be achieved.\n",
    "\n",
    "Raster data can be much bigger then vector data and therefore workflow has to be adjusted. \n",
    "\n",
    "Usually, GDAL library is used for interacting with raster data. GDAL is low-level library and accesses the data with not so efficient, yet scalable and stable way. Alternative to GDAL is RasterIO library (which is build on top of GDAL too). We can see there analogy to OGR and Fiona librarys we already mentioned.\n"
   ]
  },
  {
   "cell_type": "markdown",
   "metadata": {},
   "source": [
    "---\n",
    "[<- Highway over protected areas](../01_vectors/05_highway_over_protected_areas.ipynb) | [RasterIO ->](01_rasterio.ipynb)"
   ]
  }
 ],
 "metadata": {
  "kernelspec": {
   "display_name": "Python 3",
   "language": "python",
   "name": "python3"
  },
  "language_info": {
   "codemirror_mode": {
    "name": "ipython",
    "version": 3
   },
   "file_extension": ".py",
   "mimetype": "text/x-python",
   "name": "python",
   "nbconvert_exporter": "python",
   "pygments_lexer": "ipython3",
   "version": "3.6.3"
  }
 },
 "nbformat": 4,
 "nbformat_minor": 1
}
