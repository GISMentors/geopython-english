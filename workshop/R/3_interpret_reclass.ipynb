{
 "cells": [
  {
   "cell_type": "markdown",
   "metadata": {},
   "source": [
    "Praktický úkol\n",
    "---------------------"
   ]
  },
  {
   "cell_type": "markdown",
   "metadata": {},
   "source": [
    "**V následující úloze si ukážeme praktický příklad využití družicových dat. Na základě rozdílu NDVI indexů z let 2006 a 2011, vyhodnotíme požkození lesa. Snímky jsou s výřezu Landsat 5 TM, z oblasti, kde došlo k požkození (větrný polom, a kůrovcová kalamita).**"
   ]
  },
  {
   "cell_type": "code",
   "execution_count": null,
   "metadata": {},
   "outputs": [],
   "source": [
    "library(raster)"
   ]
  },
  {
   "cell_type": "markdown",
   "metadata": {},
   "source": [
    "Nejdříve zkusíme vizuálně porovnat snímky ve viditelných RBG barvách:"
   ]
  },
  {
   "cell_type": "code",
   "execution_count": null,
   "metadata": {},
   "outputs": [],
   "source": [
    "rgb_2006<-stack(\"../../data/landsat/20060831_rgb.tif\")"
   ]
  },
  {
   "cell_type": "code",
   "execution_count": null,
   "metadata": {
    "scrolled": false
   },
   "outputs": [],
   "source": [
    "plotRGB(rgb_2006,r=3,g=2,b=1,stretch=\"lin\")"
   ]
  },
  {
   "cell_type": "code",
   "execution_count": null,
   "metadata": {},
   "outputs": [],
   "source": [
    "rgb_2011<-stack(\"../../data/landsat/20110914_rgb.tif\")\n",
    "plotRGB(rgb_2011,r=3,g=2,b=1,stretch=\"lin\")"
   ]
  },
  {
   "cell_type": "markdown",
   "metadata": {},
   "source": [
    "Vvtvoříme RasterStack se dvěma rastry - ndvi indexy z let 2006 a 2011. NDVI jsou vypočteny se stejných snímků jako předchozí RGB."
   ]
  },
  {
   "cell_type": "code",
   "execution_count": null,
   "metadata": {},
   "outputs": [],
   "source": [
    "dat_s<-stack(list.files(path=\"../../data/landsat/\", pattern=\"clip\",full.name=T))"
   ]
  },
  {
   "cell_type": "code",
   "execution_count": null,
   "metadata": {},
   "outputs": [],
   "source": [
    "dat_s"
   ]
  },
  {
   "cell_type": "code",
   "execution_count": null,
   "metadata": {},
   "outputs": [],
   "source": [
    "names(dat_s)<-c(\"ndvi_2006\",\"ndvi_2011\")\n",
    "dat_s"
   ]
  },
  {
   "cell_type": "markdown",
   "metadata": {},
   "source": [
    "**Vytvoříme rastr rozdílu NDVI**"
   ]
  },
  {
   "cell_type": "code",
   "execution_count": null,
   "metadata": {},
   "outputs": [],
   "source": [
    "diff<-dat_s[[2]]-dat_s[[1]]\n",
    "diff"
   ]
  },
  {
   "cell_type": "code",
   "execution_count": null,
   "metadata": {},
   "outputs": [],
   "source": [
    "plot(diff)"
   ]
  },
  {
   "cell_type": "code",
   "execution_count": null,
   "metadata": {
    "scrolled": true
   },
   "outputs": [],
   "source": [
    "hist(diff,nclass=100)"
   ]
  },
  {
   "cell_type": "markdown",
   "metadata": {},
   "source": [
    "Jednou z možností jak data reklasifikovat je vytvoření masky - rastru s hodnotami 1 a 0. Toho lze v R docílít logické operace se zadáním prahové hodnoty."
   ]
  },
  {
   "cell_type": "code",
   "execution_count": null,
   "metadata": {
    "scrolled": true
   },
   "outputs": [],
   "source": [
    "diff_500 <- diff < -500\n",
    "plot(diff_500)\n",
    "\n",
    "#nebo:\n",
    "#diff[diff > -1000] <- NA"
   ]
  },
  {
   "cell_type": "markdown",
   "metadata": {},
   "source": [
    "Další možností je funkce `raster::reclassify`, která nám vytvoří kategorizovaný rastr:"
   ]
  },
  {
   "cell_type": "code",
   "execution_count": null,
   "metadata": {},
   "outputs": [],
   "source": [
    "diff_reclass=reclassify(diff,c(-Inf,-500,-1,-500,1000,NA,1000,Inf,1))"
   ]
  },
  {
   "cell_type": "code",
   "execution_count": null,
   "metadata": {},
   "outputs": [],
   "source": [
    "diff_reclass"
   ]
  },
  {
   "cell_type": "code",
   "execution_count": null,
   "metadata": {},
   "outputs": [],
   "source": [
    "plot(diff_reclass,col=heat.colors(3))"
   ]
  },
  {
   "cell_type": "markdown",
   "metadata": {},
   "source": [
    "Na výsledný rastr, můžeme použít filtr pomocí `raster::focal`"
   ]
  },
  {
   "cell_type": "code",
   "execution_count": null,
   "metadata": {
    "scrolled": true
   },
   "outputs": [],
   "source": [
    "diff_500_filter<-focal(diff_500,matrix(1,9,9),fun=modal)\n",
    "plot(diff_500_filter)"
   ]
  },
  {
   "cell_type": "code",
   "execution_count": null,
   "metadata": {},
   "outputs": [],
   "source": [
    "writeRaster(diff_500_filter,\"damaged.tif\")"
   ]
  }
 ],
 "metadata": {
  "kernelspec": {
   "display_name": "R",
   "language": "R",
   "name": "ir"
  },
  "language_info": {
   "codemirror_mode": "r",
   "file_extension": ".r",
   "mimetype": "text/x-r-source",
   "name": "R",
   "pygments_lexer": "r",
   "version": "3.5.1"
  }
 },
 "nbformat": 4,
 "nbformat_minor": 2
}
