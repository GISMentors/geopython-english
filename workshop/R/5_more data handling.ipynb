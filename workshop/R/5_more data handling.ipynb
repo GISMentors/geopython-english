{
 "cells": [
  {
   "cell_type": "code",
   "execution_count": null,
   "metadata": {},
   "outputs": [],
   "source": [
    "#############\n",
    "#todo\n",
    "#############\n",
    "#CLIP\n",
    "crop\n",
    "\n",
    "#reproject\n",
    "\n",
    "spTransform\n",
    "\n",
    "#sampling z bodu\n",
    "    #nahrát body    \n",
    "    #nasamplovat hodnoty k bodum\n",
    "\n",
    "s<-extract(st_prox,point,sp=T)\n",
    "\n",
    "\n",
    "#zonal statistika\n",
    "    #polygony prumery\n",
    "\n",
    "\n",
    "#maskovani/mraky\n",
    "\n",
    "\n"
   ]
  }
 ],
 "metadata": {
  "kernelspec": {
   "display_name": "R",
   "language": "R",
   "name": "ir"
  },
  "language_info": {
   "codemirror_mode": "r",
   "file_extension": ".r",
   "mimetype": "text/x-r-source",
   "name": "R",
   "pygments_lexer": "r",
   "version": "3.5.1"
  }
 },
 "nbformat": 4,
 "nbformat_minor": 2
}
