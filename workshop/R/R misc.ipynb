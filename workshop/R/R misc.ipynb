{
 "cells": [
  {
   "cell_type": "markdown",
   "metadata": {},
   "source": [
    "**Stahování dat pomocí WFS**"
   ]
  },
  {
   "cell_type": "code",
   "execution_count": null,
   "metadata": {},
   "outputs": [],
   "source": [
    "library(gdalUtils)\n",
    "library(rgdal)\n",
    "\n",
    "#adresa WFS serveru\n",
    "dsn <- \"WFS:http://inspire.geology.cz/geoserver/wfs\""
   ]
  },
  {
   "cell_type": "code",
   "execution_count": null,
   "metadata": {},
   "outputs": [],
   "source": [
    "ogrinfo(dsn, so=TRUE)"
   ]
  },
  {
   "cell_type": "code",
   "execution_count": null,
   "metadata": {},
   "outputs": [],
   "source": [
    "cgs_gu<-ogr2ogr(dsn, \"cgs_gu.shp\", \"gsmlp:cgs_gu_export\")"
   ]
  },
  {
   "cell_type": "code",
   "execution_count": null,
   "metadata": {},
   "outputs": [],
   "source": [
    "cgs_gu<-readOGR(\"cgs_gu.shp\")\n",
    "cgs_gu"
   ]
  },
  {
   "cell_type": "markdown",
   "metadata": {},
   "source": [
    "**Informace o WMS**"
   ]
  },
  {
   "cell_type": "code",
   "execution_count": null,
   "metadata": {},
   "outputs": [],
   "source": [
    "dsn <- \"WMS:http://geoportal.cuzk.cz/WMS_ORTOFOTO_PUB/WMService.aspx\"\n",
    "gdalinfo(dsn)"
   ]
  },
  {
   "cell_type": "markdown",
   "metadata": {},
   "source": [
    "**Urcyhlení výpočtů**"
   ]
  },
  {
   "cell_type": "code",
   "execution_count": null,
   "metadata": {},
   "outputs": [],
   "source": [
    "ndvi <- overlay(x, y, fun=function(x,y){(x-y)/(x+y)})\n",
    "plot(ndvi)"
   ]
  },
  {
   "cell_type": "code",
   "execution_count": 3,
   "metadata": {},
   "outputs": [],
   "source": [
    "#parallel - raster::clusteR\n",
    "?raster::beginCluster()"
   ]
  },
  {
   "cell_type": "code",
   "execution_count": null,
   "metadata": {},
   "outputs": [],
   "source": [
    "\n",
    "blockSize(ndvi)\n",
    "rasterOptions()\n",
    "#https://www.r-exercises.com/2017/12/13/spatial-data-analysis-introduction-to-raster-processing-part-2/\n",
    "\n",
    "#https://www.gis-blog.com/increasing-the-speed-of-raster-processing-with-r-part-13/"
   ]
  }
 ],
 "metadata": {
  "kernelspec": {
   "display_name": "R",
   "language": "R",
   "name": "ir"
  },
  "language_info": {
   "codemirror_mode": "r",
   "file_extension": ".r",
   "mimetype": "text/x-r-source",
   "name": "R",
   "pygments_lexer": "r",
   "version": "3.5.1"
  }
 },
 "nbformat": 4,
 "nbformat_minor": 2
}
