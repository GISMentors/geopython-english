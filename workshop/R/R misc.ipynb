{
 "cells": [
  {
   "cell_type": "markdown",
   "metadata": {},
   "source": [
    "**Stahování dat pomocí WFS**"
   ]
  },
  {
   "cell_type": "code",
   "execution_count": 1,
   "metadata": {},
   "outputs": [
    {
     "name": "stderr",
     "output_type": "stream",
     "text": [
      "Loading required package: sp\n",
      "rgdal: version: 1.3-4, (SVN revision 766)\n",
      " Geospatial Data Abstraction Library extensions to R successfully loaded\n",
      " Loaded GDAL runtime: GDAL 2.2.3, released 2017/11/20\n",
      " Path to GDAL shared files: /usr/share/gdal/2.2\n",
      " GDAL binary built with GEOS: TRUE \n",
      " Loaded PROJ.4 runtime: Rel. 4.9.3, 15 August 2016, [PJ_VERSION: 493]\n",
      " Path to PROJ.4 shared files: (autodetected)\n",
      " Linking to sp version: 1.3-1 \n"
     ]
    }
   ],
   "source": [
    "library(gdalUtils)\n",
    "library(rgdal)\n",
    "\n",
    "#adresa WFS serveru\n",
    "dsn <- \"WFS:http://inspire.geology.cz/geoserver/wfs\"\n",
    "\n",
    "\n"
   ]
  },
  {
   "cell_type": "code",
   "execution_count": 2,
   "metadata": {},
   "outputs": [
    {
     "data": {
      "text/html": [
       "<ol class=list-inline>\n",
       "\t<li>'INFO: Open of `WFS:http://inspire.geology.cz/geoserver/wfs\\''</li>\n",
       "\t<li><span style=white-space:pre-wrap>'      using driver `WFS\\' successful.'</span></li>\n",
       "\t<li>'Metadata:'</li>\n",
       "\t<li><span style=white-space:pre-wrap>'  ABSTRACT=Mapvé služby České geologické služby publikované pomocí geoserveru jsou převážně určeny pro mezinárodní projekty, které vyžadují specifická řešení a nelze při nich použít standardních služeb publikovaných na mapovém serveru České geologické služby (http://mapy.geology.cz)'</span></li>\n",
       "\t<li><span style=white-space:pre-wrap>'  PROVIDER_NAME=Česká geologická služba'</span></li>\n",
       "\t<li><span style=white-space:pre-wrap>'  TITLE=Mapové služby geoserveru České geologické služby-WFS'</span></li>\n",
       "\t<li>'1: gsmlp:CZE_CGS_500k_Fault'</li>\n",
       "\t<li>'2: gsmlp:CZE_CGS_500k_Geology_AGE'</li>\n",
       "\t<li>'3: gsmlp:CZE_CGS_500k_Geology_Lito'</li>\n",
       "\t<li>'4: ge:GeologicStructure (None)'</li>\n",
       "\t<li>'5: ge:GeologicUnit (None)'</li>\n",
       "\t<li>'6: gsmlb:GeologicUnit (None)'</li>\n",
       "\t<li>'7: gsmlgu:GeologicUnit (None)'</li>\n",
       "\t<li>'8: ge:MappedFeature'</li>\n",
       "\t<li>'9: gsml:MappedFeature'</li>\n",
       "\t<li>'10: gsmlb:MappedFeature'</li>\n",
       "\t<li>'11: gsmlp:cgs_gu_export'</li>\n",
       "</ol>\n"
      ],
      "text/latex": [
       "\\begin{enumerate*}\n",
       "\\item 'INFO: Open of `WFS:http://inspire.geology.cz/geoserver/wfs\\textbackslash{}''\n",
       "\\item '      using driver `WFS\\textbackslash{}' successful.'\n",
       "\\item 'Metadata:'\n",
       "\\item '  ABSTRACT=Mapvé služby České geologické služby publikované pomocí geoserveru jsou převážně určeny pro mezinárodní projekty, které vyžadují specifická řešení a nelze při nich použít standardních služeb publikovaných na mapovém serveru České geologické služby (http://mapy.geology.cz)'\n",
       "\\item '  PROVIDER\\_NAME=Česká geologická služba'\n",
       "\\item '  TITLE=Mapové služby geoserveru České geologické služby-WFS'\n",
       "\\item '1: gsmlp:CZE\\_CGS\\_500k\\_Fault'\n",
       "\\item '2: gsmlp:CZE\\_CGS\\_500k\\_Geology\\_AGE'\n",
       "\\item '3: gsmlp:CZE\\_CGS\\_500k\\_Geology\\_Lito'\n",
       "\\item '4: ge:GeologicStructure (None)'\n",
       "\\item '5: ge:GeologicUnit (None)'\n",
       "\\item '6: gsmlb:GeologicUnit (None)'\n",
       "\\item '7: gsmlgu:GeologicUnit (None)'\n",
       "\\item '8: ge:MappedFeature'\n",
       "\\item '9: gsml:MappedFeature'\n",
       "\\item '10: gsmlb:MappedFeature'\n",
       "\\item '11: gsmlp:cgs\\_gu\\_export'\n",
       "\\end{enumerate*}\n"
      ],
      "text/markdown": [
       "1. 'INFO: Open of `WFS:http://inspire.geology.cz/geoserver/wfs\\''\n",
       "2. <span style=white-space:pre-wrap>'      using driver `WFS\\' successful.'</span>\n",
       "3. 'Metadata:'\n",
       "4. <span style=white-space:pre-wrap>'  ABSTRACT=Mapvé služby České geologické služby publikované pomocí geoserveru jsou převážně určeny pro mezinárodní projekty, které vyžadují specifická řešení a nelze při nich použít standardních služeb publikovaných na mapovém serveru České geologické služby (http://mapy.geology.cz)'</span>\n",
       "5. <span style=white-space:pre-wrap>'  PROVIDER_NAME=Česká geologická služba'</span>\n",
       "6. <span style=white-space:pre-wrap>'  TITLE=Mapové služby geoserveru České geologické služby-WFS'</span>\n",
       "7. '1: gsmlp:CZE_CGS_500k_Fault'\n",
       "8. '2: gsmlp:CZE_CGS_500k_Geology_AGE'\n",
       "9. '3: gsmlp:CZE_CGS_500k_Geology_Lito'\n",
       "10. '4: ge:GeologicStructure (None)'\n",
       "11. '5: ge:GeologicUnit (None)'\n",
       "12. '6: gsmlb:GeologicUnit (None)'\n",
       "13. '7: gsmlgu:GeologicUnit (None)'\n",
       "14. '8: ge:MappedFeature'\n",
       "15. '9: gsml:MappedFeature'\n",
       "16. '10: gsmlb:MappedFeature'\n",
       "17. '11: gsmlp:cgs_gu_export'\n",
       "\n",
       "\n"
      ],
      "text/plain": [
       " [1] \"INFO: Open of `WFS:http://inspire.geology.cz/geoserver/wfs'\"                                                                                                                                                                                                                                \n",
       " [2] \"      using driver `WFS' successful.\"                                                                                                                                                                                                                                                       \n",
       " [3] \"Metadata:\"                                                                                                                                                                                                                                                                                  \n",
       " [4] \"  ABSTRACT=Mapvé služby České geologické služby publikované pomocí geoserveru jsou převážně určeny pro mezinárodní projekty, které vyžadují specifická řešení a nelze při nich použít standardních služeb publikovaných na mapovém serveru České geologické služby (http://mapy.geology.cz)\"\n",
       " [5] \"  PROVIDER_NAME=Česká geologická služba\"                                                                                                                                                                                                                                                    \n",
       " [6] \"  TITLE=Mapové služby geoserveru České geologické služby-WFS\"                                                                                                                                                                                                                               \n",
       " [7] \"1: gsmlp:CZE_CGS_500k_Fault\"                                                                                                                                                                                                                                                                \n",
       " [8] \"2: gsmlp:CZE_CGS_500k_Geology_AGE\"                                                                                                                                                                                                                                                          \n",
       " [9] \"3: gsmlp:CZE_CGS_500k_Geology_Lito\"                                                                                                                                                                                                                                                         \n",
       "[10] \"4: ge:GeologicStructure (None)\"                                                                                                                                                                                                                                                             \n",
       "[11] \"5: ge:GeologicUnit (None)\"                                                                                                                                                                                                                                                                  \n",
       "[12] \"6: gsmlb:GeologicUnit (None)\"                                                                                                                                                                                                                                                               \n",
       "[13] \"7: gsmlgu:GeologicUnit (None)\"                                                                                                                                                                                                                                                              \n",
       "[14] \"8: ge:MappedFeature\"                                                                                                                                                                                                                                                                        \n",
       "[15] \"9: gsml:MappedFeature\"                                                                                                                                                                                                                                                                      \n",
       "[16] \"10: gsmlb:MappedFeature\"                                                                                                                                                                                                                                                                    \n",
       "[17] \"11: gsmlp:cgs_gu_export\"                                                                                                                                                                                                                                                                    "
      ]
     },
     "metadata": {},
     "output_type": "display_data"
    }
   ],
   "source": [
    "ogrinfo(dsn, so=TRUE)"
   ]
  },
  {
   "cell_type": "code",
   "execution_count": 3,
   "metadata": {},
   "outputs": [],
   "source": [
    "cgs_gu<-ogr2ogr(dsn, \"cgs_gu.shp\", \"gsmlp:cgs_gu_export\")"
   ]
  },
  {
   "cell_type": "code",
   "execution_count": 4,
   "metadata": {},
   "outputs": [
    {
     "name": "stdout",
     "output_type": "stream",
     "text": [
      "OGR data source with driver: ESRI Shapefile \n",
      "Source: \"/home/kalab/gismentors/geopython-english/workshop/R/cgs_gu.shp\", layer: \"cgs_gu\"\n",
      "with 8119 features\n",
      "It has 5 fields\n"
     ]
    },
    {
     "data": {
      "text/plain": [
       "class       : SpatialPolygonsDataFrame \n",
       "features    : 8119 \n",
       "extent      : 4143993, 4617831, 2438559, 2707070  (xmin, xmax, ymin, ymax)\n",
       "coord. ref. : +proj=lcc +lat_1=35 +lat_2=65 +lat_0=52 +lon_0=10 +x_0=4000000 +y_0=2800000 +ellps=GRS80 +units=m +no_defs \n",
       "variables   : 5\n",
       "names       :                          gml_id, country, geolunitid,                                                 representa,                                                      represen_1 \n",
       "min values  :   cgs_gu_export.cgs_2008gm500_1,  CZ-CGS,      GU001, http://resource.geosciml.org/classifier/ics/ischart/Albian, http://inspire.ec.europa.eu/codelist/LithologyValue/amphibolite \n",
       "max values  : cgs_gu_export.cgs_2008gm500_999,  CZ-CGS,      GU430, http://resource.geosciml.org/classifier/ics/ischart/Visean,       http://inspire.ec.europa.eu/codelist/LithologyValue/wacke "
      ]
     },
     "metadata": {},
     "output_type": "display_data"
    }
   ],
   "source": [
    "cgs_gu<-readOGR(\"cgs_gu.shp\")\n",
    "cgs_gu"
   ]
  },
  {
   "cell_type": "markdown",
   "metadata": {},
   "source": [
    "**Informace o WMS**"
   ]
  },
  {
   "cell_type": "code",
   "execution_count": null,
   "metadata": {},
   "outputs": [],
   "source": [
    "dsn <- \"WMS:http://geoportal.cuzk.cz/WMS_ORTOFOTO_PUB/WMService.aspx\"\n",
    "gdalinfo(dsn)"
   ]
  },
  {
   "cell_type": "code",
   "execution_count": null,
   "metadata": {},
   "outputs": [],
   "source": [
    "\n",
    "#############\n",
    "##Performence\n",
    "#############\n",
    "blockSize(ndvi)\n",
    "rasterOptions()\n",
    "#https://www.r-exercises.com/2017/12/13/spatial-data-analysis-introduction-to-raster-processing-part-2/\n",
    "\n",
    "#https://www.gis-blog.com/increasing-the-speed-of-raster-processing-with-r-part-13/\n",
    "\n",
    "ndvi <- overlay(GewataB4, GewataB3, fun=function(x,y){(x-y)/(x+y)})\n",
    "plot(ndvi)"
   ]
  }
 ],
 "metadata": {
  "kernelspec": {
   "display_name": "R",
   "language": "R",
   "name": "ir"
  },
  "language_info": {
   "codemirror_mode": "r",
   "file_extension": ".r",
   "mimetype": "text/x-r-source",
   "name": "R",
   "pygments_lexer": "r",
   "version": "3.5.1"
  }
 },
 "nbformat": 4,
 "nbformat_minor": 2
}
