{
 "cells": [
  {
   "cell_type": "markdown",
   "metadata": {},
   "source": [
    "# GeoPython workshop (english)\n",
    "\n",
    "\n",
    "![GeoPython logo](http://www.gravatar.com/avatar/0cd33338517af73699fbdd3e5e53400b.png)\n",
    "\n",
    "Welcome to GeoPython workshop. This workshop should give you brief overview about how to use Python when working \n",
    "with geospatial data."
   ]
  },
  {
   "cell_type": "markdown",
   "metadata": {},
   "source": [
    "## Motivation\n",
    "\n",
    "Why to use Python anyway?\n",
    "\n",
    "* Python makes fun\n",
    "* You don't really have to learn Python - you simply write it\n",
    "* It is the most geo-positive programming language around\n",
    "* Batteries included - many tools at hand ([GDAL](http://gdal.org), [PROJ4](http://proj4.org), [Shapely](http://toblerity.org/shapely/manual.html), [Fiona](http://toblerity.org/fiona/manual.html), [Rasterio](https://rasterio.readthedocs.io/en/latest/intro.html), MapServer Python [MapScript](http://mapserver.org/mapscript/python.html), GeoServer [gsconfig](https://github.com/boundlessgeo/gsconfig), [OWSLib](https://geopython.github.io/OWSLib/), [PyWPS](http://pywps.org), [pycsw](http://pycsw.org), [...](https://geopython.qgis.io))\n",
    "* Support in desktop programs ([GRASS GIS](http://grass.osgeo.org) - PyGRASS, [Esri ArcGIS](http://esri.com) - arcpy, [QGIS](http://qgis.org) - PyQGIS, ...)\n",
    "* GIS is fun, everybody likes maps in the computer\n",
    "* ..."
   ]
  },
  {
   "cell_type": "markdown",
   "metadata": {},
   "source": [
    "## Working environment\n",
    "\n",
    "\n",
    "### Requirements\n",
    "\n",
    "We advice you to work in [Virtual environment](http://docs.python-guide.org/en/latest/dev/virtualenvs/). Check the [requirements.txt](../requirements.txt) file for the packages. You should be able to set `virtualenv` and install required packages using `pip install -r requirements.txt` \n",
    "\n",
    "Make sure, you also install [QGIS](http://qgis.org) GIS data viewer. Multiplatform open source desktop application for geospatial data.\n",
    "\n",
    "## Workshop data\n",
    "\n",
    "### Input data\n",
    "\n",
    "Data are located in each directory, so you should be able to access them by using `./data/file.xyz` \n",
    "\n",
    "### Ouput data\n",
    "\n",
    "Outputs should be located in `/data/USER_NAME` directory, each workshop attendee should create his/her own output directory.\n"
   ]
  },
  {
   "cell_type": "markdown",
   "metadata": {},
   "source": [
    "## Further reading\n",
    "\n",
    "### Online books\n",
    "\n",
    "* Gentle introduction to GIS: https://docs.qgis.org/2.8/en/docs/gentle_gis_introduction/\n",
    "* Python GDAL/OGR Cookbook: http://pcjericks.github.io/py-gdalogr-cookbook/\n",
    "* Shapely manual: http://toblerity.github.io/shapely/manual.html\n",
    "* Fiona manual: http://toblerity.org/fiona/\n",
    "* RasterIO manual: https://rasterio.readthedocs.io/en/latest/\n",
    "* Numpy image processing: http://www.scipy-lectures.org/advanced/image_processing/\n",
    "* Python Geospatial Development: http://www.packtpub.com/python-geospatial-development/book\n",
    "* ...\n",
    "\n",
    "### Forums and documentation\n",
    "\n",
    "The GIS Stack Exchange: http://gis.stackexchange.com/\n",
    "\n",
    "(http://gis.stackexchange.com/?tags=python)\n",
    "\n",
    "Last but not least, https://www.google.com\n",
    "\n",
    "## Table of content\n",
    "\n",
    "1. [Brief introduction to GIS](01_introduction_to_gis_for_programmers.ipynb)\n",
    "2. [Working with vector data](01_vectors/00_introduction.ipynb)\n",
    "3. [Working with raster data](02_rasters/00_introduction.ipynb)\n",
    "4. [Using web services](03_ows/00_introduction.ipynb)\n",
    "5. [Server programs](04_servers/00_introduction.ipynb)\n",
    "6. [GIS projections and coordinate reference systems](05_projections/00_introduction.ipynb)\n",
    "7. [Further reading and closing](further_reading.ipynb)\n",
    "\n",
    "\n",
    "## License\n",
    "\n",
    "This material is supposed to be distributed align with Creative Commons Attribution-ShareAlike 4.0 International License.\n",
    "\n",
    "\n",
    "![CC-BY-SA](images/cc-by-sa.png) **CC-BY-SA 4.0**\n",
    "\n",
    "## Metadata\n",
    "￼\n",
    "Workshop version: 0.2, 2018-05\n",
    "\n",
    "### Authors\n",
    "\n",
    "[GISMentors](http://gismentors.eu):\n",
    "\n",
    "* Jáchym Čepický jachym.cepicky opengeolabs.cz\n",
    "* Martin Landa martin.landa opengeolabs.cz\n",
    "* Luca Delucchi lucadeluge gmail.com\n",
    "\n",
    "### Source\n",
    "\n",
    "Workshop source can be found at: https://github.com/GISMentors/geopython-english\n",
    "\n",
    "---\n",
    "\n",
    "[Brief introduction to GIS ->](01_introduction_to_gis_for_programmers.ipynb)"
   ]
  }
 ],
 "metadata": {
  "kernelspec": {
   "display_name": "Python 3",
   "language": "python",
   "name": "python3"
  },
  "language_info": {
   "codemirror_mode": {
    "name": "ipython",
    "version": 3
   },
   "file_extension": ".py",
   "mimetype": "text/x-python",
   "name": "python",
   "nbconvert_exporter": "python",
   "pygments_lexer": "ipython3",
   "version": "3.6.3"
  }
 },
 "nbformat": 4,
 "nbformat_minor": 1
}
