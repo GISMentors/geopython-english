{
 "cells": [
  {
   "cell_type": "markdown",
   "metadata": {},
   "source": [
    "# Brief introduction to Geographical Information Systems (GIS)"
   ]
  },
  {
   "cell_type": "markdown",
   "metadata": {},
   "source": [
    "## Overview\n",
    "\n",
    "GIS application to deal with spatial information on a computer. GIS stands for *Geographical Information System*.\n",
    "\n",
    "GIS Consists of\n",
    "\n",
    "* Digital Data - the geographical information that you will view and analyse using computer hardware and software.\n",
    "* Computer Hardware - computers used for storing data, displaying graphics and processing data.\n",
    "* Computer Software - computer programs that run on the computer hardware and allow you to work with digital data. A software program that forms part of the GIS is called a GIS Application.\n",
    "* Educated operator - people who know what they are doing\n",
    "\n",
    "With a GIS application you can open digital maps on your computer, create new spatial information to add to a map, create printed maps customised to your needs and perform spatial analysis.\n",
    "\n",
    "GIS can stack various data source refered to as *layers* and make new data mash \n",
    "\n",
    "<img src=\"https://prd-wret.s3-us-west-2.amazonaws.com/assets/palladium/production/s3fs-public/styles/full_width/public/thumbnails/image/Figure3_STEMModeling.jpg?itok=eudKVJE3\" width=\"400\"/>\n",
    "\n",
    "Source of the image: [USGS](https://www.usgs.gov/media/images/gis-data-layers-visualization)"
   ]
  },
  {
   "cell_type": "markdown",
   "metadata": {},
   "source": [
    "## GIS data types"
   ]
  },
  {
   "cell_type": "markdown",
   "metadata": {},
   "source": [
    "### Vector data\n",
    "\n",
    "GIS Systems work with many different types of data. *Vector data* is stored as a series of X, Y coordinate pairs \n",
    "inside the computer’s memory. Vector data is used to represent *points, lines and areas*. They are mostly used for representation\n",
    "of discrete phenomenons.\n",
    "\n",
    "<img src=\"http://geoportal.cuzk.cz/Ukazky/velke/CZ-00025712-CUZK_SERIES-MD_KMV.jpg\" width=\"400\" />\n",
    "Example of cadastral map by [CUZK](http://geoportal.cuzk.cz/)\n",
    "\n",
    "<img src=\"https://upload.wikimedia.org/wikipedia/commons/f/f7/Soho_-_map_1.png\" width=\"400\" />\n",
    "OpenStreetMap from [Wikipedia](https://en.wikipedia.org/wiki/OpenStreetMap))\n",
    "\n",
    "<img src=\"https://upload.wikimedia.org/wikipedia/commons/thumb/c/c4/Delaunay_Triangulation_%28100_Points%29.svg/360px-Delaunay_Triangulation_%28100_Points%29.svg.png\" width=\"400\" />\n",
    "Triangulated iregular network (TIN) from [Wikipedia](https://de.wikipedia.org/wiki/Triangulierung)\n",
    "\n",
    "#### Vector data attributes\n",
    "\n",
    "Vector data do consist of two parts: \n",
    "\n",
    "* Geometry\n",
    "* Attributes\n",
    "\n",
    "Geometries are the *Points, Lines and Polygons* representing the real-world phenomenon. Attribute data is information appended in tabular format (database) to spatial features.\n",
    "\n",
    "<img src=\"https://wiki.state.ma.us/download/attachments/288194856/qgis_201_wfs_attribute_table_highlight.PNG?version=1&modificationDate=1388428795000&api=v2\" width=\"400\" />\n"
   ]
  },
  {
   "cell_type": "markdown",
   "metadata": {},
   "source": [
    "### Raster data\n",
    "\n",
    "Raster data are stored as a grid of values. There are many satellites circling the earth and the photographs they take are a kind of raster data that can be viewed in a GIS. The are usually used for representation of more continuously-changing phenomenos.\n",
    "\n",
    "<img src=\"https://upload.wikimedia.org/wikipedia/commons/7/78/Podgorica_1999_Kosovo_War.jpg\" width=\"400\" />\n",
    "Aerial image [Wikipedia](https://en.wikipedia.org/wiki/Aerial_photography#/media/File:Podgorica_1999_Kosovo_War.jpg)\n",
    "\n",
    "<img src=\"https://www.sentinel-hub.com/sites/default/files/styles/large/public/field/image/ndvi_agroit_blog.jpg?itok=GPKBbhTM\" width=\"400\" />\n",
    "Sattelite image ([Sentinel Hub](https://www.sentinel-hub.com/blog/building-added-value-services-top-sentinel-hub))\n",
    "\n",
    "<img src=\"https://gisgeography.com/wp-content/uploads/2016/04/SRTM.png\" width=\"400\" />\n",
    "Digital elevation model [GISGeography.com](https://gisgeography.com/free-global-dem-data-sources/)\n",
    "\n",
    "Raster data are stored in a form of matrix of cells with X and Y coordinates. Each cell contains number representing the occurence of some phenomenon (elevation, light reflection, temperatur, ...). The value can be represented by some color.\n",
    "\n",
    "<img src=\"http://les-ejk.cz/skoleni/grass/uvod/_images/raster-detail-detail.png\" width=\"400\" />"
   ]
  },
  {
   "cell_type": "markdown",
   "metadata": {},
   "source": [
    "## Coordinate reference systems and map projections"
   ]
  },
  {
   "cell_type": "markdown",
   "metadata": {},
   "source": [
    "### Map projections\n",
    "\n",
    "A map projection is a systematic transformation of the latitudes and longitudes of locations from the surface of a sphere or an ellipsoid into locations on a plane. Maps cannot be created without map projections. All map projections necessarily distort the surface in some fashion. Depending on the purpose of the map, some distortions are acceptable and others are not; therefore, different map projections exist in order to preserve some properties of the sphere-like body at the expense of other properties. There is no limit to the number of possible map projections. \n",
    "\n",
    "*-- [Wikipedia](https://en.wikipedia.org/wiki/Map_projection)*\n",
    "\n",
    "![Cylindrical](https://upload.wikimedia.org/wikipedia/commons/2/22/Usgs_map_miller_cylindrical.PNG)\n",
    "Cylindrical projection\n",
    "\n",
    "![Conic](https://upload.wikimedia.org/wikipedia/commons/d/da/USGS_map_Albers_conic_tall.gif)\n",
    "Conic projection\n",
    "\n",
    "![Sinusoidal](https://upload.wikimedia.org/wikipedia/commons/c/c7/Usgs_map_sinousidal_equal_area.PNG)\n",
    "Sinusoidal\n",
    "\n",
    "![Azimuthal](https://upload.wikimedia.org/wikipedia/commons/6/64/Usgs_map_azimuthal_equidistant.PNG)\n",
    "Azimuthal\n",
    "\n",
    "[And more ....](https://en.wikipedia.org/wiki/Map_projection)"
   ]
  },
  {
   "cell_type": "markdown",
   "metadata": {},
   "source": [
    "### Distorsions\n",
    "\n",
    "Converting Earth surface to plane leads to distorsions. Map will distore one or from\n",
    "\n",
    "* Lenght\n",
    "* Angle\n",
    "* Area\n",
    "\n",
    "\n",
    "<img src=\"http://training.gismentors.eu/open-source-gis/_images/tissot_world_from_space.png\" width=\"400\" />\n",
    "\n",
    "Spheres of same size and shape distributed on Earth surface *-- [Wikipedia](https://en.wikipedia.org/wiki/Map_projection#/media/File:Tissot_mercator.png)*\n",
    "\n",
    "<img src=\"https://upload.wikimedia.org/wikipedia/commons/8/87/Tissot_mercator.png\" width=\"400\" />\n",
    "\n",
    "Mercator projection *-- [Wikipedia](https://en.wikipedia.org/wiki/Map_projection#/media/File:Tissot_mercator.png)*\n",
    "\n",
    "<img src=\"https://upload.wikimedia.org/wikipedia/commons/b/bc/Tissot_behrmann.png\" width=\"400\" />\n",
    "\n",
    "Berhmann projection *-- [Wikipedia](https://upload.wikimedia.org/wikipedia/commons/b/bc/Tissot_behrmann.png)*\n",
    "                                    \n",
    "Some projections try to deal with some of the distorsions in their own way\n",
    "\n",
    "<img src=\"http://training.gismentors.eu/open-source-gis/_images/netzentwuerfe.png\" width=\"400\" />\n",
    "\n",
    "*-- [Wikipedia](https://cs.wikipedia.org/wiki/Mapov%C3%A9_zobrazen%C3%AD)*"
   ]
  },
  {
   "cell_type": "markdown",
   "metadata": {},
   "source": [
    "### Coordinate systems\n",
    "\n",
    "Two most used coordinate systems are *Carthesian coordinates* using x,y[,z] and *Geographic* using φ,λ coordinates representing angle from equator and central meridians on Earth surface.\n",
    "\n",
    "\n",
    "<img src=\"https://upload.wikimedia.org/wikipedia/commons/7/7b/ECEF.svg\" width=\"400\" />\n",
    "Earth Centered, Earth Fixed coordinates in relation to latitude and longitude. *-- [Wikipedia](https://en.wikipedia.org/wiki/Geographic_coordinate_system#/media/File:ECEF.svg)*\n",
    "\n",
    "\n",
    "<img src=\"https://upload.wikimedia.org/wikipedia/commons/7/73/ECEF_ENU_Longitude_Latitude_relationships.svg\" width=\"400\" />\n",
    "Earth Centred Earth Fixed and East, North, Up coordinates. *-- [Wikipedia](https://en.wikipedia.org/wiki/Geographic_coordinate_system#/media/File:ECEF_ENU_Longitude_Latitude_relationships.svg)*\n",
    "\n",
    "#### EPSG\n",
    "\n",
    "In 2005, IOGP absorbed the European Petroleum Survey Group or EPSG, (1986–2005) into its structure. EPSG was a scientific organization with ties to the European petroleum industry consisting of specialists working in applied geodesy, surveying, and cartography related to oil exploration. EPSG compiled and disseminated the EPSG Geodetic Parameter Set, a widely used database of Earth ellipsoids, geodetic datums, geographic and projected coordinate systems, units of measurement, etc. \n",
    "\n",
    "-- [Wikipedia] (https://en.wikipedia.org/wiki/International_Association_of_Oil_%26_Gas_Producers#European_Petroleum_Survey_Group)\n",
    "\n",
    "See http://epsg.io\n",
    "\n",
    "#### Most common coordinate values and what project\n",
    "\n",
    "**[Spherical mercator - EPSG:3857](https://epsg.io/3857)**\n",
    "\n",
    "Values of lower-left corner -20026376.39 -20048966.10, values of upper-right 20026376.39 20048966.10\n",
    "\n",
    "\n",
    "**[WGS 84 -- WGS84 - World Geodetic System 1984, used in GPS EPSG:4326](https://epsg.io/4326)**\n",
    "\n",
    "Lower-left corner -180.0 -90.0, upper-right corner 180.0 90.0 \n",
    "\n",
    "\n",
    "**[Krovak S-JTSK EPSG:5514](https://epsg.io/5514)**\n",
    "\n",
    "Czech specific local cooridnate reference system\n",
    "\n",
    "Projected bounds -951499.37 -1276279.09. -159365.31 -983013.08\n",
    "\n",
    "<img src=\"http://training.gismentors.eu/open-source-gis/_images/map_projections.png\" width=\"400\" />\n",
    "https://xkcd.com/977/"
   ]
  },
  {
   "cell_type": "markdown",
   "metadata": {},
   "source": [
    "---\n",
    "[<- Introduction to GeoPython](00_Introduction to GeoPython.ipynb) | [Working with vector data ->](01_vectors/00_introduction.ipynb)"
   ]
  }
 ],
 "metadata": {
  "kernelspec": {
   "display_name": "Python 3",
   "language": "python",
   "name": "python3"
  },
  "language_info": {
   "codemirror_mode": {
    "name": "ipython",
    "version": 3
   },
   "file_extension": ".py",
   "mimetype": "text/x-python",
   "name": "python",
   "nbconvert_exporter": "python",
   "pygments_lexer": "ipython3",
   "version": "3.6.3"
  }
 },
 "nbformat": 4,
 "nbformat_minor": 2
}
