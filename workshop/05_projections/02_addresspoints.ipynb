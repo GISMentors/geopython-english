{
 "cells": [
  {
   "cell_type": "markdown",
   "metadata": {},
   "source": [
    "## Convert input data from S-JTSK to WGS-84\n",
    "\n",
    "Let's download address points from State Administration of Land Surveying and Cadastre of the Czech Republic http://nahlizenidokn.cuzk.cz/stahniadresnimistaruian.aspx\n",
    "\n",
    "Data are stored in the form of CVS file in [data/20180430_OB_573108_ADR.csv](data/20180430_OB_573108_ADR.csv)\n"
   ]
  },
  {
   "cell_type": "code",
   "execution_count": null,
   "metadata": {},
   "outputs": [],
   "source": [
    "with open(\"data/20180430_OB_573108_ADR.csv\") as indata:\n",
    "    for line in indata.readlines()[0:10]:\n",
    "        line = line.strip()\n",
    "        print(line)"
   ]
  },
  {
   "cell_type": "markdown",
   "metadata": {},
   "source": [
    "Parse the input lines"
   ]
  },
  {
   "cell_type": "code",
   "execution_count": null,
   "metadata": {},
   "outputs": [],
   "source": [
    "data = {}\n",
    "with open(\"data/20180430_OB_573108_ADR.csv\") as indata:\n",
    "    for line in indata.readlines()[1:]:\n",
    "        line = line.strip()\n",
    " \n",
    "        (code_adm, city, name, code_momc, name_momc, code_mop,\n",
    "         name_mop, code_part, name_part, code_street, name_street,\n",
    "         type_so, house_number, house_orientation, char, zipcode, Y, X, valid) = line.split(\";\")\n",
    "        \n",
    "        if not Y and not X:\n",
    "            continue\n",
    "        \n",
    "        data[code_adm] = {\n",
    "            \"street\": name_street,\n",
    "            \"number\": house_number,\n",
    "            \"city\": name,\n",
    "            \"zip\": zipcode,\n",
    "            \"Y\": -1*float(Y),\n",
    "            \"X\": -1*float(X)\n",
    "        }"
   ]
  },
  {
   "cell_type": "markdown",
   "metadata": {},
   "source": [
    "NOTE: `Y` and `X` coordinates in S-JTSK are `x` and `y` in cartesian system.\n",
    "\n",
    "NOTE: S-JTSK uses positive values, but EPSG:5514 assumes negative values, therefore `x = -1*Y`\n",
    "\n",
    "Let's convert `x` and `y` coordinates from czech local [S-JTSK](http://epsg.io/5514) to global [WGS-84](http://epsg.io/4326) system."
   ]
  },
  {
   "cell_type": "markdown",
   "metadata": {},
   "source": [
    "### Transformation using PyProj\n",
    "\n",
    "[PyProj](https://pypi.org/project/pyproj/) is Python bindings to [Proj.4](https://proj4.org/) library.\n"
   ]
  },
  {
   "cell_type": "code",
   "execution_count": null,
   "metadata": {},
   "outputs": [],
   "source": [
    "from pyproj import Proj, transform\n",
    "import pyproj\n",
    "\n",
    "original = Proj(\"+proj=krovak +lat_0=49.5 +lon_0=24.83333333333333 +alpha=30.28813972222222 +k=0.9999 +x_0=0 +y_0=0 +ellps=bessel +pm=greenwich +units=m +no_defs +towgs84=570.8,85.7,462.8,4.998,1.587,5.261,3.56\")\n",
    "\n",
    "destination = Proj(init='EPSG:4326')\n",
    "\n",
    "for adm in data:\n",
    "    x, y = (data[adm][\"Y\"], data[adm][\"X\"])\n",
    "    trans_coords = transform(original, destination, x, y)\n",
    "    print(trans_coords)\n",
    "    data[adm][\"x\"] = trans_coords[0]\n",
    "    data[adm][\"y\"] = trans_coords[1]\n"
   ]
  },
  {
   "cell_type": "markdown",
   "metadata": {},
   "source": [
    "### Creating new GeoJSON file\n",
    "\n",
    "Let's create new [GeoJSON](http://geojson.org) vector structure with address points"
   ]
  },
  {
   "cell_type": "code",
   "execution_count": null,
   "metadata": {},
   "outputs": [],
   "source": [
    "import json\n",
    "\n",
    "features = {\n",
    "    \"type\": \"FeatureCollection\",\n",
    "    \"features\":[]\n",
    "}\n",
    "\n",
    "for adm in data:\n",
    "    feature = {\n",
    "        \"type\":\"Feature\",\n",
    "        \"properties\": {\n",
    "            \"city\": data[adm][\"city\"],\n",
    "            \"zip\": data[adm][\"zip\"],\n",
    "            \"street\": data[adm][\"street\"],\n",
    "            \"number\": data[adm][\"number\"]\n",
    "        },\n",
    "        \"geometry\": {\n",
    "            \"type\": \"Point\",\n",
    "            \"coordinates\": [data[adm][\"x\"], data[adm][\"y\"]]\n",
    "        }\n",
    "    }\n",
    "    \n",
    "    features[\"features\"].append(feature)\n",
    "\n",
    "print(features[\"features\"][0:5])"
   ]
  },
  {
   "cell_type": "markdown",
   "metadata": {},
   "source": [
    "Write it to output GeoJSON file"
   ]
  },
  {
   "cell_type": "code",
   "execution_count": null,
   "metadata": {},
   "outputs": [],
   "source": [
    "import json\n",
    "\n",
    "with open(\"../../outputs/addresses.geojson\", \"w\") as out:\n",
    "    json.dump(features, out)"
   ]
  },
  {
   "cell_type": "markdown",
   "metadata": {},
   "source": [
    "And download the data for QGIS: [../../outputs/addresses.geojson](../../outputs/addresses.geojson)\n",
    "\n",
    "![](images/addresses.png)"
   ]
  },
  {
   "cell_type": "markdown",
   "metadata": {},
   "source": [
    "---\n",
    "[<- Introduction](01_projections.ipynb) | [GeoDjango ->](../06_geodjango/00_Introduction.ipynb)"
   ]
  }
 ],
 "metadata": {
  "kernelspec": {
   "display_name": "Python 3",
   "language": "python",
   "name": "python3"
  },
  "language_info": {
   "codemirror_mode": {
    "name": "ipython",
    "version": 3
   },
   "file_extension": ".py",
   "mimetype": "text/x-python",
   "name": "python",
   "nbconvert_exporter": "python",
   "pygments_lexer": "ipython3",
   "version": "3.6.3"
  }
 },
 "nbformat": 4,
 "nbformat_minor": 2
}
