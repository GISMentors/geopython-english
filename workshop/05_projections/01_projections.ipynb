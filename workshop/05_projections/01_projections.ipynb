{
 "cells": [
  {
   "cell_type": "markdown",
   "metadata": {},
   "source": [
    "# Working with projections and Python\n",
    "\n",
    "For projection definition and working, several approaches can be taken."
   ]
  },
  {
   "cell_type": "markdown",
   "metadata": {},
   "source": [
    "NOTE: For introduction go to [Coordinate reference systems and map projections](../gis_intro.ipynb#Coordinate-reference-systems-and-map-projections)"
   ]
  },
  {
   "cell_type": "markdown",
   "metadata": {},
   "source": [
    "## GDAL\n",
    "\n",
    "In [GDAL](http://gdal.org), projection definition can be found in the osr package"
   ]
  },
  {
   "cell_type": "code",
   "execution_count": null,
   "metadata": {},
   "outputs": [],
   "source": [
    "from osgeo import osr\n",
    "\n",
    "# creating new spatial reference object\n",
    "srs = osr.SpatialReference()\n",
    "srs.ImportFromEPSG(3857)\n",
    "print(\"Proj4 format:\\n%s\\n\" % srs.ExportToProj4())\n",
    "print(\"Well known text:\\n%s\\n\" % srs.ExportToWkt())"
   ]
  },
  {
   "cell_type": "markdown",
   "metadata": {},
   "source": [
    "Perform coordinate transforamtion from once system to another"
   ]
  },
  {
   "cell_type": "code",
   "execution_count": null,
   "metadata": {},
   "outputs": [],
   "source": [
    "# define source projection \n",
    "wgs = osr.SpatialReference()\n",
    "wgs.ImportFromEPSG(4326)\n",
    "\n",
    "# define coordinate transformation\n",
    "ct = osr.CoordinateTransformation(wgs, srs)\n",
    "\n",
    "# transform\n",
    "print(ct.TransformPoint(15, 51))"
   ]
  },
  {
   "cell_type": "markdown",
   "metadata": {},
   "source": [
    "## Fiona\n",
    "\n",
    "Fiona [has own way](http://toblerity.org/fiona/manual.html#format-drivers-crs-bounds-and-schema) of dealing with coordinate systems"
   ]
  },
  {
   "cell_type": "markdown",
   "metadata": {},
   "source": [
    "Import from Proj4 string"
   ]
  },
  {
   "cell_type": "code",
   "execution_count": null,
   "metadata": {},
   "outputs": [],
   "source": [
    "from fiona.crs import to_string, from_epsg, from_string\n",
    "\n",
    "wgs = from_string(\"+datum=WGS84 +ellps=WGS84 +no_defs +proj=longlat\")\n",
    "print(wgs)\n"
   ]
  },
  {
   "cell_type": "markdown",
   "metadata": {},
   "source": [
    "Import from EPSG"
   ]
  },
  {
   "cell_type": "code",
   "execution_count": null,
   "metadata": {},
   "outputs": [],
   "source": [
    ">>> from_epsg(3857)\n",
    "{'init': 'epsg:3857', 'no_defs': True}"
   ]
  },
  {
   "cell_type": "markdown",
   "metadata": {},
   "source": [
    "Write projection to Proj4 string"
   ]
  },
  {
   "cell_type": "code",
   "execution_count": null,
   "metadata": {},
   "outputs": [],
   "source": [
    "print(to_string(wgs))"
   ]
  },
  {
   "cell_type": "markdown",
   "metadata": {},
   "source": [
    "However, with Fiona, no transformation is possible - just for writing and reading the dataset metadata"
   ]
  },
  {
   "cell_type": "markdown",
   "metadata": {},
   "source": [
    "## RasterIO\n",
    "\n",
    "Since Fiona and RasterIO are sister libraries, `from_string, from_epsg` and `to_string` can be found too. But RasterIO knows more"
   ]
  },
  {
   "cell_type": "code",
   "execution_count": null,
   "metadata": {},
   "outputs": [],
   "source": [
    "from rasterio.crs import CRS\n",
    "\n",
    "crs1 = CRS.from_epsg(4326)\n",
    "print(crs1)\n",
    "print(dir(CRS))"
   ]
  },
  {
   "cell_type": "code",
   "execution_count": null,
   "metadata": {},
   "outputs": [],
   "source": [
    "crs1.is_projected"
   ]
  },
  {
   "cell_type": "code",
   "execution_count": null,
   "metadata": {},
   "outputs": [],
   "source": [
    "is_geographic_crs(crs1)"
   ]
  },
  {
   "cell_type": "markdown",
   "metadata": {},
   "source": [
    "## Pyproj\n",
    "\n",
    "The standard way of interacting with projections is to use [Pyproj](https://github.com/jswhit/pyproj)"
   ]
  },
  {
   "cell_type": "code",
   "execution_count": null,
   "metadata": {},
   "outputs": [],
   "source": [
    "import pyproj\n",
    " \n",
    "# Define a projection with Proj4 notation - czech S-JTSK projection\n",
    "krovak=pyproj.Proj(\"+proj=krovak +lat_0=49.5 +lon_0=24.83333333333333 +alpha=30.28813972222222 +k=0.9999 +x_0=0 +y_0=0 +ellps=bessel +pm=greenwich +units=m +no_defs +towgs84=570.8,85.7,462.8,4.998,1.587,5.261,3.56\")\n",
    " \n",
    "# Define some common projections using EPSG codes\n",
    "wgs84=pyproj.Proj(\"+init=EPSG:4326\")\n",
    "\n",
    "mercator=pyproj.Proj(\"+init=EPSG:3857\")"
   ]
  },
  {
   "cell_type": "markdown",
   "metadata": {},
   "source": [
    "Do the projection"
   ]
  },
  {
   "cell_type": "code",
   "execution_count": null,
   "metadata": {},
   "outputs": [],
   "source": [
    "krovak(12.806989, 49.452263)\n"
   ]
  },
  {
   "cell_type": "markdown",
   "metadata": {},
   "source": [
    "Changing between two different systems"
   ]
  },
  {
   "cell_type": "code",
   "execution_count": null,
   "metadata": {},
   "outputs": [],
   "source": [
    "pyproj.transform(krovak, mercator, -868280.2853028374, -1095867.5899331844)"
   ]
  },
  {
   "cell_type": "markdown",
   "metadata": {},
   "source": [
    "And back to WSG"
   ]
  },
  {
   "cell_type": "code",
   "execution_count": null,
   "metadata": {},
   "outputs": [],
   "source": [
    "pyproj.transform(mercator, wgs84, 1425576.6158538796, 6351822.307080091)"
   ]
  },
  {
   "cell_type": "markdown",
   "metadata": {},
   "source": [
    "---\n",
    "[<- WFS](../03_ows/04_wfs.ipynb) | [Address points ->](02_addresspoints.ipynb)"
   ]
  }
 ],
 "metadata": {
  "kernelspec": {
   "display_name": "Python 3",
   "language": "python",
   "name": "python3"
  },
  "language_info": {
   "codemirror_mode": {
    "name": "ipython",
    "version": 3
   },
   "file_extension": ".py",
   "mimetype": "text/x-python",
   "name": "python",
   "nbconvert_exporter": "python",
   "pygments_lexer": "ipython3",
   "version": "3.6.5"
  }
 },
 "nbformat": 4,
 "nbformat_minor": 1
}
