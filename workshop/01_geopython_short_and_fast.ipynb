{
 "cells": [
  {
   "cell_type": "markdown",
   "metadata": {},
   "source": [
    "# Introduction\n",
    "\n",
    "[http://python.org](Python) is very popular programing language, which has it's supporters and haters. It's syntax is (if compared to other languages) specific among others because of the fact, no brackets are used - code blocks are separated by indentation. "
   ]
  },
  {
   "cell_type": "code",
   "execution_count": null,
   "metadata": {},
   "outputs": [],
   "source": [
    "# main function example\n",
    "\n",
    "def main(name):\n",
    "    \"\"\"Function doc string\n",
    "    \n",
    "    This function will print given name\n",
    "    \"\"\"\n",
    "    \n",
    "    print (\"Hallo, %s!\" % name)\n",
    "    \n",
    "main('world')"
   ]
  },
  {
   "cell_type": "markdown",
   "metadata": {},
   "source": [
    "**Note**:\n",
    "> [Original workshop](http://training.gismentors.eu/geopython) was prepared in czech language on czech dataset. In Czech Republic, EPSG:5514 coordinate system is used, which is not supported directly Proj4 library. Please adjust the `/usr/share/proj/epsg` file and add:\n",
    "\n",
    "    # Krovak S-JTSK\n",
    "    <5514> +proj=krovak +lat_0=49.5 +lon_0=24.83333333333333 +alpha=30.28813972222222 +k=0.9999 +x_0=0 +y_0=0 +ellps=bessel +pm=greenwich +units=m +no_defs +towgs84=570.8,85.7,462.8,4.998,1.587,5.261,3.56\n",
    ">    \n",
    "> line to the file\n"
   ]
  },
  {
   "cell_type": "markdown",
   "metadata": {},
   "source": [
    "In the world of geomatics is Python very popular (and we can say, that it's popularity is growing). It's standing between simple scripting using SHELL commands nad more advanced coding on the sytem level in e.g. C. It can also be compared in some ways to Java platform. Most of the existing libraries and programs do have their API suitable for Python, like GDAL Python API.\n",
    "\n",
    "You can go pretty far with Python in today's world, we give you just short overview about the tools available for you by today:\n",
    "\n",
    "## Desktop\n",
    "* GRASS GIS: http://grass.osgeo.org\n",
    "* QGIS: http://qgis.org\n",
    "* ArcGIS: http://www.arcgis.com\n",
    "\n",
    "## Web\n",
    "* MapServer: http://mapserver.org\n",
    "* GeoServer: http://geoserver.org\n",
    "* TileCache: http://tilecache.org\n",
    "* PyWPS: http://pywps.wald.intevation.org\n",
    "* GeoDjango: http://geodjango.org\n",
    "\n",
    "## Tools and libraries\n",
    "* GDAL: http://gdal.org\n",
    "* Fiona: http://toblerity.org/fiona\n",
    "* Rasterio: https://github.com/mapbox/rasterio\n",
    "* PyProj: https://github.com/jswhit/pyproj\n",
    "* R (rpy2): http://rpy.sourceforge.net\n",
    "* Shapely: http://toblerity.org/shapely\n",
    "\n",
    "## Databases\n",
    "* PostGIS: http://postgis.net\n",
    "* SpatiaLite: https://www.gaia-gis.it/fossil/libspatialite/index\n",
    "* GeoAlchemy: http://geoalchemy.org\n",
    "* Specializované nástroje\n",
    "* TopoJSON: https://github.com/calvinmetcalf/topojson.py\n",
    "* RTree index: https://github.com/Toblerity/rtree\n",
    "\n",
    "The list is not complete by far of course.\n",
    "\n",
    "In the workshop, we will focus on the introduction to GDAL library and it's superstructures Rasterio and Fiona. We will have a look at OGC OWS services and how to interact with them with help of the OWSLib library and hopefully in the future, python-mapscript will be described too.\n",
    "\n",
    "The scope of the workshop is not complete  coveradge of GIS and Python topic. We would like to give you just and overview about the tools out there, on which more complex applications can be build. This tools are usually used in more up-level programs, so it is good if you have idea about how they work and their principles."
   ]
  },
  {
   "cell_type": "code",
   "execution_count": null,
   "metadata": {},
   "outputs": [],
   "source": []
  }
 ],
 "metadata": {
  "kernelspec": {
   "display_name": "Python 3",
   "language": "python",
   "name": "python3"
  },
  "language_info": {
   "codemirror_mode": {
    "name": "ipython",
    "version": 3
   },
   "file_extension": ".py",
   "mimetype": "text/x-python",
   "name": "python",
   "nbconvert_exporter": "python",
   "pygments_lexer": "ipython3",
   "version": "3.6.5"
  }
 },
 "nbformat": 4,
 "nbformat_minor": 1
}
