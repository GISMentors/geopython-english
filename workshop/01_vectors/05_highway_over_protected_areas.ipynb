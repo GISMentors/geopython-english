{
 "cells": [
  {
   "cell_type": "markdown",
   "metadata": {},
   "source": [
    "# Highway over protected areas"
   ]
  },
  {
   "cell_type": "markdown",
   "metadata": {},
   "source": [
    "We can already work with single polygon geometry data source containing [protected areas](data/protected_areas.gpkg). Let's import linear data with [highways](data/highways.geojson). Highways are stored in the GeoJSON format "
   ]
  },
  {
   "cell_type": "code",
   "execution_count": null,
   "metadata": {},
   "outputs": [],
   "source": [
    "import fiona\n",
    "from shapely.geometry import mapping, shape\n",
    "\n",
    "pas = fiona.open(\"data/protected_areas.gpkg\", \"r\")\n",
    "hws = fiona.open(\"data/highways.geojson\", \"r\")"
   ]
  },
  {
   "cell_type": "markdown",
   "metadata": {},
   "source": [
    "<img src=\"images/qgis_result.png\" width=\"600\" />"
   ]
  },
  {
   "cell_type": "markdown",
   "metadata": {},
   "source": [
    "## Converting geometries to different coordinate reference system\n",
    "\n",
    "GeoJSON data should be, by definition, in WGS84 ([EPSG:4326](http://epsg.io/4326)) coordinate reference system. That means, the data are between -180, 180 and -90, 90 degrees."
   ]
  },
  {
   "cell_type": "code",
   "execution_count": null,
   "metadata": {},
   "outputs": [],
   "source": [
    "hws[0][\"geometry\"]"
   ]
  },
  {
   "cell_type": "markdown",
   "metadata": {},
   "source": [
    "We have to transform the data to meters and to the same projection how our `protected_areas` are stored. For this we need to define an object with the source coordinate reference system and another object with the target coordinate reference system. This can be done in `fiona.transform` module."
   ]
  },
  {
   "cell_type": "code",
   "execution_count": null,
   "metadata": {},
   "outputs": [],
   "source": [
    "from fiona.transform import transform_geom\n",
    "\n",
    "wgs84 = \"EPSG:4326\"\n",
    "etrs89 = pas.crs"
   ]
  },
  {
   "cell_type": "markdown",
   "metadata": {},
   "source": [
    "Let's make 100m buffer around each highway"
   ]
  },
  {
   "cell_type": "code",
   "execution_count": null,
   "metadata": {},
   "outputs": [],
   "source": [
    "from shapely.geometry import MultiLineString\n",
    "\n",
    "all_highways = []\n",
    "\n",
    "for hw in hws:\n",
    "    geom_transformed = transform_geom(wgs84, etrs89, hw[\"geometry\"])\n",
    "    geom = shape(geom_transformed)\n",
    "    all_highways.append(geom)\n",
    "    \n",
    "MultiLineString(all_highways)"
   ]
  },
  {
   "cell_type": "markdown",
   "metadata": {},
   "source": [
    "Tramsform geometires, but only for the new planed `D8` highway\n",
    "\n",
    "<img src=\"images/highway_8.png\" width=\"400\" />"
   ]
  },
  {
   "cell_type": "code",
   "execution_count": null,
   "metadata": {},
   "outputs": [],
   "source": [
    "buffered_highways = {}\n",
    "\n",
    "for hw in hws:\n",
    "    \n",
    "    # but only new planed highway over Czech Central Mountains\n",
    "    if hw[\"properties\"][\"ref\"] == \"D8\":\n",
    "        geom_transformed = transform_geom(wgs84, etrs89, hw[\"geometry\"])\n",
    "    \n",
    "        geom = shape(geom_transformed)\n",
    "\n",
    "        buffered_highways[hw[\"id\"]] = geom.buffer(100)"
   ]
  },
  {
   "cell_type": "markdown",
   "metadata": {},
   "source": [
    "Some visualisation of the data - we will convert multiple geometries into one `Multi` geometry. We also use `simplify` method, which will [simplify geometires using Douglas-Peucker algorithm](http://toblerity.org/shapely/manual.html#object.simplify)."
   ]
  },
  {
   "cell_type": "code",
   "execution_count": null,
   "metadata": {},
   "outputs": [],
   "source": [
    "from shapely.geometry import MultiPolygon, MultiLineString\n",
    "\n",
    "MultiPolygon(\n",
    "    buffered_highways[g].simplify(200, preserve_topology=False) \n",
    "    for g in buffered_highways\n",
    ")"
   ]
  },
  {
   "cell_type": "markdown",
   "metadata": {},
   "source": [
    "We do same visualisation with our `protected_areas`:"
   ]
  },
  {
   "cell_type": "code",
   "execution_count": null,
   "metadata": {},
   "outputs": [],
   "source": [
    "protected_areas = {}\n",
    "\n",
    "for pa in pas:\n",
    "    geom = shape(pa[\"geometry\"])\n",
    "    protected_areas[pa[\"id\"]] = geom\n",
    "    \n",
    "MultiPolygon(protected_areas[g].simplify(1000, preserve_topology=False) for g in protected_areas)"
   ]
  },
  {
   "cell_type": "markdown",
   "metadata": {},
   "source": [
    "Now let's find out, which highways with 100m buffer around the line do intersect with geometries of protected areas"
   ]
  },
  {
   "cell_type": "code",
   "execution_count": null,
   "metadata": {},
   "outputs": [],
   "source": [
    "from shapely import speedups\n",
    "print(speedups.available)\n",
    "speedups.enable()"
   ]
  },
  {
   "cell_type": "code",
   "execution_count": null,
   "metadata": {},
   "outputs": [],
   "source": [
    "intersections = []\n",
    "\n",
    "for i in buffered_highways:\n",
    "    hw = buffered_highways[i]\n",
    "    \n",
    "    for j in protected_areas:\n",
    "        pa = protected_areas[j]\n",
    "        \n",
    "        if hw.intersects(pa) and j not in intersections:\n",
    "            intersections.append(j)"
   ]
  },
  {
   "cell_type": "code",
   "execution_count": null,
   "metadata": {},
   "outputs": [],
   "source": [
    "MultiPolygon([protected_areas[i].simplify(10) for i in intersections] + [buffered_highways[j] for j in buffered_highways] )"
   ]
  },
  {
   "cell_type": "code",
   "execution_count": null,
   "metadata": {},
   "outputs": [],
   "source": [
    "print(len(intersections))"
   ]
  },
  {
   "cell_type": "markdown",
   "metadata": {},
   "source": [
    "Let's create output GeoJSON-encoded file with resulting areas:"
   ]
  },
  {
   "cell_type": "code",
   "execution_count": null,
   "metadata": {},
   "outputs": [],
   "source": [
    "import json\n",
    "\n",
    "data = {\"type\": \"FeatureCollection\", \"features\":[]}\n",
    "filtered_pas = list(filter(lambda x: x[\"id\"] in intersections, pas))\n",
    "for pa in filtered_pas:\n",
    "    pa[\"geometry\"] = transform_geom(etrs89, wgs84, pa[\"geometry\"])\n",
    "    data[\"features\"].append(pa)\n",
    "\n",
    "with open(\"../outputs/crossing_areas.geojson\", \"w\") as out:\n",
    "    json.dump(data, out)\n",
    "\n"
   ]
  },
  {
   "cell_type": "markdown",
   "metadata": {},
   "source": [
    "[Download the crossing areas file](../outputs/crossing_areas.geojson) and open it in [QGIS](http://qgis.org)\n",
    "\n",
    "<img src=\"images/result.png\" width=\"400\" />\n"
   ]
  },
  {
   "cell_type": "markdown",
   "metadata": {},
   "source": [
    "Getting just the affected area"
   ]
  },
  {
   "cell_type": "code",
   "execution_count": null,
   "metadata": {},
   "outputs": [],
   "source": [
    "intersections = []\n",
    "\n",
    "for i in buffered_highways:\n",
    "    hw = buffered_highways[i]\n",
    "    \n",
    "    for j in protected_areas:\n",
    "        pa = protected_areas[j]\n",
    "        \n",
    "        if hw.intersects(pa):\n",
    "            out_geom = hw.intersection(pa)\n",
    "            intersections.append(out_geom)\n",
    "MultiPolygon([geom.simplify(10) for geom in intersections])"
   ]
  },
  {
   "cell_type": "markdown",
   "metadata": {},
   "source": [
    "---\n",
    "[<- Working with vector geometries](04_geometries.ipynb) | [Rasterio ->](../02_rasters/00_introduction.ipynb)"
   ]
  }
 ],
 "metadata": {
  "kernelspec": {
   "display_name": "Python 3",
   "language": "python",
   "name": "python3"
  },
  "language_info": {
   "codemirror_mode": {
    "name": "ipython",
    "version": 3
   },
   "file_extension": ".py",
   "mimetype": "text/x-python",
   "name": "python",
   "nbconvert_exporter": "python",
   "pygments_lexer": "ipython3",
   "version": "3.6.3"
  }
 },
 "nbformat": 4,
 "nbformat_minor": 2
}
