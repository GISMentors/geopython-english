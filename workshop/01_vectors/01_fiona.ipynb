{
 "cells": [
  {
   "cell_type": "markdown",
   "metadata": {},
   "source": [
    "# Fiona and Shapely\n",
    "\n",
    "[Fiona](http://toblerity.org/fiona/) is build on top of OGR and it introduces the object-oriented approach to the work with vector data. The data are re-mapped in to [GeoJSON](http://geojson.org) structure. The interaction is more straight-forward compared to OGR.\n",
    "\n",
    "Fiona is not suited to be the best for all tasks - simplicity is buyed back by the fact, all data need to be loaded in memmory. Also speed can be lower, when dealing with larger amounts of data. Where OGR uses pointers, Fiona has to deal with whole python objects. Generally: if you need to filter vector features, OGR should be faster, if you need to work with features sequentially, Fiona should be better.\n",
    "\n",
    "**Note**:\n",
    "> Fiona is great for binary data formats. For JSON, use the `json` python package. For data stored in database, use standard Python database interface.\n",
    "\n",
    "[Shapely](http://toblerity.org/shapely/manual.html) Shapely is a Python package for set-theoretic analysis and manipulation of planar features using (via Python’s ctypes module) functions from the well known and widely deployed GEOS library. \n",
    "\n",
    "**Short version:** \n",
    "> Fiona is here for attribute and whole data source manipulation, Shapely just manupulates vector data geometries."
   ]
  },
  {
   "cell_type": "markdown",
   "metadata": {},
   "source": [
    "## Our task"
   ]
  },
  {
   "cell_type": "markdown",
   "metadata": {},
   "source": [
    "Our task is to *create map of protected areas regions, which will be affected by new highway, being build from Prague (The Czech Republic) to Dresden (Germany)*.\n",
    "\n",
    "As input data, we shall have\n",
    "\n",
    "* Protected areas polygons downloaded from [the Nature Conservation Agency of the Czech Republic](http://www.ochranaprirody.cz/en/)\n",
    "* Map of highways downloaded from [OpenStreetMap](http://openstreetmap.org) project\n",
    "\n",
    "Data are stored in files: [data/protected_areas.gpkg](data/protected_areas.gpkg) and [data/highways.geojson](data/highways.geojson) (in fact, you can see our highways [on GitHub](https://github.com/GISMentors/geopython-english/blob/master/workshop/01_vectors/data/highways.geojson)).\n"
   ]
  },
  {
   "cell_type": "markdown",
   "metadata": {},
   "source": [
    "---\n",
    "[<- Introduction to vectors](00_introduction.ipynb) | [Working with data source ->](02_working_with_datasource.ipynb)"
   ]
  }
 ],
 "metadata": {
  "kernelspec": {
   "display_name": "Python 3",
   "language": "python",
   "name": "python3"
  },
  "language_info": {
   "codemirror_mode": {
    "name": "ipython",
    "version": 3
   },
   "file_extension": ".py",
   "mimetype": "text/x-python",
   "name": "python",
   "nbconvert_exporter": "python",
   "pygments_lexer": "ipython3",
   "version": "3.6.3"
  }
 },
 "nbformat": 4,
 "nbformat_minor": 1
}
