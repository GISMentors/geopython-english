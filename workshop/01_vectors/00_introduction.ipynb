{
 "cells": [
  {
   "cell_type": "markdown",
   "metadata": {},
   "source": [
    "# Vector data introduction\n",
    "\n",
    "Traditionly, we use [GDAL](http://gdal.org) library for interacting with vector data. Lately, [Shapely](https://toblerity.org/shapely/index.html) library is becoming the popular too, as well as [Fiona](http://toblerity.org/fiona/manual.html) does.\n",
    "\n",
    "This workshop will focus on Fiona and OGR. [Fiona](http://toblerity.org/fiona/) is maitained by [Sean Gillies](https://github.com/sgillies). It is adding new layer on top of OGR, which is more compliant to what is common in Python. Compared to Fiona, with OGR more low-level data access can be achieved."
   ]
  },
  {
   "cell_type": "markdown",
   "metadata": {},
   "source": [
    "GIS Systems work with many different types of data. *Vector data* is stored as a series of X, Y coordinate pairs \n",
    "inside the computer’s memory. Vector data is used to represent *points, lines and areas*. They are mostly used for representation\n",
    "of discrete phenomenons.\n",
    "\n",
    "<img src=\"http://geoportal.cuzk.cz/Ukazky/velke/CZ-00025712-CUZK_SERIES-MD_KMV.jpg\" width=\"100\" /><img src=\"https://upload.wikimedia.org/wikipedia/commons/f/f7/Soho_-_map_1.png\" width=\"100\" /><img src=\"https://upload.wikimedia.org/wikipedia/commons/c/c4/Delaunay_Triangulation_%28100_Points%29.svg\" width=\"00\" />\n",
    "Example of cadastral map by [CUZK](http://geoportal.cuzk.cz/)\n",
    "OpenStreetMap from [Wikipedia](https://en.wikipedia.org/wiki/OpenStreetMap))\n",
    "Triangulated iregular network (TIN) from [Wikipedia](https://de.wikipedia.org/wiki/Triangulierung)\n",
    "\n",
    "## Vector data attributes\n",
    "\n",
    "Vector data do consist of two parts: \n",
    "\n",
    "* Geometry\n",
    "* Attributes\n",
    "\n",
    "Geometries are the *Points, Lines and Polygons* representing the real-world phenomenon. Attribute data is information appended in tabular format (database) to spatial features.\n",
    "\n",
    "<img src=\"https://wiki.state.ma.us/download/attachments/288194856/qgis_201_wfs_attribute_table_highlight.PNG?version=1&modificationDate=1388428795000&api=v2\" width=\"100\" />"
   ]
  },
  {
   "cell_type": "markdown",
   "metadata": {},
   "source": [
    "## Vector data formats\n",
    "\n",
    "There are currently about 100 vector data formats used in GIS.\n",
    "\n",
    "### ESRI Shapefile\n",
    "\n",
    "[ESRI Shapefile](http://gdal.org/drv_shapefile.html) is file based format, which consists of at least 3 files:\n",
    "\n",
    "* .shp containign geometry\n",
    "* .shx containing index\n",
    "* .dbf attribute table\n",
    "\n",
    "### OGC GeoPackage\n",
    "\n",
    "[OGC GeoPackage](http://gdal.org/drv_geopackage.html) is new prommising SQLite-based spatial data format. GeoPackage can store vector as well as raster data\n",
    "\n",
    "### GeoJSON\n",
    "\n",
    "[GeoJSON](http://geojson.org) Simple JSON-based format, popular especially among web developers. \n",
    "\n",
    "Example:\n",
    "\n",
    "```\n",
    "{\n",
    "  \"type\": \"Feature\",\n",
    "  \"geometry\": {\n",
    "    \"type\": \"Point\",\n",
    "    \"coordinates\": [125.6, 10.1]\n",
    "  },\n",
    "  \"properties\": {\n",
    "    \"name\": \"Dinagat Islands\"\n",
    "  }\n",
    "}\n",
    "```\n",
    "\n",
    "GitHub for example is able to display [GeoJSON-encoded data on-the-fly](https://github.com/jachym/jrdata/blob/master/jsons/stops.geojson).\n",
    "\n",
    "### CSV\n",
    "\n",
    "Of course, you  can save your data in comma separated text file.\n",
    "\n",
    "### PostgreSQL/PostGIS database\n",
    "\n",
    "[PostGIS](http://postgis.org) adds support for geographic objects to the PostgreSQL object-relational database. In effect, PostGIS \"spatially enables\" the PostgreSQL server, allowing it to be used as a backend spatial database for geographic information systems (GIS), much like ESRI's SDE or Oracle's Spatial extension. PostGIS follows the OpenGIS \"Simple Features Specification for SQL\" and has been certified as compliant with the \"Types and Functions\" profile. \n",
    "\n",
    "[And many more](http://gdal.org/ogr_formats.html)"
   ]
  },
  {
   "cell_type": "markdown",
   "metadata": {},
   "source": [
    "---\n",
    "[<- Brief introduction to Geographical Information Systems (GIS)](../gis_intro.ipynb) | [Fiona library ->](01_fiona.ipynb)"
   ]
  }
 ],
 "metadata": {
  "kernelspec": {
   "display_name": "Python 3",
   "language": "python",
   "name": "python3"
  },
  "language_info": {
   "codemirror_mode": {
    "name": "ipython",
    "version": 3
   },
   "file_extension": ".py",
   "mimetype": "text/x-python",
   "name": "python",
   "nbconvert_exporter": "python",
   "pygments_lexer": "ipython3",
   "version": "3.6.3"
  }
 },
 "nbformat": 4,
 "nbformat_minor": 1
}
