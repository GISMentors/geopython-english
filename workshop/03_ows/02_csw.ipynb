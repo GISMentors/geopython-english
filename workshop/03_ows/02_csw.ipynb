{
 "cells": [
  {
   "cell_type": "markdown",
   "metadata": {},
   "source": [
    "## Catalogue service for web - OGC CSW\n",
    "\n",
    "First think you need, when you want to use some web service, is to know, where it is located. For this purpose, catalogues are build - special services with list of avaliable data, services and application out there - actually list of their metadata. OGC CSW is used very much in european INSPIRE directive and the main entry point for Czech national INSPIRE geoportal is located at http://geoportal.gov.cz/php/micka/csw/index.php (web interface can be found at http://inspire.gov.cz)."
   ]
  },
  {
   "cell_type": "markdown",
   "metadata": {},
   "source": [
    "Let's read some metadata"
   ]
  },
  {
   "cell_type": "code",
   "execution_count": 2,
   "metadata": {},
   "outputs": [
    {
     "name": "stdout",
     "output_type": "stream",
     "text": [
      "CSW\n"
     ]
    }
   ],
   "source": [
    "from owslib.csw import CatalogueServiceWeb\n",
    "thecsw = CatalogueServiceWeb('http://geoportal.gov.cz/php/micka/csw/index.php')\n",
    "print(thecsw.service)"
   ]
  },
  {
   "cell_type": "markdown",
   "metadata": {},
   "source": [
    "Download the metadataa records"
   ]
  },
  {
   "cell_type": "code",
   "execution_count": 4,
   "metadata": {},
   "outputs": [
    {
     "name": "stdout",
     "output_type": "stream",
     "text": [
      "{'matches': 2583, 'returned': 10, 'nextrecord': 11}\n"
     ]
    }
   ],
   "source": [
    "thecsw.getrecords2()\n",
    "print(thecsw.results)"
   ]
  },
  {
   "cell_type": "markdown",
   "metadata": {},
   "source": [
    "Check out some attributes of found records:"
   ]
  },
  {
   "cell_type": "code",
   "execution_count": 7,
   "metadata": {},
   "outputs": [
    {
     "name": "stdout",
     "output_type": "stream",
     "text": [
      "Olomouc\n",
      "Olomouc\n",
      "Dálniční exity GN\n",
      "Global Network - Jednotná georeferenční síť pozemních komunikací\n",
      "Železniční přejezd GN\n",
      "Kilometráž GN\n",
      "Osa železničních tratí\n",
      "Železniční tunely\n",
      "Železniční mosty a propustky\n",
      "Železniční přejezdy\n"
     ]
    }
   ],
   "source": [
    "for rec in thecsw.records:\n",
    "    print(thecsw.records[rec].title)"
   ]
  },
  {
   "cell_type": "markdown",
   "metadata": {},
   "source": [
    "### Filters\n",
    "\n",
    "With CSW, you can use another standard of OGC: Filter Encoding Sepcification (FES). Filters can use attributes or geometry. In following example, we will define two filters: records with keyword 'WMS' and with data covering city Prague."
   ]
  },
  {
   "cell_type": "code",
   "execution_count": 8,
   "metadata": {},
   "outputs": [
    {
     "name": "stdout",
     "output_type": "stream",
     "text": [
      "{'matches': 117, 'returned': 10, 'nextrecord': 11}\n",
      "ÚP VÚC Adršpach 48.20735042 11.86320935 51.37551609 19.0302868\n",
      "VÚC Hradecko-Pardubické aglomerace 48.20735042 11.86320935 51.37551609 19.0302868\n",
      "ÚP VÚC okresu Jičín 48.23303412 11.93768841 51.35407571 18.95542894\n",
      "ÚP VÚC Krkonoše 48.20735042 11.86320935 51.37551609 19.0302868\n",
      "ÚP VÚC Orlické hory a podhůří 48.20735042 11.86320935 51.37551609 19.0302868\n",
      "ÚP VÚC Trutnovsko - Náchodsko 48.20735042 11.86320935 51.37551609 19.0302868\n",
      "Prognóza rozvoje území kraje 48.20735042 11.86320935 51.37551609 19.0302868\n",
      "WMS služba Pardubického kraje - polohopis, ortofoto 48.11130361 11.83822588 51.45351762 19.12784541\n",
      "Služba WMS Pardubického kraje - tematické vrstvy 48.22866996 12.03230308 51.34271802 19.63025648\n",
      "Prohlížecí služba WMS - Data200 48.55 12.09 51.06 18.86\n"
     ]
    }
   ],
   "source": [
    "from owslib.fes import PropertyIsLike, BBox, And, PropertyIsEqualTo\n",
    "\n",
    "wms_query = PropertyIsEqualTo('csw:AnyText', 'WMS')\n",
    "praha_query = BBox([14.22,49.94,14.71,50.18])\n",
    "praha_and_wms = And([praha_query, wms_query])\n",
    "\n",
    "thecsw.getrecords2([praha_and_wms], esn='full')\n",
    "print(thecsw.results)\n",
    "\n",
    "for recid in thecsw.records:\n",
    "    record = thecsw.records[recid]\n",
    "    print(record.title, record.bbox.minx, record.bbox.miny, record.bbox.maxx, record.bbox.maxy)"
   ]
  },
  {
   "cell_type": "markdown",
   "metadata": {},
   "source": [
    "Find out attributes of metadata record:"
   ]
  },
  {
   "cell_type": "code",
   "execution_count": 9,
   "metadata": {},
   "outputs": [
    {
     "name": "stdout",
     "output_type": "stream",
     "text": [
      "Service: service\n",
      "Title: Prohlížecí služba WMS - ZM 10\n",
      "Abstract: Prohlížecí služba WMS-ZM10-P je poskytována jako veřejná prohlížecí služba nad daty Základní mapy ČR 1:10 000. Služba splňuje Technické pokyny pro INSPIRE prohlížecí služby v. 3.11 a zároveň splňuje standard OGC WMS 1.1.1. a 1.3.0.\n",
      "Service end point: http://geoportal.cuzk.cz/WMS_ZM10_PUB/WMService.aspx?service=WMS&request=getCapabilities\n"
     ]
    }
   ],
   "source": [
    "zm_query = PropertyIsEqualTo('csw:AnyText', 'Prohlížecí služba WMS - ZM 10')\n",
    "thecsw.getrecords2([zm_query], esn='full')\n",
    "zm10 = thecsw.records['CZ-CUZK-WMS-ZM10-P']\n",
    "\n",
    "print(\"Service: %s\" % zm10.type)\n",
    "\n",
    "print(\"Title: %s\" % zm10.title)\n",
    "\n",
    "print(\"Abstract: %s\" % zm10.abstract)\n",
    "\n",
    "zm10_url = zm10.references[0]['url']\n",
    "\n",
    "print(\"Service end point: %s\" % zm10_url)"
   ]
  },
  {
   "cell_type": "markdown",
   "metadata": {},
   "source": [
    "---\n",
    "[<- OGC OWS](01_owslib.ipynb) | [OGC WMS ->](03_wms.ipynb)"
   ]
  }
 ],
 "metadata": {
  "kernelspec": {
   "display_name": "Python 3",
   "language": "python",
   "name": "python3"
  },
  "language_info": {
   "codemirror_mode": {
    "name": "ipython",
    "version": 3
   },
   "file_extension": ".py",
   "mimetype": "text/x-python",
   "name": "python",
   "nbconvert_exporter": "python",
   "pygments_lexer": "ipython3",
   "version": "3.6.5"
  }
 },
 "nbformat": 4,
 "nbformat_minor": 2
}
