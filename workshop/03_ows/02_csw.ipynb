{
 "cells": [
  {
   "cell_type": "markdown",
   "metadata": {},
   "source": [
    "## Catalogue service for web - OGC CSW\n",
    "\n",
    "First think you need, when you want to use some web service, is to know, where it is located. For this purpose, catalogues are build - special services with list of avaliable data, services and application out there - actually list of their metadata. OGC CSW is used very much in european INSPIRE directive and the main entry point for Czech national INSPIRE geoportal is located at http://geoportal.gov.cz/php/micka/csw/index.php (web interface can be found at http://inspire.gov.cz)."
   ]
  },
  {
   "cell_type": "markdown",
   "metadata": {},
   "source": [
    "Let's read some metadata"
   ]
  },
  {
   "cell_type": "code",
   "execution_count": null,
   "metadata": {},
   "outputs": [],
   "source": [
    "from owslib.csw import CatalogueServiceWeb\n",
    "thecsw = CatalogueServiceWeb('http://geoportal.gov.cz/php/micka/csw/index.php')\n",
    "print(thecsw.service)"
   ]
  },
  {
   "cell_type": "markdown",
   "metadata": {},
   "source": [
    "Download the metadataa records"
   ]
  },
  {
   "cell_type": "code",
   "execution_count": null,
   "metadata": {
    "scrolled": true
   },
   "outputs": [],
   "source": [
    "thecsw.getrecords2()\n",
    "print(thecsw.results)"
   ]
  },
  {
   "cell_type": "markdown",
   "metadata": {},
   "source": [
    "Check out some attributes of found records:"
   ]
  },
  {
   "cell_type": "code",
   "execution_count": null,
   "metadata": {
    "scrolled": true
   },
   "outputs": [],
   "source": [
    "for rec in thecsw.records:\n",
    "    print(thecsw.records[rec].title)"
   ]
  },
  {
   "cell_type": "markdown",
   "metadata": {},
   "source": [
    "### Filters\n",
    "\n",
    "With CSW, you can use another standard of OGC: Filter Encoding Sepcification (FES). Filters can use attributes or geometry. In following example, we will define two filters: records with keyword 'WMS' and with data covering city Prague."
   ]
  },
  {
   "cell_type": "code",
   "execution_count": null,
   "metadata": {},
   "outputs": [],
   "source": [
    "from owslib.fes import PropertyIsLike, BBox, And, PropertyIsEqualTo\n",
    "\n",
    "wms_query = PropertyIsEqualTo('csw:AnyText', 'WMS')\n",
    "praha_query = BBox([14.22,49.94,14.71,50.18])\n",
    "praha_and_wms = And([praha_query, wms_query])\n",
    "\n",
    "thecsw.getrecords2([praha_and_wms], esn='full')\n",
    "print(thecsw.results)\n",
    "\n",
    "for recid in thecsw.records:\n",
    "    record = thecsw.records[recid]\n",
    "    print(record.title, record.bbox.minx, record.bbox.miny, record.bbox.maxx, record.bbox.maxy)"
   ]
  },
  {
   "cell_type": "markdown",
   "metadata": {},
   "source": [
    "Find out attributes of metadata record:"
   ]
  },
  {
   "cell_type": "code",
   "execution_count": null,
   "metadata": {},
   "outputs": [],
   "source": [
    "zm_query = PropertyIsEqualTo('csw:AnyText', 'Prohlížecí služba WMS - ZM 10')\n",
    "thecsw.getrecords2([zm_query], esn='full')\n",
    "zm10 = thecsw.records['CZ-CUZK-WMS-ZM10-P']\n",
    "\n",
    "print(\"Service: %s\" % zm10.type)\n",
    "\n",
    "print(\"Title: %s\" % zm10.title)\n",
    "\n",
    "print(\"Abstract: %s\" % zm10.abstract)\n",
    "\n",
    "zm10_url = zm10.references[0]['url']\n",
    "\n",
    "print(\"Service end point: %s\" % zm10_url)"
   ]
  },
  {
   "cell_type": "markdown",
   "metadata": {},
   "source": [
    "---\n",
    "[<- OGC OWS](01_owslib.ipynb) | [OGC WMS ->](03_wms.ipynb)"
   ]
  }
 ],
 "metadata": {
  "kernelspec": {
   "display_name": "Python 3",
   "language": "python",
   "name": "python3"
  },
  "language_info": {
   "codemirror_mode": {
    "name": "ipython",
    "version": 3
   },
   "file_extension": ".py",
   "mimetype": "text/x-python",
   "name": "python",
   "nbconvert_exporter": "python",
   "pygments_lexer": "ipython3",
   "version": "3.6.3"
  }
 },
 "nbformat": 4,
 "nbformat_minor": 2
}
