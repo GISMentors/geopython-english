{
 "cells": [
  {
   "cell_type": "markdown",
   "metadata": {},
   "source": [
    "### OGC WFS\n",
    "\n",
    "OGC Web Feature Service deals for downloading of vector data. Usually OGC GML format is used for data exchange."
   ]
  },
  {
   "cell_type": "markdown",
   "metadata": {},
   "source": [
    "#### Searching for the data in CSW server\n",
    "\n",
    "NOTE: You can skip this step and use the URL directly"
   ]
  },
  {
   "cell_type": "markdown",
   "metadata": {},
   "source": [
    "First step: let's find some WFS service in our CSW server:"
   ]
  },
  {
   "cell_type": "code",
   "execution_count": null,
   "metadata": {},
   "outputs": [],
   "source": [
    "from owslib.fes import PropertyIsLike, BBox, And, PropertyIsEqualTo\n",
    "from owslib.csw import CatalogueServiceWeb\n",
    "\n",
    "thecsw = CatalogueServiceWeb('http://geoportal.gov.cz/php/micka/csw/index.php')\n",
    "\n",
    "wfs_query = PropertyIsLike('csw:AnyText', 'WFS')\n",
    "geology_query = PropertyIsLike('csw:AnyText', 'Geology')\n",
    "service_query = PropertyIsLike('apiso:type', 'service')\n",
    "geology_and_wfs = And([geology_query, wfs_query, service_query])\n",
    "thecsw.getrecords2([geology_and_wfs], esn='full')\n",
    "\n",
    "print(thecsw.results)\n",
    "\n",
    "for recid in thecsw.records:\n",
    "    record = thecsw.records[recid]\n",
    "    print(recid, record.title)"
   ]
  },
  {
   "cell_type": "markdown",
   "metadata": {},
   "source": [
    "Let's have a look at WFS data in czech Geology survey"
   ]
  },
  {
   "cell_type": "code",
   "execution_count": null,
   "metadata": {},
   "outputs": [],
   "source": [
    "geology = thecsw.records['575a4ef6-2f74-43ed-9352-6f400a010852']\n",
    "print(\"Abstract:\\n %s\\n\" % geology.abstract)\n",
    "\n",
    "print(\"Identifier: %s\" % geology.identifiers[1]['identifier'])"
   ]
  },
  {
   "cell_type": "markdown",
   "metadata": {},
   "source": [
    "#### Download data using Web Feature Service\n",
    "Let's read some data"
   ]
  },
  {
   "cell_type": "code",
   "execution_count": null,
   "metadata": {},
   "outputs": [],
   "source": [
    "from owslib import wfs as webfeatureservice\n",
    "url = \"http://inspire.geology.cz/geoserver/wms?service=WMS&version=1.3.0&request=Getcapabilities\"\n",
    "geology_wfs = webfeatureservice.WebFeatureService(geology.identifiers[1]['identifier'])\n",
    "\n"
   ]
  },
  {
   "cell_type": "markdown",
   "metadata": {},
   "source": [
    "Service metadta (Capabilities):"
   ]
  },
  {
   "cell_type": "code",
   "execution_count": null,
   "metadata": {},
   "outputs": [],
   "source": [
    "capabilities = geology_wfs.getcapabilities()\n",
    "print(\"URL: %s\" % capabilities.geturl())\n",
    "print(\"Name: %s\" % geology_wfs.provider.name)\n",
    "print(\"Title: %s\" % geology_wfs.identification.title)\n",
    "print(\"Keywords: %s\" % geology_wfs.identification.keywords[0])\n",
    "print(\"Fees: %s\" % geology_wfs.identification.fees)\n",
    "print(\"Abstract: %s\" % geology_wfs.identification.abstract)"
   ]
  },
  {
   "cell_type": "markdown",
   "metadata": {},
   "source": [
    "Print list of available layers "
   ]
  },
  {
   "cell_type": "code",
   "execution_count": null,
   "metadata": {},
   "outputs": [],
   "source": [
    "for i in geology_wfs.contents:\n",
    "    print(\"\\n#### {} ####\".format(i))\n",
    "    print(geology_wfs.contents[i].abstract)"
   ]
  },
  {
   "cell_type": "markdown",
   "metadata": {},
   "source": [
    "Download data from selected layer"
   ]
  },
  {
   "cell_type": "code",
   "execution_count": null,
   "metadata": {},
   "outputs": [],
   "source": [
    "identifier = 'gsmlp:CZE_CGS_500k_Fault'\n",
    "features = geology_wfs.getfeature([identifier])\n",
    "\n",
    "with open(\"../../outputs/geology_faults.gml\", \"w\") as out:\n",
    "    out.write(features.read())\n",
    "\n"
   ]
  },
  {
   "cell_type": "markdown",
   "metadata": {},
   "source": [
    "[Download](../../outputs/geology_faults.gml) and open the data using QGIS.\n",
    "\n",
    "![](images/geology_faults.png)"
   ]
  },
  {
   "cell_type": "markdown",
   "metadata": {},
   "source": [
    "---\n",
    "\n",
    "[<- WMS](03_wms.ipynb) | [Working with projections ->](../05_projections/01_projections.ipynb)"
   ]
  }
 ],
 "metadata": {
  "kernelspec": {
   "display_name": "Python 3",
   "language": "python",
   "name": "python3"
  },
  "language_info": {
   "codemirror_mode": {
    "name": "ipython",
    "version": 3
   },
   "file_extension": ".py",
   "mimetype": "text/x-python",
   "name": "python",
   "nbconvert_exporter": "python",
   "pygments_lexer": "ipython3",
   "version": "3.6.3"
  }
 },
 "nbformat": 4,
 "nbformat_minor": 2
}
