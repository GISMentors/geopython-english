{
 "cells": [
  {
   "cell_type": "markdown",
   "metadata": {},
   "source": [
    "## OWSLib\n",
    "\n",
    "[OGC OWSlib](http://geopython.github.io/OWSLib) is interface from the Python language for OGC OWS. The library enables you to connect to the services as client. Currently WMS, WFS, WCS, CSW, WPS, SOS, WMC and others (the list is growing). \n",
    "\n",
    "Documentation: http://geopython.github.io/OWSLib/\n"
   ]
  },
  {
   "cell_type": "markdown",
   "metadata": {},
   "source": [
    "### Our task\n",
    "\n",
    "We are going to search through web catalogue, to find some data (using OGC Catalogue Service for Web) and later, we are going to download the data to local machine (using OGC Web Feature Service and OGC Web Map Service)."
   ]
  },
  {
   "cell_type": "markdown",
   "metadata": {},
   "source": [
    "---\n",
    "[<- Raster to vector](../02_rasters/05_raster2vector.ipynb) | [OGC CSW ->](02_csw.ipynb)\n"
   ]
  }
 ],
 "metadata": {
  "kernelspec": {
   "display_name": "Python 3",
   "language": "python",
   "name": "python3"
  },
  "language_info": {
   "codemirror_mode": {
    "name": "ipython",
    "version": 3
   },
   "file_extension": ".py",
   "mimetype": "text/x-python",
   "name": "python",
   "nbconvert_exporter": "python",
   "pygments_lexer": "ipython3",
   "version": "3.6.3"
  }
 },
 "nbformat": 4,
 "nbformat_minor": 1
}
