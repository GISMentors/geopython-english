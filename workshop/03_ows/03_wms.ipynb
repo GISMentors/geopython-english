{
 "cells": [
  {
   "cell_type": "markdown",
   "metadata": {},
   "source": [
    "### OGC WMS\n",
    "\n",
    "OGC Web Map Service is there for downloading rendered images of the map."
   ]
  },
  {
   "cell_type": "code",
   "execution_count": null,
   "metadata": {},
   "outputs": [],
   "source": [
    "from owslib.wms import WebMapService\n",
    "\n",
    "zm10_url = \"http://geoportal.cuzk.cz/WMS_ZM10_PUB/WMService.aspx?service=WMS&request=getCapabilities\"\n",
    "\n",
    "useragent=\"Mozilla/5.0 (X11; Linux x86_64) AppleWebKit/537.36 (KHTML, like Gecko) Chrome/58.0.3029.110 Safari/537.36\"\n",
    "\n",
    "zm10_wms = WebMapService(zm10_url, version=\"1.3.0\", headers={\"User-Agent\":useragent})\n",
    "\n",
    "print(\"WMS title: %s\" % zm10_wms.identification.title)\n",
    "\n",
    "print(\"WMS abstract: %s\" % zm10_wms.identification.abstract)\n",
    "\n",
    "print(\"Provider name: %s\" % zm10_wms.provider.name)\n",
    "\n",
    "print(\"Provider address: %s\" % zm10_wms.provider.contact.address)"
   ]
  },
  {
   "cell_type": "markdown",
   "metadata": {},
   "source": [
    "Check the [Capabilities response](http://geoportal.cuzk.cz/WMS_ZM10_PUB/WMService.aspx?service=WMS&request=getCapabilities) directly from the server"
   ]
  },
  {
   "cell_type": "markdown",
   "metadata": {},
   "source": [
    "Available WMS layers:"
   ]
  },
  {
   "cell_type": "code",
   "execution_count": null,
   "metadata": {},
   "outputs": [],
   "source": [
    "print(zm10_wms.contents)\n",
    "\n",
    "print(zm10_wms.contents['GR_ZM10'].boundingBox)\n",
    "\n",
    "print(zm10_wms.contents['GR_ZM10'].boundingBoxWGS84)"
   ]
  },
  {
   "cell_type": "markdown",
   "metadata": {},
   "source": [
    "Download and save the data (image)"
   ]
  },
  {
   "cell_type": "code",
   "execution_count": null,
   "metadata": {},
   "outputs": [],
   "source": [
    "img = zm10_wms.getmap(\n",
    "    layers=['GR_ZM10'],\n",
    "    size=[800, 600],\n",
    "    srs=\"EPSG:5514\",\n",
    "    bbox=[-950003.175021186, -1250003.1750036045, -399990.474995786, -899996.8249909044],\n",
    "    format=\"image/png\",\n",
    "    headers={\"User-Agent\":useragent})\n",
    "\n",
    "out = open('../outputs/zm10.png', 'wb')\n",
    "out.write(img.read())\n",
    "out.close()"
   ]
  },
  {
   "cell_type": "markdown",
   "metadata": {},
   "source": [
    "Display image in Notebook"
   ]
  },
  {
   "cell_type": "code",
   "execution_count": null,
   "metadata": {},
   "outputs": [],
   "source": [
    "from IPython.display import Image\n",
    "Image(filename='../outputs/zm10.png')"
   ]
  },
  {
   "cell_type": "markdown",
   "metadata": {},
   "source": [
    "---\n",
    "[<- OGC CSW](02_csw.ipynb) | [OGC WFS ->](04_wfs.ipynb)"
   ]
  }
 ],
 "metadata": {
  "kernelspec": {
   "display_name": "Python 3",
   "language": "python",
   "name": "python3"
  },
  "language_info": {
   "codemirror_mode": {
    "name": "ipython",
    "version": 3
   },
   "file_extension": ".py",
   "mimetype": "text/x-python",
   "name": "python",
   "nbconvert_exporter": "python",
   "pygments_lexer": "ipython3",
   "version": "3.6.3"
  }
 },
 "nbformat": 4,
 "nbformat_minor": 2
}
