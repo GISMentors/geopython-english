{
 "cells": [
  {
   "cell_type": "markdown",
   "metadata": {},
   "source": [
    "### OGC WFS\n",
    "\n",
    "OGC Web Feature Service deals for downloading of vector data. Usually OGC GML format is used for data exchange."
   ]
  },
  {
   "cell_type": "markdown",
   "metadata": {},
   "source": [
    "#### Searching for the data in CSW server\n",
    "\n",
    "NOTE: You can skip this step and use the URL directly"
   ]
  },
  {
   "cell_type": "markdown",
   "metadata": {},
   "source": [
    "First step: let's find some WFS service in our CSW server:"
   ]
  },
  {
   "cell_type": "code",
   "execution_count": 10,
   "metadata": {},
   "outputs": [
    {
     "name": "stdout",
     "output_type": "stream",
     "text": [
      "{'matches': 1, 'returned': 1, 'nextrecord': 0}\n",
      "575a4ef6-2f74-43ed-9352-6f400a010852 ČGS Podložní a povrchová geologie - OneGeology-Europe - anglická verze\n"
     ]
    }
   ],
   "source": [
    "from owslib.fes import PropertyIsLike, BBox, And, PropertyIsEqualTo\n",
    "from owslib.csw import CatalogueServiceWeb\n",
    "\n",
    "thecsw = CatalogueServiceWeb('http://geoportal.gov.cz/php/micka/csw/index.php')\n",
    "\n",
    "wfs_query = PropertyIsLike('csw:AnyText', 'WFS')\n",
    "geology_query = PropertyIsLike('csw:AnyText', 'Geology')\n",
    "service_query = PropertyIsLike('apiso:type', 'service')\n",
    "geology_and_wfs = And([geology_query, wfs_query, service_query])\n",
    "thecsw.getrecords2([geology_and_wfs], esn='full')\n",
    "\n",
    "print(thecsw.results)\n",
    "\n",
    "for recid in thecsw.records:\n",
    "    record = thecsw.records[recid]\n",
    "    print(recid, record.title)"
   ]
  },
  {
   "cell_type": "markdown",
   "metadata": {},
   "source": [
    "Let's have a look at WFS data in czech Geology survey"
   ]
  },
  {
   "cell_type": "code",
   "execution_count": 11,
   "metadata": {},
   "outputs": [
    {
     "name": "stdout",
     "output_type": "stream",
     "text": [
      "Abstract:\n",
      " INSPIRE prohlížecí služba zobrazující datovou sadu GeoCR500, která byla vytvořena pro účely projektu OneGeology-Europe. Aktualizovaná v rámci projektu EGDI v roce 2016.\n",
      "\n",
      "Identifier: http://inspire.geology.cz/geoserver/wms?service=WMS&version=1.3.0&request=Getcapabilities\n"
     ]
    }
   ],
   "source": [
    "geology = thecsw.records['575a4ef6-2f74-43ed-9352-6f400a010852']\n",
    "print(\"Abstract:\\n %s\\n\" % geology.abstract)\n",
    "\n",
    "print(\"Identifier: %s\" % geology.identifiers[1]['identifier'])"
   ]
  },
  {
   "cell_type": "markdown",
   "metadata": {},
   "source": [
    "#### Download data using Web Feature Service\n",
    "Let's read some data"
   ]
  },
  {
   "cell_type": "code",
   "execution_count": 15,
   "metadata": {},
   "outputs": [
    {
     "name": "stderr",
     "output_type": "stream",
     "text": [
      "/usr/lib/python3/dist-packages/owslib/util.py:541: FutureWarning: The behavior of this method will change in future versions. Use specific 'len(elem)' or 'elem is not None' test instead.\n",
      "  if elements:\n"
     ]
    }
   ],
   "source": [
    "from owslib import wfs as webfeatureservice\n",
    "url = \"http://inspire.geology.cz/geoserver/wms?service=WMS&version=1.3.0&request=Getcapabilities\"\n",
    "geology_wfs = webfeatureservice.WebFeatureService(geology.identifiers[1]['identifier'])\n",
    "\n"
   ]
  },
  {
   "cell_type": "markdown",
   "metadata": {},
   "source": [
    "Service metadta (Capabilities):"
   ]
  },
  {
   "cell_type": "code",
   "execution_count": 17,
   "metadata": {},
   "outputs": [
    {
     "name": "stdout",
     "output_type": "stream",
     "text": [
      "URL: http://inspire.geology.cz/geoserver/wms?service=WFS&request=GetCapabilities&version=1.0.0\n",
      "Name: WFS\n",
      "Title: Mapové služby geoserveru České geologické služby-WFS\n",
      "Keywords: WFS, WMS, GEOSERVER\n",
      "Fees: NONE\n",
      "Abstract: Mapvé služby České geologické služby publikované pomocí geoserveru jsou převážně určeny pro mezinárodní projekty, které vyžadují specifická řešení a nelze při nich použít standardních služeb publikovaných na mapovém serveru České geologické služby (http://mapy.geology.cz)\n"
     ]
    }
   ],
   "source": [
    "capabilities = geology_wfs.getcapabilities()\n",
    "print(\"URL: %s\" % capabilities.geturl())\n",
    "print(\"Name: %s\" % geology_wfs.provider.name)\n",
    "print(\"Title: %s\" % geology_wfs.identification.title)\n",
    "print(\"Keywords: %s\" % geology_wfs.identification.keywords[0])\n",
    "print(\"Fees: %s\" % geology_wfs.identification.fees)\n",
    "print(\"Abstract: %s\" % geology_wfs.identification.abstract)"
   ]
  },
  {
   "cell_type": "markdown",
   "metadata": {},
   "source": [
    "Print list of available layers "
   ]
  },
  {
   "cell_type": "code",
   "execution_count": 38,
   "metadata": {},
   "outputs": [
    {
     "name": "stdout",
     "output_type": "stream",
     "text": [
      "\n",
      "#### gsmlp:CZE_CGS_500k_Fault ####\n",
      "MappedFeature (spatial objects) whose specification property is of type Geologic structure\n",
      "\n",
      "#### gsmlp:CZE_CGS_500k_Geology_AGE ####\n",
      "MappedFeature (spatial objects) whose specification property is of type GeologicUnit.\n",
      "\n",
      "#### gsmlp:CZE_CGS_500k_Geology_Lito ####\n",
      "MappedFeature (spatial objects) whose specification property is of type GeologicUnit.\n",
      "\n",
      "#### ge:GeologicStructure ####\n",
      "-- Definition --\n",
      "  Structure\n",
      "  \n",
      "  -- Description --\n",
      "  Legend ...\n",
      "  Spatial properties are only available through association with a MappedFeature.\n",
      "\n",
      "#### ge:GeologicUnit ####\n",
      "-- Definition --\n",
      "  A volume of rock with distinct characteristics.\n",
      "  \n",
      "  -- Description --\n",
      "  Includes both formal units (i.e. formally adopted and named in an official lexicon) and informal units (i.e. named but not promoted to the lexicon) and unnamed units (i.e. recognisable and described and delineable in the field but not otherwise formalised).\n",
      "  Spatial properties are only available through association with a MappedFeature.\n",
      "\n",
      "#### gsmlb:GeologicUnit ####\n",
      "Operationally, the GeologicUnit element is a container used to associate geologic properties with some mapped occurrence (through GeologicFeature.occurrence -> MappedFeature link), or with a geologic unit ControlledConcept in a vocabulary (through the GeologicUnit.classifier ->ControlledConcept link). Conceptually, may represent a body of material in the Earth whose complete and precise extent is inferred to exist (NADM GeologicUnit, Stratigraphic unit in sense of NACSN or International Stratigraphic Code), or a classifier used to characterize parts of the Earth (e.g. lithologic map unit like 'granitic rock' or 'alluvial deposit', surficial units like 'till' or 'old alluvium'). Spatial properties are only available through association with a MappedFeature. Includes both formal units (i.e. formally adopted and named in the official lexicon) and informal units (i.e. named but not promoted to the lexicon) and unnamed units (i.e. recognisable and described and delineable in the field but not otherwise formalised).\n",
      "\n",
      "#### gsmlgu:GeologicUnit ####\n",
      "Operationally, the GeologicUnit element is a container used to associate geologic properties with some mapped occurrence (through GeologicFeature.occurrence -> MappedFeature link), or with a geologic unit ControlledConcept in a vocabulary (through the GeologicUnit.classifier ->ControlledConcept link). Conceptually, may represent a body of material in the Earth whose complete and precise extent is inferred to exist (NADM GeologicUnit, Stratigraphic unit in sense of NACSN or International Stratigraphic Code), or a classifier used to characterize parts of the Earth (e.g. lithologic map unit like 'granitic rock' or 'alluvial deposit', surficial units like 'till' or 'old alluvium'). Spatial properties are only available through association with a MappedFeature. Includes both formal units (i.e. formally adopted and named in the official lexicon) and informal units (i.e. named but not promoted to the lexicon) and unnamed units (i.e. recognisable and described and delineable in the field but not otherwise formalised).\n",
      "\n",
      "#### ge:MappedFeature ####\n",
      "-- Definition --\n",
      "  A spatial representation of a GeologicFeature.\n",
      "  \n",
      "  -- Description --\n",
      "  A MappedFeature is part of a geological interpretation. \n",
      "  It provides a link between a notional feature (description package) and one spatial representation of it, or part of it (exposures, surface traces and intercepts, etc) which forms the specific bounded occurrence, such as an outcrop or map polygon.\n",
      "\n",
      "#### gsml:MappedFeature ####\n",
      "A MappedFeature is part of a geological interpretation. \n",
      "        It provides a link between a notional feature (description package) and one spatial representation of it, or part of it. (Exposures, Surface Traces and Intercepts, etc)\n",
      "        * the specific bounded occurrence, such as an outcrop or map polygon\n",
      "        * the Mapped Feature carries a geometry or shape\n",
      "        - the association with a Geologic Feature (legend item) provides specification of all the other descriptors\n",
      "        - the association with a Sampling Feature provides the context and dimensionality         \n",
      "        A Mapped Feature is always associated with some sampling feature - e.g. a mapping surface, a section, a Borehole (see BoreHolesAndObservation) etc.  As noted on the diagram, if the associated sampling feature is a Borehole, then the shape associated with the MappedFeature will usually be either a point or an interval. This reconciles the 2-D (\"map\", section) and 1-D (borehole, traverse) viewpoints in a common abstraction.\n",
      "\n",
      "#### gsmlb:MappedFeature ####\n",
      "A MappedFeature is part of a geological interpretation. \n",
      "        It provides a link between a notional feature (description package) and one spatial representation of it, or part of it. (Exposures, Surface Traces and Intercepts, etc)\n",
      "        * the specific bounded occurrence, such as an outcrop or map polygon\n",
      "        * the Mapped Feature carries a geometry or shape\n",
      "        - the association with a Geologic Feature (legend item) provides specification of all the other descriptors\n",
      "        - the association with a Sampling Feature provides the context and dimensionality         \n",
      "        A Mapped Feature is always associated with some sampling feature - e.g. a mapping surface, a section, a Borehole (see BoreHolesAndObservation) etc.  As noted on the diagram, if the associated sampling feature is a Borehole, then the shape associated with the MappedFeature will usually be either a point or an interval. This reconciles the 2-D (\"map\", section) and 1-D (borehole, traverse) viewpoints in a common abstraction.\n",
      "\n",
      "#### gsmlp:cgs_gu_export ####\n",
      "None\n"
     ]
    }
   ],
   "source": [
    "for i in geology_wfs.contents:\n",
    "    print(\"\\n#### {} ####\".format(i))\n",
    "    print(geology_wfs.contents[i].abstract)"
   ]
  },
  {
   "cell_type": "markdown",
   "metadata": {},
   "source": [
    "Download data from selected layer"
   ]
  },
  {
   "cell_type": "code",
   "execution_count": 33,
   "metadata": {},
   "outputs": [],
   "source": [
    "identifier = 'gsmlp:CZE_CGS_500k_Fault'\n",
    "features = geology_wfs.getfeature([identifier])\n",
    "\n",
    "with open(\"../../outputs/geology_faults.gml\", \"w\") as out:\n",
    "    out.write(features.read())\n",
    "\n"
   ]
  },
  {
   "cell_type": "markdown",
   "metadata": {},
   "source": [
    "[Download](../../outputs/geology_faults.gml) and open the data using QGIS.\n",
    "\n",
    "![](images/geology_faults.png)"
   ]
  },
  {
   "cell_type": "markdown",
   "metadata": {},
   "source": [
    "---\n",
    "\n",
    "[<- WMS](03_wms.ipynb) | [Working with projections ->](../05_projections/01_projections.ipynb)"
   ]
  }
 ],
 "metadata": {
  "kernelspec": {
   "display_name": "Python 3",
   "language": "python",
   "name": "python3"
  },
  "language_info": {
   "codemirror_mode": {
    "name": "ipython",
    "version": 3
   },
   "file_extension": ".py",
   "mimetype": "text/x-python",
   "name": "python",
   "nbconvert_exporter": "python",
   "pygments_lexer": "ipython3",
   "version": "3.6.5"
  }
 },
 "nbformat": 4,
 "nbformat_minor": 2
}
