{
 "cells": [
  {
   "cell_type": "markdown",
   "metadata": {},
   "source": [
    "## OWSLib\n",
    "\n",
    "[OGC OWSlib](http://geopython.github.io/OWSLib) is interface from the Python language for OGC OWS. The library enables you to connect to the services as client. Currently WMS, WFS, WCS, CSW, WPS, SOS, WMC and others (the list is growing). \n",
    "\n",
    "Documentation: http://geopython.github.io/OWSLib/\n"
   ]
  },
  {
   "cell_type": "markdown",
   "metadata": {},
   "source": [
    "### OGC CSW\n",
    "\n",
    "First think you need, when you want to use some web service, is to know, where it is located. For this purpose, catalogues are build - special services with list of avaliable data, services and application out there - actually list of their metadata. OGC CSW is used very much in european INSPIRE directive and the main entry point for Czech national INSPIRE geoportal is located at http://geoportal.gov.cz/php/micka/csw/index.php (web interface can be found at http://inspire.gov.cz)."
   ]
  },
  {
   "cell_type": "markdown",
   "metadata": {},
   "source": [
    "Let's read some metadata"
   ]
  },
  {
   "cell_type": "code",
   "execution_count": null,
   "metadata": {},
   "outputs": [],
   "source": [
    "from owslib.csw import CatalogueServiceWeb\n",
    "thecsw = CatalogueServiceWeb('http://geoportal.gov.cz/php/micka/csw/index.php')\n",
    "print(thecsw.service)"
   ]
  },
  {
   "cell_type": "markdown",
   "metadata": {},
   "source": [
    "Download the records"
   ]
  },
  {
   "cell_type": "code",
   "execution_count": null,
   "metadata": {},
   "outputs": [],
   "source": [
    "thecsw.getrecords2()\n",
    "print(thecsw.results)"
   ]
  },
  {
   "cell_type": "markdown",
   "metadata": {},
   "source": [
    "Check out some attributes of found records:"
   ]
  },
  {
   "cell_type": "code",
   "execution_count": null,
   "metadata": {},
   "outputs": [],
   "source": [
    "for rec in thecsw.records:\n",
    "    print(thecsw.records[rec].title)"
   ]
  },
  {
   "cell_type": "markdown",
   "metadata": {},
   "source": [
    "### Filters\n",
    "\n",
    "With CSW, you can use another standard of OGC: Filter Encoding Sepcification (FES). Filters can use attributes or geometry. In following example, we will define two filters: records with keyword 'WMS' and with data covering city Prague."
   ]
  },
  {
   "cell_type": "code",
   "execution_count": null,
   "metadata": {},
   "outputs": [],
   "source": [
    "from owslib.fes import PropertyIsLike, BBox, And, PropertyIsEqualTo\n",
    "\n",
    "wms_query = PropertyIsEqualTo('csw:AnyText', 'WMS')\n",
    "praha_query = BBox([14.22,49.94,14.71,50.18])\n",
    "praha_and_wms = And([praha_query, wms_query])\n",
    "\n",
    "thecsw.getrecords2([praha_and_wms], esn='full')\n",
    "print(thecsw.results)\n",
    "\n",
    "for recid in thecsw.records:\n",
    "    record = thecsw.records[recid]\n",
    "    print(record.title, record.bbox.minx, record.bbox.miny, record.bbox.maxx, record.bbox.maxy)"
   ]
  },
  {
   "cell_type": "markdown",
   "metadata": {},
   "source": [
    "Find out attributes of metadata record:"
   ]
  },
  {
   "cell_type": "code",
   "execution_count": null,
   "metadata": {},
   "outputs": [],
   "source": [
    "zm_query = PropertyIsEqualTo('csw:AnyText', 'ZM10')\n",
    "thecsw.getrecords2([zm_query], esn='full')\n",
    "zm10 = thecsw.records['CZ-CUZK-WMS-ZM10-P']\n",
    "\n",
    "print(\"Service: %s\" % zm10.type)\n",
    "\n",
    "print(\"Title: %s\" % zm10.title)\n",
    "\n",
    "print(\"Abstract: %s\" % zm10.abstract)\n",
    "\n",
    "zm10_url = zm10.references[0]['url']\n",
    "\n",
    "print(\"Service end point: %s\" % zm10_url)"
   ]
  },
  {
   "cell_type": "markdown",
   "metadata": {},
   "source": [
    "### OGC WMS\n",
    "\n",
    "OGC Web Map Service is there for downloading rendered images of the map."
   ]
  },
  {
   "cell_type": "code",
   "execution_count": null,
   "metadata": {},
   "outputs": [],
   "source": [
    "from owslib.wms import WebMapService\n",
    "\n",
    "useragent=\"Mozilla/5.0 (X11; Linux x86_64) AppleWebKit/537.36 (KHTML, like Gecko) Chrome/58.0.3029.110 Safari/537.36\"\n",
    "\n",
    "zm10_wms = WebMapService(zm10_url, version=\"1.3.0\", headers={\"User-Agent\":useragent})\n",
    "\n",
    "print(\"WMS title: %s\" % zm10_wms.identification.title)\n",
    "\n",
    "print(\"WMS abstract: %s\" % zm10_wms.identification.abstract)\n",
    "\n",
    "print(\"Provider name: %s\" % zm10_wms.provider.name)\n",
    "\n",
    "print(\"Provider address: %s\" % zm10_wms.provider.contact.address)"
   ]
  },
  {
   "cell_type": "markdown",
   "metadata": {},
   "source": [
    "Available WMS layers:"
   ]
  },
  {
   "cell_type": "code",
   "execution_count": null,
   "metadata": {},
   "outputs": [],
   "source": [
    "print(zm10_wms.contents)\n",
    "\n",
    "print(zm10_wms.contents['GR_ZM10'].boundingBox)\n",
    "\n",
    "print(zm10_wms.contents['GR_ZM10'].boundingBoxWGS84)"
   ]
  },
  {
   "cell_type": "markdown",
   "metadata": {},
   "source": [
    "Download and save the data (image)"
   ]
  },
  {
   "cell_type": "code",
   "execution_count": null,
   "metadata": {},
   "outputs": [],
   "source": [
    "img = zm10_wms.getmap(layers=['GR_ZM10'],\n",
    "    size=[800, 600],\n",
    "    srs=\"EPSG:5514\",\n",
    "    bbox=[-950003.175021186, -1250003.1750036045, -399990.474995786, -899996.8249909044],\n",
    "    format=\"image/png\",\n",
    "    headers={\"User-Agent\":useragent})\n",
    "\n",
    "out = open('../../outputs/zm10.png', 'w')\n",
    "out.write(img.read())\n",
    "out.close()"
   ]
  },
  {
   "cell_type": "code",
   "execution_count": null,
   "metadata": {
    "collapsed": true
   },
   "outputs": [],
   "source": [
    "from IPython.display import Image\n",
    "Image(filename='zm10.png')"
   ]
  },
  {
   "cell_type": "markdown",
   "metadata": {},
   "source": [
    "### OGC WFS\n",
    "\n",
    "OGC Web Feature Service deals for downloading of vector data. Usually OGC GML format is used for data exchange."
   ]
  },
  {
   "cell_type": "markdown",
   "metadata": {},
   "source": [
    "First step: let's find some WFS service in our CSW server:"
   ]
  },
  {
   "cell_type": "code",
   "execution_count": null,
   "metadata": {},
   "outputs": [],
   "source": [
    "wfs_query = PropertyIsLike('csw:AnyText', 'WFS')\n",
    "aopk_query = PropertyIsLike('csw:AnyText', 'AOPK')\n",
    "service_query = PropertyIsLike('apiso:type', 'service')\n",
    "aopk_and_wfs = And([aopk_query, wfs_query, service_query])\n",
    "thecsw.getrecords2([aopk_and_wfs], esn='full')\n",
    "\n",
    "print(thecsw.results)\n",
    "\n",
    "for recid in thecsw.records:\n",
    "    record = thecsw.records[recid]\n",
    "    print(recid, record.title)"
   ]
  },
  {
   "cell_type": "markdown",
   "metadata": {},
   "source": [
    "Let's have a look at WFS data in Nature Conservation Agency of the Czech Republic"
   ]
  },
  {
   "cell_type": "code",
   "execution_count": null,
   "metadata": {},
   "outputs": [],
   "source": [
    "natura = thecsw.records['53e37222-89a0-472b-9781-5bfc0a02080a']\n",
    "print(\"Abstract:\\n %s\\n\" % natura.abstract)\n",
    "\n",
    "print(\"Identifier: %s\" % natura.identifiers[1]['identifier'])"
   ]
  },
  {
   "cell_type": "markdown",
   "metadata": {},
   "source": [
    "Let's read some data"
   ]
  },
  {
   "cell_type": "code",
   "execution_count": null,
   "metadata": {
    "collapsed": true
   },
   "outputs": [],
   "source": [
    "from owslib import wfs as webfeatureservice\n",
    "url = natura.identifiers[1]['identifier']\n",
    "# https does not work, use\n",
    "aopk = webfeatureservice.WebFeatureService('http://gis.nature.cz/arcgis/services/UzemniOchrana/Natura2000/MapServer/WFSServer')"
   ]
  },
  {
   "cell_type": "markdown",
   "metadata": {},
   "source": [
    "Zjistíme vlastnosti služby (Capabilities):"
   ]
  },
  {
   "cell_type": "code",
   "execution_count": null,
   "metadata": {},
   "outputs": [],
   "source": [
    "capabilities = aopk.getcapabilities()\n",
    "print(\"URL: %s\" % capabilities.geturl())\n",
    "print(\"Name: %s\" % aopk.provider.name)\n",
    "print(\"Title: %s\" % aopk.identification.title)\n",
    "print(\"Keywords: %s\" % aopk.identification.keywords[0])\n",
    "print(\"Fees: %s\" % aopk.identification.fees)\n",
    "print(\"Abstract: %s\" % aopk.identification.abstract)"
   ]
  },
  {
   "cell_type": "markdown",
   "metadata": {},
   "source": [
    "Metadata attributes of the service"
   ]
  },
  {
   "cell_type": "code",
   "execution_count": null,
   "metadata": {},
   "outputs": [],
   "source": [
    "for i in aopk.contents:\n",
    "    print(i)"
   ]
  },
  {
   "cell_type": "markdown",
   "metadata": {},
   "source": [
    "Get the data now"
   ]
  },
  {
   "cell_type": "code",
   "execution_count": null,
   "metadata": {},
   "outputs": [],
   "source": [
    "identifier = 'UzemniOchrana_Natura2000:Evropsky_významná_lokalita__EVL_'\n",
    "features = aopk.getfeature([identifier])\n",
    "print(features)"
   ]
  },
  {
   "cell_type": "markdown",
   "metadata": {},
   "source": [
    "Print the XML nicely"
   ]
  },
  {
   "cell_type": "code",
   "execution_count": null,
   "metadata": {
    "collapsed": true
   },
   "outputs": [],
   "source": [
    "print(features.read())"
   ]
  },
  {
   "cell_type": "markdown",
   "metadata": {},
   "source": [
    "### State Administration of Land Surveying and Cadastre WFS service"
   ]
  },
  {
   "cell_type": "markdown",
   "metadata": {},
   "source": [
    "another example: NUTS3 regions from the official WFS server of State Administration of Land Surveying and Cadastre"
   ]
  },
  {
   "cell_type": "code",
   "execution_count": null,
   "metadata": {},
   "outputs": [],
   "source": [
    "cuzk = webfeatureservice.WebFeatureService('http://geoportal.cuzk.cz/wfs_au/wfservice.aspx', version=\"2.0.0\", headers={\"User-agent\":useragent})\n",
    "for c in cuzk.contents:\n",
    "    print(c)\n",
    "\n",
    "nuts3 = cuzk.getfeature(typename=['gmgml:KRAJ'])\n",
    "nuts3.read() # this seems to be broken right now :-/"
   ]
  }
 ],
 "metadata": {
  "kernelspec": {
   "display_name": "Python 3",
   "language": "python",
   "name": "python3"
  },
  "language_info": {
   "codemirror_mode": {
    "name": "ipython",
    "version": 3
   },
   "file_extension": ".py",
   "mimetype": "text/x-python",
   "name": "python",
   "nbconvert_exporter": "python",
   "pygments_lexer": "ipython3",
   "version": "3.5.2"
  }
 },
 "nbformat": 4,
 "nbformat_minor": 1
}
