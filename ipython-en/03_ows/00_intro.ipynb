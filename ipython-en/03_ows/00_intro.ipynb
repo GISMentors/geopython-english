{
 "cells": [
  {
   "cell_type": "markdown",
   "metadata": {},
   "source": [
    "# Interaction with OGC OWS from Pythonb\n",
    "\n",
    "\n",
    "Open Geospatial Consortium (OGC) is international standard organisation. It's members are developing and maintaining standards for geospatial data and web services. Among most known standards belongs format Geography Markup Language (GML), Keyhole Markup Language (KML) and so called open web services (OGC OWS), which includes Web Mapping Service (OGC WMS), Web Feature Service (OGC WFS), Web Coveradge Service (OGC WCS) and others."
   ]
  },
  {
   "cell_type": "markdown",
   "metadata": {},
   "source": [
    "\n",
    "OGC OWS defines communication between server and client, where client (your computer) is sending requests to the server (computer, where are the data and you can access them throu the service). Server is responding usually with XML file. Request has usually form of URL with input parameters separated with & mark, for example:\n",
    "        \n",
    "    http://server/service/request=GetCapabilies&service=WMS"
   ]
  },
  {
   "cell_type": "markdown",
   "metadata": {},
   "source": [
    "IN this case, two parameters are part of the reuquest: `request` with valuee `GetCapabilities` and `service` with value `WMS`."
   ]
  },
  {
   "cell_type": "markdown",
   "metadata": {},
   "source": [
    "Another option usually is, to send the request in form of XML file via HTTP POST interface of the server, for example:\n",
    "\n",
    "    <wps:GetCapabilities xmlns:wps=\"http://www.opengis.net/wps/1.0.0\" ...>\n",
    "         <ows:Identifier>Buffer</ows:Identifier>\n",
    "    </wps:Execute>"
   ]
  },
  {
   "cell_type": "markdown",
   "metadata": {},
   "source": [
    "Forming requests and parsing response from various server implementations and standards could be tricky. Therefore `OWSLib` library was written, which makes life of coders easier."
   ]
  }
 ],
 "metadata": {
  "kernelspec": {
   "display_name": "Python 3",
   "language": "python",
   "name": "python3"
  },
  "language_info": {
   "codemirror_mode": {
    "name": "ipython",
    "version": 3
   },
   "file_extension": ".py",
   "mimetype": "text/x-python",
   "name": "python",
   "nbconvert_exporter": "python",
   "pygments_lexer": "ipython3",
   "version": "3.6.5"
  }
 },
 "nbformat": 4,
 "nbformat_minor": 1
}
