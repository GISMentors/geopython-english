{
 "cells": [
  {
   "cell_type": "markdown",
   "metadata": {},
   "source": [
    "# Raster data introduction\n",
    "\n",
    "Traditionly, we use [GDAL](http://gdal.org) library for interacting with raster data. Lately, [numpy](http://www.numpy.org/) is becoming the popular too, as well as [RasterIO](http://rasterio.readthedocs.io/en/latest/intro.html) does.\n",
    "\n",
    "This workshop will focus on Rasterio and GDAL. [RasterIO](http://rasterio.readthedocs.io/en/latest/intro.html) is maitained by [Sean Gillies](https://github.com/sgillies). It is adding new layer on top of GDAL, which is more compliant to what is common in Python. Compared to RasterIO, with OGR more low-level data access can be achieved.\n",
    "\n",
    "Raster data can be, when compared to vectors, much bigger and therefore workflow has to be adjusted. \n",
    "\n",
    "Rasterdata are usually organised in to matrix, with cells containgin numbers and refered to as 'pixels'.\n",
    "\n",
    "Usually, GDAL library is used for interacting with raster data. GDAL is low-level library and accesses to the data with not so efficient, yet scalable and stable way. Alternative to GDAL is RasterIO library (which is build on top of GDAL too). We can see there analogy to OGR and Fiona librarys we already metioned."
   ]
  }
 ],
 "metadata": {
  "kernelspec": {
   "display_name": "Python 3",
   "language": "python",
   "name": "python3"
  },
  "language_info": {
   "codemirror_mode": {
    "name": "ipython",
    "version": 3
   },
   "file_extension": ".py",
   "mimetype": "text/x-python",
   "name": "python",
   "nbconvert_exporter": "python",
   "pygments_lexer": "ipython3",
   "version": "3.6.5"
  }
 },
 "nbformat": 4,
 "nbformat_minor": 1
}
