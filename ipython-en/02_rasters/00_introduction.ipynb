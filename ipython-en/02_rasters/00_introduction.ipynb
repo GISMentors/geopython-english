{
 "cells": [
  {
   "cell_type": "markdown",
   "metadata": {},
   "source": [
    "Raster data can be, when compared to vectors, much bigger and therefore workflow has to be adjusted. \n",
    "\n",
    "Rasterdata are usually organised in to matrix, with cells containgin numbers and refered to as 'pixels'.\n",
    "\n",
    "Usually, GDAL library is used for interacting with raster data. GDAL is low-level library and accesses to the data with not so efficient, yet scalable and stable way. Alternative to GDAL is RasterIO library (which is build on top of GDAL too). We can see there analogy to OGR and Fiona librarys we already metioned."
   ]
  }
 ],
 "metadata": {
  "kernelspec": {
   "display_name": "Python 3",
   "language": "python",
   "name": "python3"
  },
  "language_info": {
   "codemirror_mode": {
    "name": "ipython",
    "version": 3
   },
   "file_extension": ".py",
   "mimetype": "text/x-python",
   "name": "python",
   "nbconvert_exporter": "python",
   "pygments_lexer": "ipython3",
   "version": "3.5.2+"
  }
 },
 "nbformat": 4,
 "nbformat_minor": 1
}
