{
 "cells": [
  {
   "cell_type": "markdown",
   "metadata": {},
   "source": [
    "# Digital elevation model\n",
    "\n",
    "Our source: SRTM"
   ]
  },
  {
   "cell_type": "code",
   "execution_count": null,
   "metadata": {
    "collapsed": true
   },
   "outputs": [],
   "source": [
    "import rasterio\n",
    "import rasterio.plot\n",
    "\n",
    "dem = rasterio.open(\"../../data/srtm/srtm-utm.geotiff\")\n",
    "rasterio.plot.show(dem)\n",
    "\n",
    "data = dem.read()\n"
   ]
  },
  {
   "cell_type": "markdown",
   "metadata": {},
   "source": [
    "## Slope calculation\n",
    "\n",
    "http://desktop.arcgis.com/en/arcmap/10.3/tools/spatial-analyst-toolbox/how-slope-works.htm\n",
    "\n",
    "![](http://desktop.arcgis.com/en/arcmap/10.3/tools/spatial-analyst-toolbox/GUID-64B478F2-045A-4DDD-9E0E-5757B9098B1B-web.gif)\n",
    "\n",
    "```\n",
    "slope_degrees = ATAN ( √ ([dz/dx]^2 + [dz/dy]^2) ) * 180/PI\n",
    "```"
   ]
  },
  {
   "cell_type": "code",
   "execution_count": null,
   "metadata": {
    "collapsed": true
   },
   "outputs": [],
   "source": [
    "import math\n",
    "import scipy\n",
    "import scipy.ndimage\n",
    "import numpy as np\n",
    "#slope = math.atan(math.sqrt(dz))\n",
    "\n",
    "\n",
    "fp = np.array([[1, 1, 1],\n",
    "               [1, 1, 1],\n",
    "               [1, 1, 1]], np.uint8)\n",
    "\n",
    "                     \n",
    "def get_slope(data):\n",
    "    \"\"\"\n",
    "    +-+-+-+\n",
    "    |a|b|c|\n",
    "    +-+-+-+\n",
    "    |d|e|f|\n",
    "    +-+-+-+\n",
    "    |g|h|i|\n",
    "    +-+-+-+\n",
    "    \n",
    "    [dz/dx] = ((c + 2f + i) - (a + 2d + g) / (8 * x_cellsize)\n",
    "    [dz/dy] = ((g + 2h + i) - (a + 2b + c)) / (8 * y_cellsize)\n",
    "    \"\"\"\n",
    "    m = data.reshape(3, 3)\n",
    "    dz2dx = ((m[0][2] + 2*m[1][1] + m[2][2]) - (m[0][0] + 2*m[1][0] + m[2][0])) / (8 * dem.res[0])\n",
    "    dz2dy = ((m[2][0] + 2*m[2][1] + m[2][2]) - (m[0][0] + 2*m[0][1] + m[0][2])) / (8 * dem.res[1])\n",
    "\n",
    "    slope =  math.sqrt((dz2dx)**2 + (dz2dy)**2)\n",
    "    if slope > 1.5:\n",
    "        slope = 0\n",
    "    slope_deeg = math.atan(slope) * 180/math.pi\n",
    "    \n",
    "    return slope_deeg\n",
    "\n",
    "slope = scipy.ndimage.generic_filter(data[0], get_slope, size=(3,3))\n",
    "\n",
    "rasterio.plot.show(slope)"
   ]
  },
  {
   "cell_type": "markdown",
   "metadata": {},
   "source": [
    "## Aspect calculation\n",
    "\n",
    "http://desktop.arcgis.com/en/arcmap/10.3/tools/spatial-analyst-toolbox/how-aspect-works.htm\n",
    "\n",
    "![](http://desktop.arcgis.com/en/arcmap/10.3/tools/spatial-analyst-toolbox/GUID-A3590481-6E96-4BD8-BF50-25093FD55F00-web.gif)"
   ]
  },
  {
   "cell_type": "code",
   "execution_count": null,
   "metadata": {
    "collapsed": true
   },
   "outputs": [],
   "source": [
    "def get_aspect(data):\n",
    "    \"\"\"\n",
    "    +-+-+-+\n",
    "    |a|b|c|\n",
    "    +-+-+-+\n",
    "    |d|e|f|\n",
    "    +-+-+-+\n",
    "    |g|h|i|\n",
    "    +-+-+-+\n",
    "    \n",
    "    [dz/dx] = ((c + 2f + i) - (a + 2d + g) / 8\n",
    "    [dz/dy] = ((g + 2h + i) - (a + 2b + c)) / 8\n",
    "    \"\"\"\n",
    "    m = data.reshape(3, 3)\n",
    "    dz2dx = ((m[0][2] + 2*m[1][1] + m[2][2]) - (m[0][0] + 2*m[1][0] + m[2][0])) / 8\n",
    "    dz2dy = ((m[2][0] + 2*m[2][1] + m[2][2]) - (m[0][0] + 2*m[0][1] + m[0][2])) / 8\n",
    "    \n",
    "    aspect = 180/math.pi * math.atan2 (dz2dy, -1*dz2dx)\n",
    "    \n",
    "    if aspect > 360:\n",
    "        aspect = aspect%360\n",
    "        \n",
    "    if aspect < 0:\n",
    "        aspect = -1\n",
    "    return aspect\n",
    "\n",
    "aspect = scipy.ndimage.generic_filter(data[0], get_aspect, size=(3,3))\n",
    "\n",
    "rasterio.plot.show(aspect)"
   ]
  },
  {
   "cell_type": "code",
   "execution_count": null,
   "metadata": {
    "collapsed": true
   },
   "outputs": [],
   "source": []
  }
 ],
 "metadata": {
  "kernelspec": {
   "display_name": "Python 3",
   "language": "python",
   "name": "python3"
  },
  "language_info": {
   "codemirror_mode": {
    "name": "ipython",
    "version": 3
   },
   "file_extension": ".py",
   "mimetype": "text/x-python",
   "name": "python",
   "nbconvert_exporter": "python",
   "pygments_lexer": "ipython3",
   "version": "3.5.2+"
  }
 },
 "nbformat": 4,
 "nbformat_minor": 2
}
