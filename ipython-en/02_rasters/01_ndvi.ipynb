{
 "cells": [
  {
   "cell_type": "markdown",
   "metadata": {},
   "source": [
    "# RasterIO\n",
    "\n",
    "RasterIO library is another work of Sean Gillies, this time as one of the results of his activities in MapBox. RasterIO deals with raster geographic datasets. \n",
    "\n",
    "RasterIO converts the data to NumPy structures (similar to Fiona, which converts vectors to GeoJSON structure)."
   ]
  },
  {
   "cell_type": "markdown",
   "metadata": {},
   "source": [
    "In following example, we will open GeoTIFF file"
   ]
  },
  {
   "cell_type": "code",
   "execution_count": 1,
   "metadata": {},
   "outputs": [
    {
     "name": "stdout",
     "output_type": "stream",
     "text": [
      "BoundingBox(left=630540.0, bottom=218670.0, right=643410.0, top=226980.0)\n",
      "CRS({'datum': 'NAD83', 'x_0': 609601.22, 'units': 'm', 'lon_0': -79, 'lat_2': 34.33333333333334, 'y_0': 0, 'lat_1': 36.16666666666666, 'proj': 'lcc', 'no_defs': True, 'lat_0': 33.75})\n",
      "{'AREA_OR_POINT': 'Area'}\n",
      "(1287, 831)\n",
      "(10.0, 10.0)\n"
     ]
    }
   ],
   "source": [
    "import rasterio\n",
    "src = rasterio.open('../../data/lsat7_2002_nir.tiff')\n",
    "\n",
    "# print metadata\n",
    "print(src.bounds)\n",
    "\n",
    "print(src.crs)\n",
    "\n",
    "print(src.tags())\n",
    "\n",
    "print((src.width, src.height))\n",
    "\n",
    "print(src.res)"
   ]
  },
  {
   "cell_type": "markdown",
   "metadata": {},
   "source": [
    "![RGB file](http://training.gismentors.eu/geopython-zacatecnik/_images/rgb.png)\n"
   ]
  },
  {
   "cell_type": "markdown",
   "metadata": {},
   "source": [
    "Let's read some raster bands"
   ]
  },
  {
   "cell_type": "code",
   "execution_count": 5,
   "metadata": {},
   "outputs": [
    {
     "name": "stdout",
     "output_type": "stream",
     "text": [
      "3\n"
     ]
    }
   ],
   "source": [
    "data = src.read()\n",
    "print(len(data))"
   ]
  },
  {
   "cell_type": "markdown",
   "metadata": {},
   "source": [
    "We can see, that there are 3 color bands in given rater file. Let's create new file, containing NDVI (Normalized Difference Vegetation Index - ):\n",
    "\n",
    "    NDVI=(NIR−VIS)/(NIR+VIS)\n"
   ]
  },
  {
   "cell_type": "markdown",
   "metadata": {},
   "source": [
    "First we have to create new matrix for resulting data. Then we insert result of the calculation to each cell. \n",
    "\n",
    "We will be working actually with NumPy structures, which is designed for work with large array fields."
   ]
  },
  {
   "cell_type": "code",
   "execution_count": 6,
   "metadata": {},
   "outputs": [
    {
     "name": "stdout",
     "output_type": "stream",
     "text": [
      "-0.944444\n",
      "0.974359\n"
     ]
    }
   ],
   "source": [
    "(nir, vis) = (data[0], data[1])\n",
    "ndvi = (nir - vis) / (nir + vis)\n",
    "print(ndvi.min())\n",
    "print(ndvi.max())"
   ]
  },
  {
   "cell_type": "markdown",
   "metadata": {},
   "source": [
    "Let us now create new raster file, with LWZ compression, encoded in float64 type. The file shall have one band and will use the GeoTIFF format."
   ]
  },
  {
   "cell_type": "code",
   "execution_count": 8,
   "metadata": {},
   "outputs": [
    {
     "name": "stderr",
     "output_type": "stream",
     "text": [
      "/home/jachym/venvs/geopython-en/lib/python3.5/site-packages/rasterio/__init__.py:160: FutureWarning: GDAL-style transforms are deprecated and will not be supported in Rasterio 1.0.\n",
      "  transform = guard_transform(transform)\n"
     ]
    }
   ],
   "source": [
    "kwargs = src.meta\n",
    "kwargs.update(dtype=rasterio.float64, count=1, compress='lzw')\n",
    "with rasterio.open('../../data/ndvi.tif', 'w', **kwargs) as dst:\n",
    "    dst.write_band(1, ndvi.astype(rasterio.float64))"
   ]
  },
  {
   "cell_type": "markdown",
   "metadata": {},
   "source": [
    "![NDVI file](http://training.gismentors.eu/geopython-zacatecnik/_images/ndvi.png)\n"
   ]
  }
 ],
 "metadata": {
  "kernelspec": {
   "display_name": "Python 3",
   "language": "python",
   "name": "python3"
  },
  "language_info": {
   "codemirror_mode": {
    "name": "ipython",
    "version": 3
   },
   "file_extension": ".py",
   "mimetype": "text/x-python",
   "name": "python",
   "nbconvert_exporter": "python",
   "pygments_lexer": "ipython3",
   "version": "3.5.2+"
  }
 },
 "nbformat": 4,
 "nbformat_minor": 1
}
