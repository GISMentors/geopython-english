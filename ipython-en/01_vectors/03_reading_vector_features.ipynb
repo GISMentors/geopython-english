{
 "cells": [
  {
   "cell_type": "markdown",
   "metadata": {},
   "source": [
    "# Reading vector features"
   ]
  },
  {
   "cell_type": "markdown",
   "metadata": {},
   "source": [
    "In this chapter, we will demonstrate how to read vector features stored in the data source."
   ]
  },
  {
   "cell_type": "markdown",
   "metadata": {},
   "source": [
    "First we open the data source again"
   ]
  },
  {
   "cell_type": "code",
   "execution_count": 2,
   "metadata": {},
   "outputs": [],
   "source": [
    "import fiona\n",
    "\n",
    "protected_areas = fiona.open(\"data/protected_areas.gpkg\")"
   ]
  },
  {
   "cell_type": "markdown",
   "metadata": {},
   "source": [
    "Let's find out, how many features are stored in the database"
   ]
  },
  {
   "cell_type": "code",
   "execution_count": 5,
   "metadata": {},
   "outputs": [
    {
     "name": "stdout",
     "output_type": "stream",
     "text": [
      "Number of features:  5626\n"
     ]
    }
   ],
   "source": [
    "print(\"Number of features: \", len(protected_areas))"
   ]
  },
  {
   "cell_type": "markdown",
   "metadata": {},
   "source": [
    "## Working with features in sequence "
   ]
  },
  {
   "cell_type": "markdown",
   "metadata": {},
   "source": [
    "We can use standard Python loops to work with vector features:"
   ]
  },
  {
   "cell_type": "code",
   "execution_count": 8,
   "metadata": {},
   "outputs": [
    {
     "name": "stdout",
     "output_type": "stream",
     "text": [
      "Polygon\n",
      "Polygon\n",
      "Polygon\n",
      "Polygon\n",
      "Polygon\n",
      "Polygon\n",
      "Polygon\n",
      "Polygon\n",
      "Polygon\n",
      "Polygon\n"
     ]
    }
   ],
   "source": [
    "for feature in protected_areas[0:10]:\n",
    "    print(feature['geometry']['type'])"
   ]
  },
  {
   "cell_type": "markdown",
   "metadata": {},
   "source": [
    "## Finding one feature acoording to it's index"
   ]
  },
  {
   "cell_type": "code",
   "execution_count": 14,
   "metadata": {},
   "outputs": [
    {
     "name": "stdout",
     "output_type": "stream",
     "text": [
      "Krkonošský národní park\n"
     ]
    }
   ],
   "source": [
    "print(protected_areas[54]['properties']['name']) \n",
    "\n",
    "# Should print\n",
    "# Krkonošský národní park, \n",
    "# The Krkonoše Mountains National Park"
   ]
  },
  {
   "cell_type": "code",
   "execution_count": 18,
   "metadata": {},
   "outputs": [
    {
     "name": "stdout",
     "output_type": "stream",
     "text": [
      "OrderedDict([('objectid', 74511), ('code', 66), ('cat', 'NP'), ('name', 'Krkonošský národní park'), ('zone', 'I'), ('area', 36300.0)])\n"
     ]
    }
   ],
   "source": [
    "print(protected_areas[54][\"properties\"])"
   ]
  },
  {
   "cell_type": "markdown",
   "metadata": {},
   "source": [
    "---\n",
    "[<- Opening data source](02_working_with_data_source.ipynb) | [Working with geometries ->](04_geometries.ipynb)"
   ]
  },
  {
   "cell_type": "code",
   "execution_count": null,
   "metadata": {},
   "outputs": [],
   "source": []
  }
 ],
 "metadata": {
  "kernelspec": {
   "display_name": "Python 3",
   "language": "python",
   "name": "python3"
  },
  "language_info": {
   "codemirror_mode": {
    "name": "ipython",
    "version": 3
   },
   "file_extension": ".py",
   "mimetype": "text/x-python",
   "name": "python",
   "nbconvert_exporter": "python",
   "pygments_lexer": "ipython3",
   "version": "3.6.5"
  }
 },
 "nbformat": 4,
 "nbformat_minor": 2
}
