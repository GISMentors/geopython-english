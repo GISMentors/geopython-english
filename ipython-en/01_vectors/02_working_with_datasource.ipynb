{
 "cells": [
  {
   "cell_type": "markdown",
   "metadata": {},
   "source": [
    "# Open data source"
   ]
  },
  {
   "cell_type": "markdown",
   "metadata": {},
   "source": [
    "In this chapter, we will open file data source and explorer it's metadata"
   ]
  },
  {
   "cell_type": "code",
   "execution_count": 1,
   "metadata": {},
   "outputs": [
    {
     "name": "stdout",
     "output_type": "stream",
     "text": [
      "<open Collection 'data/protected_areas.gpkg:protected_areas', mode 'r' at 0x7f8a802787b8>\n"
     ]
    }
   ],
   "source": [
    "import fiona\n",
    "\n",
    "# More convinion method of opening data source is the 'with' statement:\n",
    "# with fiona.open('data/protected_areas.gpkg', 'r') as protectected_areas:\n",
    "#     print(protectected_areas)\n",
    "\n",
    "\n",
    "protected_areas = fiona.open('data/protected_areas.gpkg', 'r')\n",
    "print(protected_areas)"
   ]
  },
  {
   "cell_type": "markdown",
   "metadata": {},
   "source": [
    "We can now mine some metadata about this feature collection, see [documentation](http://toblerity.org/fiona/manual.html)"
   ]
  },
  {
   "cell_type": "code",
   "execution_count": 2,
   "metadata": {},
   "outputs": [
    {
     "data": {
      "text/plain": [
       "'GPKG'"
      ]
     },
     "execution_count": 2,
     "metadata": {},
     "output_type": "execute_result"
    }
   ],
   "source": [
    "# driver\n",
    "protected_areas.driver"
   ]
  },
  {
   "cell_type": "code",
   "execution_count": 3,
   "metadata": {},
   "outputs": [
    {
     "data": {
      "text/plain": [
       "{'ellps': 'GRS80',\n",
       " 'lat_0': 52,\n",
       " 'lon_0': 10,\n",
       " 'no_defs': True,\n",
       " 'proj': 'laea',\n",
       " 'units': 'm',\n",
       " 'x_0': 4321000,\n",
       " 'y_0': 3210000}"
      ]
     },
     "execution_count": 3,
     "metadata": {},
     "output_type": "execute_result"
    }
   ],
   "source": [
    "# coordinate reference system\n",
    "protected_areas.crs"
   ]
  },
  {
   "cell_type": "code",
   "execution_count": 4,
   "metadata": {},
   "outputs": [
    {
     "data": {
      "text/plain": [
       "'data/protected_areas.gpkg'"
      ]
     },
     "execution_count": 4,
     "metadata": {},
     "output_type": "execute_result"
    }
   ],
   "source": [
    "# file name\n",
    "protected_areas.path"
   ]
  },
  {
   "cell_type": "code",
   "execution_count": 5,
   "metadata": {},
   "outputs": [
    {
     "data": {
      "text/plain": [
       "'protected_areas'"
      ]
     },
     "execution_count": 5,
     "metadata": {},
     "output_type": "execute_result"
    }
   ],
   "source": [
    "# layer name\n",
    "protected_areas.name"
   ]
  },
  {
   "cell_type": "code",
   "execution_count": 6,
   "metadata": {},
   "outputs": [
    {
     "data": {
      "text/plain": [
       "(4493980.0, 2839120.0, 4952710.0, 3106270.0)"
      ]
     },
     "execution_count": 6,
     "metadata": {},
     "output_type": "execute_result"
    }
   ],
   "source": [
    "# bounding box coordinates\n",
    "protected_areas.bounds"
   ]
  },
  {
   "cell_type": "code",
   "execution_count": 7,
   "metadata": {},
   "outputs": [
    {
     "name": "stdout",
     "output_type": "stream",
     "text": [
      "{'driver': 'GPKG', 'schema': {'properties': OrderedDict([('objectid', 'int'), ('code', 'int'), ('cat', 'str:4'), ('name', 'str:27'), ('zone', 'str:3'), ('area', 'float')]), 'geometry': 'Polygon'}, 'crs': {'proj': 'laea', 'lat_0': 52, 'lon_0': 10, 'x_0': 4321000, 'y_0': 3210000, 'ellps': 'GRS80', 'units': 'm', 'no_defs': True}, 'crs_wkt': 'PROJCS[\"Lambert_Azimuthal_Equal_Area\",GEOGCS[\"GCS_GRS 1980(IUGG, 1980)\",DATUM[\"unknown\",SPHEROID[\"GRS80\",6378137,298.257222101]],PRIMEM[\"Greenwich\",0],UNIT[\"Degree\",0.017453292519943295]],PROJECTION[\"Lambert_Azimuthal_Equal_Area\"],PARAMETER[\"latitude_of_center\",52],PARAMETER[\"longitude_of_center\",10],PARAMETER[\"false_easting\",4321000],PARAMETER[\"false_northing\",3210000],UNIT[\"Meter\",1]]'}\n"
     ]
    }
   ],
   "source": [
    "# everything in one step\n",
    "print(protected_areas.meta)"
   ]
  },
  {
   "cell_type": "code",
   "execution_count": 20,
   "metadata": {},
   "outputs": [
    {
     "name": "stdout",
     "output_type": "stream",
     "text": [
      "{\n",
      "    \"crs\": {\n",
      "        \"ellps\": \"GRS80\",\n",
      "        \"lat_0\": 52,\n",
      "        \"lon_0\": 10,\n",
      "        \"no_defs\": true,\n",
      "        \"proj\": \"laea\",\n",
      "        \"units\": \"m\",\n",
      "        \"x_0\": 4321000,\n",
      "        \"y_0\": 3210000\n",
      "    },\n",
      "    \"crs_wkt\": \"PROJCS[\\\"Lambert_Azimuthal_Equal_Area\\\",GEOGCS[\\\"GCS_GRS 1980(IUGG, 1980)\\\",DATUM[\\\"unknown\\\",SPHEROID[\\\"GRS80\\\",6378137,298.257222101]],PRIMEM[\\\"Greenwich\\\",0],UNIT[\\\"Degree\\\",0.017453292519943295]],PROJECTION[\\\"Lambert_Azimuthal_Equal_Area\\\"],PARAMETER[\\\"latitude_of_center\\\",52],PARAMETER[\\\"longitude_of_center\\\",10],PARAMETER[\\\"false_easting\\\",4321000],PARAMETER[\\\"false_northing\\\",3210000],UNIT[\\\"Meter\\\",1]]\",\n",
      "    \"driver\": \"GPKG\",\n",
      "    \"schema\": {\n",
      "        \"geometry\": \"Polygon\",\n",
      "        \"properties\": {\n",
      "            \"area\": \"float\",\n",
      "            \"cat\": \"str:4\",\n",
      "            \"code\": \"int\",\n",
      "            \"name\": \"str:27\",\n",
      "            \"objectid\": \"int\",\n",
      "            \"zone\": \"str:3\"\n",
      "        }\n",
      "    }\n",
      "}\n"
     ]
    }
   ],
   "source": [
    "# try better format\n",
    "import json\n",
    "print(json.dumps(protected_areas.meta, sort_keys=True, indent=4, separators=(',', ': ')))"
   ]
  },
  {
   "cell_type": "markdown",
   "metadata": {},
   "source": [
    "## Coordinate reference systems"
   ]
  },
  {
   "cell_type": "markdown",
   "metadata": {},
   "source": [
    "Finding out, which coordinate reference systems the data are stored in"
   ]
  },
  {
   "cell_type": "code",
   "execution_count": 26,
   "metadata": {},
   "outputs": [
    {
     "name": "stdout",
     "output_type": "stream",
     "text": [
      "{'proj': 'laea', 'lat_0': 52, 'lon_0': 10, 'x_0': 4321000, 'y_0': 3210000, 'ellps': 'GRS80', 'units': 'm', 'no_defs': True}\n"
     ]
    }
   ],
   "source": [
    "print(protected_areas.crs)"
   ]
  },
  {
   "cell_type": "code",
   "execution_count": null,
   "metadata": {},
   "outputs": [],
   "source": [
    "More convenion method - so called [Proj4](https://proj4.org/) encoding"
   ]
  },
  {
   "cell_type": "code",
   "execution_count": 25,
   "metadata": {},
   "outputs": [
    {
     "name": "stdout",
     "output_type": "stream",
     "text": [
      "+ellps=GRS80 +lat_0=52 +lon_0=10 +no_defs +proj=laea +units=m +x_0=4321000 +y_0=3210000\n"
     ]
    }
   ],
   "source": [
    "from fiona.crs import to_string\n",
    "print(to_string(protected_areas.crs))"
   ]
  },
  {
   "cell_type": "markdown",
   "metadata": {},
   "source": [
    "## Final closing"
   ]
  },
  {
   "cell_type": "code",
   "execution_count": 16,
   "metadata": {},
   "outputs": [],
   "source": [
    "protected_areas.close()"
   ]
  },
  {
   "cell_type": "markdown",
   "metadata": {},
   "source": [
    "---\n",
    "[<-- Fiona and Shapely intro](01_fiona.ipynb) | [Reading vector features ->](03_reading_vector_features.ipynb)"
   ]
  }
 ],
 "metadata": {
  "kernelspec": {
   "display_name": "Python 3",
   "language": "python",
   "name": "python3"
  },
  "language_info": {
   "codemirror_mode": {
    "name": "ipython",
    "version": 3
   },
   "file_extension": ".py",
   "mimetype": "text/x-python",
   "name": "python",
   "nbconvert_exporter": "python",
   "pygments_lexer": "ipython3",
   "version": "3.6.5"
  }
 },
 "nbformat": 4,
 "nbformat_minor": 2
}
