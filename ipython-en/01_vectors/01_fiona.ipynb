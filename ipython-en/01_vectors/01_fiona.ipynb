{
 "cells": [
  {
   "cell_type": "markdown",
   "metadata": {},
   "source": [
    "# Fiona and Shapely\n",
    "\n",
    "[Fiona](http://toblerity.org/fiona/) is build on top of OGR and it introduces the object-oriented approach to the work with vector data. The data are re-mapped in to [GeoJSON](http://geojson.org) structure. The interaction is more straight-forward compared to OGR.\n",
    "\n",
    "Fiona is not suited to be the best for all tasks - simplicity is buyed back by the fact, all data need to be loaded in memmory. Also speed can be lower, when dealing with larger amounts of data. Where OGR uses pointers, Fiona has to deal with whole python objects. Generally: if you need to filter vector features, OGR should be faster, if you need to work with features sequentially, Fiona should be better.\n",
    "\n",
    "**Note**:\n",
    "> Fiona is great for binary data formats. For JSON, use the `json` python package. For data stored in database, use standard Python database interface.\n",
    "\n",
    "[Shapely](http://toblerity.org/shapely/manual.html) Shapely is a Python package for set-theoretic analysis and manipulation of planar features using (via Python’s ctypes module) functions from the well known and widely deployed GEOS library. \n",
    "\n",
    "**Short version:** \n",
    "> Fiona is here for attribute and whole data source manipulation, Shapely just manupulates vector data geometries."
   ]
  },
  {
   "cell_type": "markdown",
   "metadata": {},
   "source": [
    "## Our task"
   ]
  },
  {
   "cell_type": "markdown",
   "metadata": {},
   "source": [
    "Our task is to *create map of protected areas regions, which will be affected by new highway, being build from Prague (The Czech republic) to Dresden (Germany)*.\n",
    "\n",
    "As input data, we shall have\n",
    "\n",
    "* Protected areas polygons downloaded from [the Nature Conservation Agency of the Czech Republic](http://www.ochranaprirody.cz/en/)\n",
    "* Map of highways downloaded from [OpenStreetMap](http://openstreetmap.org) project\n",
    "\n",
    "Data are stored in files: [data/protected_areas.gpkg](data/protected_areas.gpkg) and [data/highways.geojson](data/highways.geojson) (in fact, you can see our highways [on GitHub]().\n"
   ]
  },
  {
   "cell_type": "code",
   "execution_count": 18,
   "metadata": {},
   "outputs": [
    {
     "data": {
      "text/plain": [
       "True"
      ]
     },
     "execution_count": 18,
     "metadata": {},
     "output_type": "execute_result"
    }
   ],
   "source": [
    "simple = poly.simplify(10)\n",
    "simple.intersects(poly)\n",
    "buff = poly.buffer(10)\n",
    "buff.contains(poly)"
   ]
  },
  {
   "cell_type": "markdown",
   "metadata": {},
   "source": [
    "some feature attributes can be fixed as well, at the end, we write new created feature down"
   ]
  },
  {
   "cell_type": "code",
   "execution_count": null,
   "metadata": {
    "collapsed": true
   },
   "outputs": [],
   "source": [
    "from shapely.geometry import mapping\n",
    "feature = cr.copy()\n",
    "feature.update(id=-1, geometry=mapping(buff))\n",
    "feature[\"properties\"].update(NAZEV=\"Mordor\")\n",
    "print(feature[\"properties\"].keys())\n",
    "print(chko.schema[\"properties\"].keys())\n",
    "chko = fiona.open('../../data/protected_areas-etrs.shp', 'a')\n",
    "print(\"Features before: %d \" % len(chko))\n",
    "chko.write(feature)\n",
    "print(\"Features after: %d \" % len(chko))\n",
    "chko.close()"
   ]
  },
  {
   "cell_type": "markdown",
   "metadata": {},
   "source": [
    "---\n",
    "[<- Introduction to vectors](00_introduction.ipynb) | [GDAL ->](02_ogr.ipynb)"
   ]
  }
 ],
 "metadata": {
  "kernelspec": {
   "display_name": "Python 3",
   "language": "python",
   "name": "python3"
  },
  "language_info": {
   "codemirror_mode": {
    "name": "ipython",
    "version": 3
   },
   "file_extension": ".py",
   "mimetype": "text/x-python",
   "name": "python",
   "nbconvert_exporter": "python",
   "pygments_lexer": "ipython3",
   "version": "3.6.5"
  }
 },
 "nbformat": 4,
 "nbformat_minor": 1
}
