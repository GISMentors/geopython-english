{
 "cells": [
  {
   "cell_type": "markdown",
   "metadata": {},
   "source": [
    "# Fiona and Shapely\n",
    "\n",
    "[Fiona](http://toblerity.org/fiona/) is build on top of OGR and it introduces the object-oriented approach to the work with vector data. The data are re-mapped in to [GeoJSON](http://geojson.org) structure. The interaction is more straight-forward compared to OGR.\n",
    "\n",
    "Fiona is not suited to be the best for all tasks - simplicity is buyed back by the fact, all data need to be loaded in memmory. Also speed can be lower, when dealing with larger amounts of data. Where OGR uses pointers, Fiona has to deal with whole python objects. Generally: if you need to filter vector features, OGR should be faster, if you need to work with features sequentially, Fiona should be better.\n",
    "\n",
    "**Note**:\n",
    "> Fiona is great for binary data formats. For JSON, use the `json` python package. For data stored in database, use standard Python database interface.\n",
    "\n",
    "[Shapely](http://toblerity.org/shapely/manual.html) Shapely is a Python package for set-theoretic analysis and manipulation of planar features using (via Python’s ctypes module) functions from the well known and widely deployed GEOS library. \n",
    "\n",
    "**Short version:** \n",
    "> Fiona is here for attribute and whole data source manipulation, Shapely just manupulates vector data geometries."
   ]
  },
  {
   "cell_type": "markdown",
   "metadata": {},
   "source": [
    "## Open data source"
   ]
  },
  {
   "cell_type": "markdown",
   "metadata": {},
   "source": [
    "First we need to create so called collection of features:"
   ]
  },
  {
   "cell_type": "code",
   "execution_count": 3,
   "metadata": {},
   "outputs": [
    {
     "data": {
      "text/plain": [
       "<open Collection '../../data/protected_areas-etrs.shp:protected_areas-etrs', mode 'r' at 0x7fdda48ca1d0>"
      ]
     },
     "execution_count": 3,
     "metadata": {},
     "output_type": "execute_result"
    }
   ],
   "source": [
    "import fiona\n",
    "chko = fiona.open('../../data/protected_areas-etrs.shp', 'r') # collection - data are stored in ../../data directory \n",
    "chko"
   ]
  },
  {
   "cell_type": "markdown",
   "metadata": {},
   "source": [
    "We can now mine some metadata about this feature collection, see [documentation](http://toblerity.org/fiona/manual.html)"
   ]
  },
  {
   "cell_type": "code",
   "execution_count": 4,
   "metadata": {},
   "outputs": [
    {
     "data": {
      "text/plain": [
       "'ESRI Shapefile'"
      ]
     },
     "execution_count": 4,
     "metadata": {},
     "output_type": "execute_result"
    }
   ],
   "source": [
    "# driver\n",
    "chko.driver"
   ]
  },
  {
   "cell_type": "code",
   "execution_count": 5,
   "metadata": {},
   "outputs": [
    {
     "data": {
      "text/plain": [
       "{'ellps': 'GRS80',\n",
       " 'lat_0': 52,\n",
       " 'lon_0': 10,\n",
       " 'no_defs': True,\n",
       " 'proj': 'laea',\n",
       " 'units': 'm',\n",
       " 'x_0': 4321000,\n",
       " 'y_0': 3210000}"
      ]
     },
     "execution_count": 5,
     "metadata": {},
     "output_type": "execute_result"
    }
   ],
   "source": [
    "# coordinate reference system\n",
    "chko.crs"
   ]
  },
  {
   "cell_type": "code",
   "execution_count": 6,
   "metadata": {},
   "outputs": [
    {
     "data": {
      "text/plain": [
       "'../../data/protected_areas-etrs.shp'"
      ]
     },
     "execution_count": 6,
     "metadata": {},
     "output_type": "execute_result"
    }
   ],
   "source": [
    "# file name\n",
    "chko.path"
   ]
  },
  {
   "cell_type": "code",
   "execution_count": 7,
   "metadata": {},
   "outputs": [
    {
     "data": {
      "text/plain": [
       "'protected_areas-etrs'"
      ]
     },
     "execution_count": 7,
     "metadata": {},
     "output_type": "execute_result"
    }
   ],
   "source": [
    "# layer name\n",
    "chko.name"
   ]
  },
  {
   "cell_type": "code",
   "execution_count": 8,
   "metadata": {},
   "outputs": [
    {
     "data": {
      "text/plain": [
       "(4493979.359512844, 2839119.848736721, 4952710.629522002, 3106267.3238070104)"
      ]
     },
     "execution_count": 8,
     "metadata": {},
     "output_type": "execute_result"
    }
   ],
   "source": [
    "# bounding box coordinates\n",
    "chko.bounds"
   ]
  },
  {
   "cell_type": "code",
   "execution_count": 9,
   "metadata": {},
   "outputs": [
    {
     "name": "stdout",
     "output_type": "stream",
     "text": [
      "{'driver': 'ESRI Shapefile', 'schema': {'properties': OrderedDict([('gml_id', 'str:80'), ('OBJECTID', 'int:10'), ('KOD', 'int:10'), ('KAT', 'str:4'), ('NAZEV', 'str:27'), ('ZONA', 'str:3'), ('ROZL', 'float:24.15'), ('OP_TYP', 'str:3'), ('IUCN', 'str:2'), ('ZMENA_G', 'int:10'), ('ZMENA_T', 'int:10'), ('PREKRYV', 'int:10'), ('SHAPE.AREA', 'float:24.15'), ('SHAPE.LEN', 'float:24.15')]), 'geometry': 'Polygon'}, 'crs': {'proj': 'laea', 'lat_0': 52, 'lon_0': 10, 'x_0': 4321000, 'y_0': 3210000, 'ellps': 'GRS80', 'units': 'm', 'no_defs': True}, 'crs_wkt': 'PROJCS[\"Lambert_Azimuthal_Equal_Area\",GEOGCS[\"GCS_GRS 1980(IUGG, 1980)\",DATUM[\"unknown\",SPHEROID[\"GRS80\",6378137,298.257222101]],PRIMEM[\"Greenwich\",0],UNIT[\"Degree\",0.017453292519943295]],PROJECTION[\"Lambert_Azimuthal_Equal_Area\"],PARAMETER[\"latitude_of_center\",52],PARAMETER[\"longitude_of_center\",10],PARAMETER[\"false_easting\",4321000],PARAMETER[\"false_northing\",3210000],UNIT[\"Meter\",1]]'}\n"
     ]
    }
   ],
   "source": [
    "# everything in one step\n",
    "print(chko.meta)"
   ]
  },
  {
   "cell_type": "code",
   "execution_count": 10,
   "metadata": {},
   "outputs": [
    {
     "name": "stdout",
     "output_type": "stream",
     "text": [
      "{\n",
      "    \"crs\": {\n",
      "        \"ellps\": \"GRS80\",\n",
      "        \"lat_0\": 52,\n",
      "        \"lon_0\": 10,\n",
      "        \"no_defs\": true,\n",
      "        \"proj\": \"laea\",\n",
      "        \"units\": \"m\",\n",
      "        \"x_0\": 4321000,\n",
      "        \"y_0\": 3210000\n",
      "    },\n",
      "    \"crs_wkt\": \"PROJCS[\\\"Lambert_Azimuthal_Equal_Area\\\",GEOGCS[\\\"GCS_GRS 1980(IUGG, 1980)\\\",DATUM[\\\"unknown\\\",SPHEROID[\\\"GRS80\\\",6378137,298.257222101]],PRIMEM[\\\"Greenwich\\\",0],UNIT[\\\"Degree\\\",0.017453292519943295]],PROJECTION[\\\"Lambert_Azimuthal_Equal_Area\\\"],PARAMETER[\\\"latitude_of_center\\\",52],PARAMETER[\\\"longitude_of_center\\\",10],PARAMETER[\\\"false_easting\\\",4321000],PARAMETER[\\\"false_northing\\\",3210000],UNIT[\\\"Meter\\\",1]]\",\n",
      "    \"driver\": \"ESRI Shapefile\",\n",
      "    \"schema\": {\n",
      "        \"geometry\": \"Polygon\",\n",
      "        \"properties\": {\n",
      "            \"IUCN\": \"str:2\",\n",
      "            \"KAT\": \"str:4\",\n",
      "            \"KOD\": \"int:10\",\n",
      "            \"NAZEV\": \"str:27\",\n",
      "            \"OBJECTID\": \"int:10\",\n",
      "            \"OP_TYP\": \"str:3\",\n",
      "            \"PREKRYV\": \"int:10\",\n",
      "            \"ROZL\": \"float:24.15\",\n",
      "            \"SHAPE.AREA\": \"float:24.15\",\n",
      "            \"SHAPE.LEN\": \"float:24.15\",\n",
      "            \"ZMENA_G\": \"int:10\",\n",
      "            \"ZMENA_T\": \"int:10\",\n",
      "            \"ZONA\": \"str:3\",\n",
      "            \"gml_id\": \"str:80\"\n",
      "        }\n",
      "    }\n",
      "}\n"
     ]
    }
   ],
   "source": [
    "# try better format\n",
    "import json\n",
    "print(json.dumps(chko.meta, sort_keys=True, indent=4, separators=(',', ': ')))"
   ]
  },
  {
   "cell_type": "markdown",
   "metadata": {},
   "source": [
    "## Features in collections\n",
    "Features within opened collection can be iterated"
   ]
  },
  {
   "cell_type": "code",
   "execution_count": 12,
   "metadata": {},
   "outputs": [
    {
     "name": "stdout",
     "output_type": "stream",
     "text": [
      "5626\n"
     ]
    }
   ],
   "source": [
    "print(len(chko))"
   ]
  },
  {
   "cell_type": "markdown",
   "metadata": {},
   "source": [
    "## Coordinate reference systems\n",
    "Fiona comes with primitive tools for dealing with coordinate reference systems, with GDAL library in the background"
   ]
  },
  {
   "cell_type": "code",
   "execution_count": 22,
   "metadata": {},
   "outputs": [
    {
     "name": "stdout",
     "output_type": "stream",
     "text": [
      "+init=epsg:4326\n"
     ]
    }
   ],
   "source": [
    "natural = fiona.open('../../data/protected_areas-etrs.shp', 'r')\n",
    "from fiona.crs import to_string\n",
    "print(to_string(natural.crs))"
   ]
  },
  {
   "cell_type": "markdown",
   "metadata": {},
   "source": [
    "Simillary, new CRS definition can be created"
   ]
  },
  {
   "cell_type": "code",
   "execution_count": 13,
   "metadata": {},
   "outputs": [
    {
     "data": {
      "text/plain": [
       "{'init': 'epsg:3857', 'no_defs': True}"
      ]
     },
     "execution_count": 13,
     "metadata": {},
     "output_type": "execute_result"
    }
   ],
   "source": [
    "from fiona.crs import from_epsg\n",
    "from_epsg(3857)"
   ]
  },
  {
   "cell_type": "markdown",
   "metadata": {},
   "source": [
    "## Walking through features\n",
    "we can either iterate through available features"
   ]
  },
  {
   "cell_type": "code",
   "execution_count": 14,
   "metadata": {},
   "outputs": [
    {
     "name": "stdout",
     "output_type": "stream",
     "text": [
      "Polygon\n",
      "Polygon\n",
      "Polygon\n",
      "Polygon\n",
      "Polygon\n",
      "Polygon\n",
      "Polygon\n",
      "Polygon\n",
      "Polygon\n",
      "Polygon\n"
     ]
    }
   ],
   "source": [
    "for feature in chko[0:10]:\n",
    "    print(feature['geometry']['type'])"
   ]
  },
  {
   "cell_type": "markdown",
   "metadata": {},
   "source": [
    "or particular feature can be choosed"
   ]
  },
  {
   "cell_type": "code",
   "execution_count": 15,
   "metadata": {},
   "outputs": [
    {
     "name": "stdout",
     "output_type": "stream",
     "text": [
      "ÄeskÃ½ rÃ¡j\n"
     ]
    }
   ],
   "source": [
    "print(chko[54]['properties']['NAZEV'])"
   ]
  },
  {
   "cell_type": "markdown",
   "metadata": {},
   "source": [
    "## Feature geometry and shapely library\n",
    "[Shapely](http://toblerity.org/shapely) converts feature geometry into GeoJSON structure. It also contains tools for geometry manipulations"
   ]
  },
  {
   "cell_type": "code",
   "execution_count": 16,
   "metadata": {},
   "outputs": [
    {
     "data": {
      "text/plain": [
       "(4685576.577618335, 3067490.2318713292, 4687748.187993193, 3069132.552762671)"
      ]
     },
     "execution_count": 16,
     "metadata": {},
     "output_type": "execute_result"
    }
   ],
   "source": [
    "from shapely.geometry import shape\n",
    "cr = chko[54]\n",
    "poly = shape(cr['geometry'])\n",
    "poly.bounds"
   ]
  },
  {
   "cell_type": "markdown",
   "metadata": {},
   "source": [
    "Now we can either generalize given geometry or create buffer"
   ]
  },
  {
   "cell_type": "code",
   "execution_count": 18,
   "metadata": {},
   "outputs": [
    {
     "data": {
      "text/plain": [
       "True"
      ]
     },
     "execution_count": 18,
     "metadata": {},
     "output_type": "execute_result"
    }
   ],
   "source": [
    "simple = poly.simplify(10)\n",
    "simple.intersects(poly)\n",
    "buff = poly.buffer(10)\n",
    "buff.contains(poly)"
   ]
  },
  {
   "cell_type": "markdown",
   "metadata": {},
   "source": [
    "some feature attributes can be fixed as well, at the end, we write new created feature down"
   ]
  },
  {
   "cell_type": "code",
   "execution_count": null,
   "metadata": {
    "collapsed": true
   },
   "outputs": [],
   "source": [
    "from shapely.geometry import mapping\n",
    "feature = cr.copy()\n",
    "feature.update(id=-1, geometry=mapping(buff))\n",
    "feature[\"properties\"].update(NAZEV=\"Mordor\")\n",
    "print(feature[\"properties\"].keys())\n",
    "print(chko.schema[\"properties\"].keys())\n",
    "chko = fiona.open('../../data/protected_areas-etrs.shp', 'a')\n",
    "print(\"Features before: %d \" % len(chko))\n",
    "chko.write(feature)\n",
    "print(\"Features after: %d \" % len(chko))\n",
    "chko.close()"
   ]
  },
  {
   "cell_type": "markdown",
   "metadata": {},
   "source": [
    "---\n",
    "[<- Introduction to vectors](00_introduction.ipynb) | [GDAL ->](02_ogr.ipynb)"
   ]
  }
 ],
 "metadata": {
  "kernelspec": {
   "display_name": "Python 3",
   "language": "python",
   "name": "python3"
  },
  "language_info": {
   "codemirror_mode": {
    "name": "ipython",
    "version": 3
   },
   "file_extension": ".py",
   "mimetype": "text/x-python",
   "name": "python",
   "nbconvert_exporter": "python",
   "pygments_lexer": "ipython3",
   "version": "3.6.5"
  }
 },
 "nbformat": 4,
 "nbformat_minor": 1
}
