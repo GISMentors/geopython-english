{
 "cells": [
  {
   "cell_type": "markdown",
   "metadata": {},
   "source": [
    "# Fiona and Shapely\n",
    "\n",
    "[Fiona](http://toblerity.org/fiona/) is build on top of OGR and it introduces the object-oriented approach to the work with vector data. The data are re-mapped in to [GeoJSON](http://geojson.org) structure. The interaction is more straight-forward compared to OGR.\n",
    "\n",
    "Fiona is not suited to be the best for all tasks - simplicity is buyed back by the fact, all data need to be loaded in memmory. Also speed can be lower, when dealing with larger amounts of data. Where OGR uses pointers, Fiona has to deal with whole python objects. Generally: if you need to filter vector features, OGR should be faster, if you need to work with features sequentially, Fiona should be better.\n",
    "\n",
    "**Note**:\n",
    "> Fiona is great for binary data formats. For JSON, use the `json` python package. For data stored in database, use standard Python database interface.\n",
    "\n",
    "[Shapely](http://toblerity.org/shapely/manual.html) Shapely is a Python package for set-theoretic analysis and manipulation of planar features using (via Python’s ctypes module) functions from the well known and widely deployed GEOS library. \n",
    "\n",
    "**Short version:** \n",
    "> Fiona is here for attribute and whole data source manipulation, Shapely just manupulates vector data geometries."
   ]
  },
  {
   "cell_type": "markdown",
   "metadata": {},
   "source": [
    "## Open data source"
   ]
  },
  {
   "cell_type": "markdown",
   "metadata": {},
   "source": [
    "First we need to create so called collection of features:"
   ]
  },
  {
   "cell_type": "code",
   "execution_count": 5,
   "metadata": {},
   "outputs": [
    {
     "data": {
      "text/plain": [
       "<open Collection '../../data/natural.shp:natural', mode 'r' at 0x7f63041374a8>"
      ]
     },
     "execution_count": 5,
     "metadata": {},
     "output_type": "execute_result"
    }
   ],
   "source": [
    "import fiona\n",
    "chko = fiona.open('../../data/protected_areas-etrs.shp', 'r') # collection - data are stored in ../../data directory \n",
    "chko"
   ]
  },
  {
   "cell_type": "markdown",
   "metadata": {},
   "source": [
    "We can now mine some metadata about this feature collection, see [documentation](http://toblerity.org/fiona/manual.html)"
   ]
  },
  {
   "cell_type": "code",
   "execution_count": 6,
   "metadata": {},
   "outputs": [
    {
     "data": {
      "text/plain": [
       "'ESRI Shapefile'"
      ]
     },
     "execution_count": 6,
     "metadata": {},
     "output_type": "execute_result"
    }
   ],
   "source": [
    "# driver\n",
    "chko.driver"
   ]
  },
  {
   "cell_type": "code",
   "execution_count": 8,
   "metadata": {},
   "outputs": [
    {
     "data": {
      "text/plain": [
       "{'init': 'epsg:4326'}"
      ]
     },
     "execution_count": 8,
     "metadata": {},
     "output_type": "execute_result"
    }
   ],
   "source": [
    "# coordinate reference system\n",
    "chko.crs"
   ]
  },
  {
   "cell_type": "code",
   "execution_count": 9,
   "metadata": {},
   "outputs": [
    {
     "data": {
      "text/plain": [
       "'../../data/natural.shp'"
      ]
     },
     "execution_count": 9,
     "metadata": {},
     "output_type": "execute_result"
    }
   ],
   "source": [
    "# file name\n",
    "chko.path"
   ]
  },
  {
   "cell_type": "code",
   "execution_count": 10,
   "metadata": {},
   "outputs": [
    {
     "data": {
      "text/plain": [
       "'natural'"
      ]
     },
     "execution_count": 10,
     "metadata": {},
     "output_type": "execute_result"
    }
   ],
   "source": [
    "# layer name\n",
    "chko.name"
   ]
  },
  {
   "cell_type": "code",
   "execution_count": 11,
   "metadata": {},
   "outputs": [
    {
     "data": {
      "text/plain": [
       "(12.0223154, 48.52299, 18.8836457, 51.0767239)"
      ]
     },
     "execution_count": 11,
     "metadata": {},
     "output_type": "execute_result"
    }
   ],
   "source": [
    "# bounding box coordinates\n",
    "chko.bounds"
   ]
  },
  {
   "cell_type": "code",
   "execution_count": 12,
   "metadata": {},
   "outputs": [
    {
     "name": "stdout",
     "output_type": "stream",
     "text": [
      "{'schema': {'geometry': 'Polygon', 'properties': OrderedDict([('osm_id', 'str:11'), ('name', 'str:48'), ('type', 'str:16')])}, 'driver': 'ESRI Shapefile', 'crs_wkt': 'GEOGCS[\"GCS_WGS_1984\",DATUM[\"WGS_1984\",SPHEROID[\"WGS_84\",6378137,298.257223563]],PRIMEM[\"Greenwich\",0],UNIT[\"Degree\",0.017453292519943295],AUTHORITY[\"EPSG\",\"4326\"]]', 'crs': {'init': 'epsg:4326'}}\n"
     ]
    }
   ],
   "source": [
    "# everything in one step\n",
    "print(chko.meta)"
   ]
  },
  {
   "cell_type": "code",
   "execution_count": 15,
   "metadata": {},
   "outputs": [
    {
     "name": "stdout",
     "output_type": "stream",
     "text": [
      "{\n",
      "    \"crs\": {\n",
      "        \"init\": \"epsg:4326\"\n",
      "    },\n",
      "    \"crs_wkt\": \"GEOGCS[\\\"GCS_WGS_1984\\\",DATUM[\\\"WGS_1984\\\",SPHEROID[\\\"WGS_84\\\",6378137,298.257223563]],PRIMEM[\\\"Greenwich\\\",0],UNIT[\\\"Degree\\\",0.017453292519943295],AUTHORITY[\\\"EPSG\\\",\\\"4326\\\"]]\",\n",
      "    \"driver\": \"ESRI Shapefile\",\n",
      "    \"schema\": {\n",
      "        \"geometry\": \"Polygon\",\n",
      "        \"properties\": {\n",
      "            \"name\": \"str:48\",\n",
      "            \"osm_id\": \"str:11\",\n",
      "            \"type\": \"str:16\"\n",
      "        }\n",
      "    }\n",
      "}\n"
     ]
    }
   ],
   "source": [
    "# try better format\n",
    "import json\n",
    "print(json.dumps(chko.meta, sort_keys=True, indent=4, separators=(',', ': ')))"
   ]
  },
  {
   "cell_type": "markdown",
   "metadata": {},
   "source": [
    "## Features in collections\n",
    "Features within opened collection can be iterated"
   ]
  },
  {
   "cell_type": "code",
   "execution_count": 21,
   "metadata": {},
   "outputs": [
    {
     "name": "stdout",
     "output_type": "stream",
     "text": [
      "96115\n"
     ]
    }
   ],
   "source": [
    "print(len(chko))"
   ]
  },
  {
   "cell_type": "markdown",
   "metadata": {},
   "source": [
    "## Coordinate reference systems\n",
    "Fiona comes with primitive tools for dealing with coordinate reference systems, with GDAL library in the background"
   ]
  },
  {
   "cell_type": "code",
   "execution_count": 22,
   "metadata": {},
   "outputs": [
    {
     "name": "stdout",
     "output_type": "stream",
     "text": [
      "+init=epsg:4326\n"
     ]
    }
   ],
   "source": [
    "natural = fiona.open('../../data/protected_areas-etrs.shp', 'r')\n",
    "from fiona.crs import to_string\n",
    "print(to_string(natural.crs))"
   ]
  },
  {
   "cell_type": "markdown",
   "metadata": {},
   "source": [
    "Simillary, new CRS definition can be created"
   ]
  },
  {
   "cell_type": "code",
   "execution_count": 23,
   "metadata": {},
   "outputs": [
    {
     "data": {
      "text/plain": [
       "{'init': 'epsg:3857', 'no_defs': True}"
      ]
     },
     "execution_count": 23,
     "metadata": {},
     "output_type": "execute_result"
    }
   ],
   "source": [
    "from fiona.crs import from_epsg\n",
    "from_epsg(3857)"
   ]
  },
  {
   "cell_type": "markdown",
   "metadata": {},
   "source": [
    "## Walking through features\n",
    "we can either iterate through available features"
   ]
  },
  {
   "cell_type": "code",
   "execution_count": 25,
   "metadata": {},
   "outputs": [
    {
     "name": "stdout",
     "output_type": "stream",
     "text": [
      "Polygon\n",
      "Polygon\n",
      "Polygon\n",
      "Polygon\n",
      "Polygon\n",
      "Polygon\n",
      "Polygon\n",
      "Polygon\n",
      "Polygon\n",
      "Polygon\n"
     ]
    }
   ],
   "source": [
    "for feature in chko[0:10]:\n",
    "    print(feature['geometry']['type'])"
   ]
  },
  {
   "cell_type": "markdown",
   "metadata": {},
   "source": [
    "or particular feature can be choosed"
   ]
  },
  {
   "cell_type": "code",
   "execution_count": 28,
   "metadata": {},
   "outputs": [
    {
     "name": "stdout",
     "output_type": "stream",
     "text": [
      "OrderedDict([('osm_id', '4704319'), ('name', 'Máchovo jezero'), ('type', 'water')])\n"
     ]
    }
   ],
   "source": [
    "print(chko[54]['properties']['NAZEV'])"
   ]
  },
  {
   "cell_type": "markdown",
   "metadata": {},
   "source": [
    "## Feature geometry and shapely library\n",
    "[Shapely](http://toblerity.org/shapely) converts feature geometry into GeoJSON structure. It also contains tools for geometry manipulations"
   ]
  },
  {
   "cell_type": "code",
   "execution_count": 29,
   "metadata": {},
   "outputs": [
    {
     "ename": "ImportError",
     "evalue": "No module named 'shapely'",
     "output_type": "error",
     "traceback": [
      "\u001b[0;31m---------------------------------------------------------------------------\u001b[0m",
      "\u001b[0;31mImportError\u001b[0m                               Traceback (most recent call last)",
      "\u001b[0;32m<ipython-input-29-812e46a7f43f>\u001b[0m in \u001b[0;36m<module>\u001b[0;34m()\u001b[0m\n\u001b[0;32m----> 1\u001b[0;31m \u001b[0;32mfrom\u001b[0m \u001b[0mshapely\u001b[0m\u001b[0;34m.\u001b[0m\u001b[0mgeometry\u001b[0m \u001b[0;32mimport\u001b[0m \u001b[0mshape\u001b[0m\u001b[0;34m\u001b[0m\u001b[0m\n\u001b[0m\u001b[1;32m      2\u001b[0m \u001b[0mcr\u001b[0m \u001b[0;34m=\u001b[0m \u001b[0mchko\u001b[0m\u001b[0;34m[\u001b[0m\u001b[0;36m54\u001b[0m\u001b[0;34m]\u001b[0m\u001b[0;34m\u001b[0m\u001b[0m\n\u001b[1;32m      3\u001b[0m \u001b[0mpoly\u001b[0m \u001b[0;34m=\u001b[0m \u001b[0mshape\u001b[0m\u001b[0;34m(\u001b[0m\u001b[0mcr\u001b[0m\u001b[0;34m[\u001b[0m\u001b[0;34m'geometry'\u001b[0m\u001b[0;34m]\u001b[0m\u001b[0;34m)\u001b[0m\u001b[0;34m\u001b[0m\u001b[0m\n\u001b[1;32m      4\u001b[0m \u001b[0mpoly\u001b[0m\u001b[0;34m.\u001b[0m\u001b[0mbounds\u001b[0m\u001b[0;34m\u001b[0m\u001b[0m\n",
      "\u001b[0;31mImportError\u001b[0m: No module named 'shapely'"
     ]
    }
   ],
   "source": [
    "from shapely.geometry import shape\n",
    "cr = chko[54]\n",
    "poly = shape(cr['geometry'])\n",
    "poly.bounds"
   ]
  },
  {
   "cell_type": "markdown",
   "metadata": {},
   "source": [
    "Now we can either generalize given geometry or create buffer"
   ]
  },
  {
   "cell_type": "code",
   "execution_count": null,
   "metadata": {
    "collapsed": true
   },
   "outputs": [],
   "source": [
    "simple = poly.simplify(10)\n",
    "simple.intersects(poly)\n",
    "buff = poly.buffer(10)\n",
    "buff.contains(poly)"
   ]
  },
  {
   "cell_type": "markdown",
   "metadata": {},
   "source": [
    "some feature attributes can be fixed as well, at the end, we write new created feature down"
   ]
  },
  {
   "cell_type": "code",
   "execution_count": null,
   "metadata": {
    "collapsed": true
   },
   "outputs": [],
   "source": [
    "from shapely.geometry import mapping\n",
    "feature = cr.copy()\n",
    "feature.update(id=-1, geometry=mapping(buff))\n",
    "feature[\"properties\"].update(NAZEV=\"Mordor\")\n",
    "print(feature[\"properties\"].keys())\n",
    "print(chko.schema[\"properties\"].keys())\n",
    "chko = fiona.open('../../data/protected_areas-etrs.shp', 'a')\n",
    "print(\"Features before: %d \" % len(chko))\n",
    "chko.write(feature)\n",
    "print(\"Features after: %d \" % len(chko))\n",
    "chko.close()"
   ]
  },
  {
   "cell_type": "markdown",
   "metadata": {},
   "source": [
    "---\n",
    "[<- Introduction to vectors](00_introduction.ipynb) | [GDAL ->](02_ogr.ipynb)"
   ]
  }
 ],
 "metadata": {
  "kernelspec": {
   "display_name": "Python 3",
   "language": "python",
   "name": "python3"
  },
  "language_info": {
   "codemirror_mode": {
    "name": "ipython",
    "version": 3
   },
   "file_extension": ".py",
   "mimetype": "text/x-python",
   "name": "python",
   "nbconvert_exporter": "python",
   "pygments_lexer": "ipython3",
   "version": "3.6.5"
  }
 },
 "nbformat": 4,
 "nbformat_minor": 1
}
