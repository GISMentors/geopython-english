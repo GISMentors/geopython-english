{
 "cells": [
  {
   "cell_type": "markdown",
   "metadata": {},
   "source": [
    "# GeoDjango\n",
    "\n",
    "## Django and GIS\n",
    "\n",
    "```\n",
    "$ pip search django gis\n",
    "\n",
    "django-gis-brasil (0.3)                   - Django GIS Brasil is a Django app\n",
    "protobuf-gis (1.0.3)                      - GIS ProtoBuf module\n",
    "django-pyodbc-gis (0.0.7)                 - GIS support for SQL Server, on top\n",
    "gis (0.2.1)                               - async + http2 + postgis + openapi\n",
    "gis-metadata-parser (1.0)                 - Parser for GIS metadata standards\n",
    "djangorestframework-gis (0.13)            - Geographic add-ons for Django Rest\n",
    "django-gis-timezones (1.0a3)              - Simple model to save timezones\n",
    "cxc-gis (0.2.1)                           - Geographic information system lib\n",
    "django-geoware (0.1.0)                    - A Django application for handling\n",
    "...\n",
    "[ 100 lines]\n",
    "```\n",
    "\n",
    "## `django.contrib.gis`"
   ]
  },
  {
   "cell_type": "markdown",
   "metadata": {},
   "source": [
    "[django.contrib.gis (GeoDjango)](https://docs.djangoproject.com/en/2.0/ref/contrib/gis/) intends to be a world-class geographic Web framework. Its goal is to make it as easy as possible to build GIS Web applications and harness the power of spatially enabled data.\n",
    "\n",
    "GeoDjango (or GIS Django) adds some new data types to standard [Django web framework](https://www.djangoproject.com/).\n",
    "\n",
    "* GeometryField\n",
    "* PointField\n",
    "* LineStringField\n",
    "* PolygonField\n",
    "* MultiPointField\n",
    "* MultiLineStringField\n",
    "* MultiPolygonField\n",
    "* GeometryCollectionField\n",
    "* RasterField"
   ]
  },
  {
   "cell_type": "code",
   "execution_count": null,
   "metadata": {},
   "outputs": [],
   "source": [
    "from django.contrib.gis.db import models\n",
    "\n",
    "class Street(models.Model):\n",
    "    \n",
    "    name = models.CharField(max_length=50)\n",
    "    width = models.FloatField()\n",
    "    geometry = models.LineStringField()\n",
    "    \n",
    "    "
   ]
  },
  {
   "cell_type": "markdown",
   "metadata": {},
   "source": [
    "## Backend\n",
    "\n",
    "### Spatial-enabled database\n",
    "\n",
    "Database | Library Requirements | Supported Versions | Notes\n",
    "-------- | -------------------- | ------------------ | ------\n",
    "PostgreSQL | GEOS, GDAL, PROJ.4, PostGIS | 9.3+  | Requires PostGIS.\n",
    "MySQL | GEOS, GDAL | 5.5+ | Not OGC-compliant; limited functionality.\n",
    "Oracle | GEOS, GDAL | 12.1+ | XE not supported.\n",
    "SQLite | GEOS, GDAL, PROJ.4, SpatiaLite \t3.6.+ | Requires SpatiaLite 4.0+\n",
    "\n",
    "### Libraries\n",
    "\n",
    "#### GDAL\n",
    "\n",
    "http://gdal.org/ is a translator library for raster and vector geospatial data formats that is released under an X/MIT style Open Source license by the Open Source Geospatial Foundation. As a library, it presents a single raster abstract data model and single vector abstract data model to the calling application for all supported formats. It also comes with a variety of useful command line utilities for data translation and processing. \n",
    "\n",
    "#### GEOS\n",
    "\n",
    "https://trac.osgeo.org/geos/ (Geometry Engine - Open Source) is a C++ port of the ​Java Topology Suite (JTS). As such, it aims to contain the complete functionality of JTS in C++. This includes all the ​OpenGIS Simple Features for SQL spatial predicate functions and spatial operators, as well as specific JTS enhanced topology functions. \n",
    "\n",
    "* Geometries: Point, LineString, Polygon, MultiPoint, MultiLineString, MultiPolygon, GeometryCollection\n",
    "* Predicates: Intersects, Touches, Disjoint, Crosses, Within, Contains, Overlaps, Equals, Covers\n",
    "* Operations: Union, Distance, Intersection, Symmetric Difference, Convex Hull, Envelope, Buffer, Simplify, Polygon Assembly, Valid, Area, Length,\n",
    "* Prepared geometries (pre-spatially indexed)\n",
    "* STR spatial index \n",
    "* ...\n",
    "\n",
    "#### PROJ.4\n",
    "\n",
    "https://proj4.org/ PROJ is a standard UNIX filter function which converts geographic longitude and latitude coordinates into cartesian coordinates (and vice versa), and it is a C API for software developers to include coordinate transformation in their own software. "
   ]
  },
  {
   "cell_type": "markdown",
   "metadata": {},
   "source": [
    "---\n",
    "[<- Projections](../05_projections/01_projections.ipynb)"
   ]
  }
 ],
 "metadata": {
  "kernelspec": {
   "display_name": "Python 3",
   "language": "python",
   "name": "python3"
  },
  "language_info": {
   "codemirror_mode": {
    "name": "ipython",
    "version": 3
   },
   "file_extension": ".py",
   "mimetype": "text/x-python",
   "name": "python",
   "nbconvert_exporter": "python",
   "pygments_lexer": "ipython3",
   "version": "3.6.5"
  }
 },
 "nbformat": 4,
 "nbformat_minor": 2
}
