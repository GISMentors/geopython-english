{
 "cells": [
  {
   "cell_type": "markdown",
   "metadata": {},
   "source": [
    "# GeoDjango\n",
    "\n",
    "[GeoDjango](https://docs.djangoproject.com/en/2.0/ref/contrib/gis/) intends to be a world-class geographic Web framework. Its goal is to make it as easy as possible to build GIS Web applications and harness the power of spatially enabled data.\n",
    "\n",
    "GeoDjango (or GIS Django) adds some new data types to standard [Django web framework](https://www.djangoproject.com/).\n",
    "\n",
    "* GeometryField\n",
    "* PointField\n",
    "* LineStringField\n",
    "* PolygonField\n",
    "* MultiPointField\n",
    "* MultiLineStringField\n",
    "* MultiPolygonField\n",
    "* GeometryCollectionField\n",
    "* RasterField\n",
    "\n"
   ]
  }
 ],
 "metadata": {
  "kernelspec": {
   "display_name": "Python 3",
   "language": "python",
   "name": "python3"
  },
  "language_info": {
   "codemirror_mode": {
    "name": "ipython",
    "version": 3
   },
   "file_extension": ".py",
   "mimetype": "text/x-python",
   "name": "python",
   "nbconvert_exporter": "python",
   "pygments_lexer": "ipython3",
   "version": "3.6.5"
  }
 },
 "nbformat": 4,
 "nbformat_minor": 2
}
